{
 "cells": [
  {
   "cell_type": "code",
   "execution_count": 2,
   "id": "81eeec71",
   "metadata": {},
   "outputs": [
    {
     "name": "stderr",
     "output_type": "stream",
     "text": [
      "<>:8: SyntaxWarning: invalid escape sequence '\\G'\n",
      "<>:8: SyntaxWarning: invalid escape sequence '\\G'\n",
      "C:\\Users\\91882\\AppData\\Local\\Temp\\ipykernel_6356\\19908999.py:8: SyntaxWarning: invalid escape sequence '\\G'\n",
      "  os.environ[\"GOOGLE_APPLICATION_CREDENTIALS\"] = \"D:\\GenAI-Hackathon\\dashtest-472304-2293013ef343.json\"\n"
     ]
    }
   ],
   "source": [
    "from google.cloud import aiplatform\n",
    "from langchain_google_vertexai import VertexAIEmbeddings\n",
    "import os\n",
    "from google.cloud.aiplatform.matching_engine.matching_engine_index_endpoint import (\n",
    "    Namespace,\n",
    "    NumericNamespace,\n",
    ")\n",
    "os.environ[\"GOOGLE_APPLICATION_CREDENTIALS\"] = \"D:\\GenAI-Hackathon\\dashtest-472304-2293013ef343.json\"\n",
    "# TODO : Set values as per your requirements\n",
    "# Project and Storage Constants\n",
    "PROJECT_ID = \"dashtest-472304\"\n",
    "REGION = \"europe-west4\"\n",
    "BUCKET = \"regulations-vector-search\"\n",
    "BUCKET_URI = f\"gs://{BUCKET}\"\n",
    "\n",
    "# The number of dimensions for the textembedding-gecko@003 is 768\n",
    "# If other embedder is used, the dimensions would probably need to change.\n",
    "DIMENSIONS = 768\n",
    "\n",
    "# Index Constants\n",
    "DISPLAY_NAME = \"regulation-index-2\"\n",
    "DEPLOYED_INDEX_ID = \"299753258010804224\"\n"
   ]
  },
  {
   "cell_type": "code",
   "execution_count": 6,
   "id": "47a17e6c",
   "metadata": {},
   "outputs": [],
   "source": [
    "aiplatform.init(project=PROJECT_ID, location=REGION, staging_bucket=BUCKET_URI) "
   ]
  },
  {
   "cell_type": "code",
   "execution_count": 7,
   "id": "3677c4b4",
   "metadata": {},
   "outputs": [
    {
     "name": "stderr",
     "output_type": "stream",
     "text": [
      "d:\\GenAI-Hackathon\\.venv\\Lib\\site-packages\\vertexai\\_model_garden\\_model_garden_models.py:278: UserWarning: This feature is deprecated as of June 24, 2025 and will be removed on June 24, 2026. For details, see https://cloud.google.com/vertex-ai/generative-ai/docs/deprecations/genai-vertexai-sdk.\n",
      "  warning_logs.show_deprecation_warning()\n"
     ]
    }
   ],
   "source": [
    "embedding_model = VertexAIEmbeddings(model_name=\"text-embedding-005\")"
   ]
  },
  {
   "cell_type": "code",
   "execution_count": 8,
   "id": "f1823c67",
   "metadata": {},
   "outputs": [],
   "source": [
    "# TODO : replace 1234567890123456789 with your acutial index ID\n",
    "my_index = aiplatform.MatchingEngineIndex(index_name=\"projects/513267201789/locations/europe-west4/indexes/299753258010804224\")\n",
    "\n",
    "my_index_endpoint = aiplatform.MatchingEngineIndexEndpoint(index_endpoint_name=\"projects/513267201789/locations/europe-west4/indexEndpoints/8262363689806462976\")"
   ]
  },
  {
   "cell_type": "code",
   "execution_count": 9,
   "id": "313b7683",
   "metadata": {},
   "outputs": [],
   "source": [
    "from langchain_google_vertexai import (\n",
    "    VectorSearchVectorStore,\n",
    "    VectorSearchVectorStoreDatastore,\n",
    ")"
   ]
  },
  {
   "cell_type": "code",
   "execution_count": 10,
   "id": "9d8abc7f",
   "metadata": {},
   "outputs": [],
   "source": [
    "vector_store = VectorSearchVectorStore.from_components(\n",
    "    project_id=PROJECT_ID,\n",
    "    region=REGION,\n",
    "    gcs_bucket_name=BUCKET,\n",
    "    index_id=my_index.name,\n",
    "    endpoint_id=my_index_endpoint.name,\n",
    "    embedding=embedding_model,\n",
    "    stream_update=True,\n",
    ")\n"
   ]
  },
  {
   "cell_type": "code",
   "execution_count": 7,
   "id": "b439e834",
   "metadata": {},
   "outputs": [],
   "source": [
    "# vector_store.similarity_search(\"What does IEC 62304 section 5.1 say about software development planning?\")"
   ]
  },
  {
   "cell_type": "code",
   "execution_count": 8,
   "id": "acde7580",
   "metadata": {},
   "outputs": [],
   "source": [
    "from langchain_community.document_loaders import PyPDFLoader\n",
    "from langchain_text_splitters import RecursiveCharacterTextSplitter\n",
    "import PyPDF2"
   ]
  },
  {
   "cell_type": "code",
   "execution_count": 9,
   "id": "28cf27fd",
   "metadata": {},
   "outputs": [],
   "source": [
    "with open(r\"C:\\Users\\91882\\Downloads\\iec 62304-final.pdf\", 'rb') as pdf_file:\n",
    "    reader = PyPDF2.PdfReader(pdf_file)\n",
    "    pages_text = []\n",
    "    for page in reader.pages:\n",
    "        pages_text.append(page.extract_text())\n"
   ]
  },
  {
   "cell_type": "code",
   "execution_count": 10,
   "id": "58b208af",
   "metadata": {},
   "outputs": [],
   "source": [
    "text_splitter = RecursiveCharacterTextSplitter(\n",
    "    chunk_size=1000,   # adjust as needed\n",
    "    chunk_overlap=30\n",
    ")"
   ]
  },
  {
   "cell_type": "code",
   "execution_count": null,
   "id": "19c7159b",
   "metadata": {},
   "outputs": [],
   "source": [
    "# import re\n",
    "\n",
    "# def clean_text(text: str) -> str:\n",
    "#     if not text:\n",
    "#         return \"\"\n",
    "\n",
    "#     # 1. Remove non-ASCII characters (unicode junk like \\uf8e9)\n",
    "#     text = text.encode(\"ascii\", \"ignore\").decode()\n",
    "\n",
    "#     # 2. Split into lines for fine-grained filtering\n",
    "#     cleaned_lines = []\n",
    "#     for line in text.split(\"\\n\"):\n",
    "#         line = line.strip()\n",
    "\n",
    "#         if not line:\n",
    "#             continue\n",
    "\n",
    "#         # Skip page headers/footers like \"– 36 – IEC 62304:2006\"\n",
    "#         if re.match(r\"^–?\\s*\\d+\\s*–?\\s*IEC 62304\", line):\n",
    "#             continue\n",
    "\n",
    "#         # Skip page numbers\n",
    "#         if re.fullmatch(r\"\\d+\", line):\n",
    "#             continue\n",
    "\n",
    "#         # Skip copyright lines\n",
    "#         if re.search(r\"(IEC|ISO|FDA).*20\\d{2}\", line):\n",
    "#             continue\n",
    "\n",
    "#         # Skip TOC dots/dashes/backticks like \"......\", \"-----\", \"```\"\n",
    "#         if re.match(r\"^[\\.\\-`,]{3,}$\", line):\n",
    "#             continue\n",
    "\n",
    "#         cleaned_lines.append(line)\n",
    "\n",
    "#     # 3. Join lines back\n",
    "#     text = \" \".join(cleaned_lines)\n",
    "\n",
    "#     # 4. Fix hyphenated words broken across lines (\"test-\\ning\" → \"testing\")\n",
    "#     text = re.sub(r\"(\\w+)-\\s+(\\w+)\", r\"\\1\\2\", text)\n",
    "\n",
    "#     # 5. Remove leftover long runs of punctuation (`,,,`, \"```\", \"---\")\n",
    "#     text = re.sub(r\"[\\-`',\\.]{3,}\", \" \", text)\n",
    "\n",
    "#     # 6. Collapse multiple spaces\n",
    "#     text = re.sub(r\"\\s+\", \" \", text)\n",
    "\n",
    "#     return text.strip()\n"
   ]
  },
  {
   "cell_type": "code",
   "execution_count": null,
   "id": "8488bf4e",
   "metadata": {},
   "outputs": [],
   "source": [
    "# # Collect chunks with metadata\n",
    "# DOC_NAME= \"IEC-62304\"\n",
    "# docs = []\n",
    "# for page_num, page in enumerate(reader.pages, start=1):\n",
    "#     page_text = page.extract_text()\n",
    "#     if not page_text:\n",
    "#         continue\n",
    "#     page_text = clean_text(page_text)\n",
    "#     chunks = text_splitter.split_text(page_text)\n",
    "    \n",
    "#     if chunks:\n",
    "#         for chunk in chunks:\n",
    "#             docs.append({\n",
    "#                 \"page_content\": chunk,\n",
    "#                 \"metadata\": {\n",
    "#                     \"doc_name\": DOC_NAME,\n",
    "#                     \"page_number\": page_num\n",
    "#                 }\n",
    "#             })"
   ]
  },
  {
   "cell_type": "code",
   "execution_count": null,
   "id": "6d85f5fb",
   "metadata": {},
   "outputs": [],
   "source": [
    "docs"
   ]
  },
  {
   "cell_type": "code",
   "execution_count": null,
   "id": "b76b917e",
   "metadata": {},
   "outputs": [
    {
     "name": "stdout",
     "output_type": "stream",
     "text": [
      "Upserting datapoints MatchingEngineIndex index: projects/513267201789/locations/europe-west4/indexes/299753258010804224\n",
      "MatchingEngineIndex index Upserted datapoints. Resource name: projects/513267201789/locations/europe-west4/indexes/299753258010804224\n"
     ]
    },
    {
     "data": {
      "text/plain": [
       "['a07f6eaf-7f93-4b1e-beb7-59948cfe4a83',\n",
       " '1f1ea6a6-30ae-4f53-9064-c90c7535367e',\n",
       " '1080b417-49c3-4e2b-99f0-9350f1be4945',\n",
       " '09936bdc-315d-4c64-b826-08dca57a7e94',\n",
       " '064e3433-0259-4ef9-b472-047ea9867998',\n",
       " '679537e5-a330-4f8d-823a-bb29ff1bb309',\n",
       " '55d00896-67a2-4b78-8767-e066b7e78b8f',\n",
       " '64b4c651-7751-4217-b1c9-c17075b90b8f',\n",
       " '1ff78b21-5436-41e1-a78c-d4e06c20587c',\n",
       " '461210c0-5400-4bc3-906d-975c6aa33cbf',\n",
       " '59798889-0064-4510-ae29-d4427b8f3349',\n",
       " '0e8abe88-bf78-49e9-a248-cfddd22b219c',\n",
       " '62268333-e8f0-491f-b006-79ac8ad38ef8',\n",
       " 'fc13d37e-36c5-41b6-a0aa-3f727873eb68',\n",
       " '676c792f-63a2-4c09-a238-de1ebfef21ea',\n",
       " 'ef7a7edf-cc69-40f4-86b6-4cb6aaf80134',\n",
       " '883fe63c-aaee-4bd1-a87f-db7cf6992602',\n",
       " 'f047ad0f-fb10-4f38-90d4-06902731523d',\n",
       " '6d29c945-debb-4596-bb1a-bb14033b7fb9',\n",
       " 'd55db2a5-d564-4c68-a952-08708dfd2d4e',\n",
       " 'c0bcfbe2-3e5a-4b50-ae29-4a29297f828a',\n",
       " 'f74e077c-f668-4c7a-b4ef-10272fa35eee',\n",
       " '4635a847-7503-4449-9cd2-facc96495ca3',\n",
       " 'cccffa50-9ace-4848-9962-55295423701e',\n",
       " '5d627508-011a-41b5-8dcb-76226e2b2f56',\n",
       " 'e4ac822d-397a-4218-a216-4c18d1e929d5',\n",
       " '353e3a07-6624-455a-8149-ad1d30d77190',\n",
       " '27362885-997d-4121-b5c8-f118e8ddc72b',\n",
       " '0f84a9d5-fb1d-4bb2-adce-d1d9193a959f',\n",
       " 'ab438342-1611-4c60-a5e9-14dcdbced4f4',\n",
       " '5550dd43-1371-4545-bba2-99e6265952b3',\n",
       " '4cd1fb0a-675c-4f55-b589-5ea8d5857f28',\n",
       " 'f88a59e0-c84d-43e8-ac50-8492e0fb6159',\n",
       " '24cfdf53-936e-4d56-a710-fa8fcd87ebdb',\n",
       " '014d3dd0-398e-4937-9ed6-10a366c03f3e',\n",
       " '7195af1e-46ad-4114-90a6-0fc8ad357350',\n",
       " 'd3dd131a-fb3f-4a8e-8513-a7cbe099a429',\n",
       " 'dceff67b-a4fc-482a-9db6-cec7f4c47c5b',\n",
       " '865c143c-23d9-44fe-a1ff-dea005272798',\n",
       " '4efa3ccd-a60c-456b-8d59-ae8c3d9b89e8',\n",
       " '4bde5dce-a8cb-4aee-8211-6bfb4c9c3ca6',\n",
       " '5a28ea6f-c3ad-4fc6-953b-9dff4908576f',\n",
       " '08ccfede-43b6-4f9c-8144-747b05c51eb9',\n",
       " '493809e4-d474-4d1c-88df-74ad4e0d66de',\n",
       " 'e3c89481-2636-411c-8ffc-dd5d77e96d28',\n",
       " 'b339035b-0153-43c7-83e9-927eeff6c8aa',\n",
       " '61013e64-2c1e-4667-b716-3ae3fd36b84e',\n",
       " 'fb7346ea-223b-4501-9bc8-e13d3122a2aa',\n",
       " 'e7e55dbb-5f61-4014-91dd-45e9c3c852e8',\n",
       " 'b84024c5-0da7-4d8b-882b-51a7151cf37d',\n",
       " '88c8524c-4ca2-48cb-a2f5-439829baf000',\n",
       " '01920275-4dd4-4b4f-878f-8f5247491ccf',\n",
       " '599a21ec-5faf-465b-878a-ab2247f521b5',\n",
       " '827410a6-1c4a-4cc7-9d1b-9e3dee1e1b00',\n",
       " '1751460d-7d7c-4984-b64e-d72ac1a4e9d5',\n",
       " '4d33501e-e1ed-4e28-a4bd-6a2a5a90d331',\n",
       " '1d3a8db5-a381-4c4f-b9c1-43a25de2e439',\n",
       " 'fb929fe0-734b-486e-a288-82bf64968769',\n",
       " '0e0144fc-1fa8-4ca0-9935-9f378716fb5d',\n",
       " '2bd28a1f-2830-4a97-932e-7d35be3fb4dc',\n",
       " 'b52f89e1-0fad-4218-b28e-5b22fc2ac266',\n",
       " 'd911181e-1c84-4dc8-a27f-4af877a1765e',\n",
       " 'f17c0543-6f29-4f49-a2b1-aa69454dfeec',\n",
       " '5c8c4ba5-9636-49a7-9f6d-414e7a19d39f',\n",
       " '78990efc-615e-49ab-8779-6553455f12d1',\n",
       " '8ee6a763-d000-4ae6-a9f5-a2bd472644f5',\n",
       " '27d29553-d6a5-4ff1-a2cd-09238e0fd11e',\n",
       " '367679b4-6afb-4d58-b4a9-8776badd1db2',\n",
       " 'a6a4602d-c31a-40fc-864f-57a4eafc072f',\n",
       " 'bf7bb87a-d617-4f68-9749-ce16d7951f32',\n",
       " '1f99899f-e1dd-4a2a-bb88-6c5915ec3482',\n",
       " '8852f975-a4ad-4b53-85be-545dff828e52',\n",
       " 'd502df01-4114-416b-80eb-6fe204dc4670',\n",
       " '47faeff4-5064-4f80-bb9e-f25763878928',\n",
       " 'b171bd07-0b72-49e5-99d5-b053a86f3218',\n",
       " '8304ef04-5543-4f9b-8dda-7c211b3e29cf',\n",
       " '5b9d70d2-f235-424d-957b-e02e72ab30bc',\n",
       " 'c642b61e-47ed-467f-a386-14f1866a84e2',\n",
       " '900e3975-fefa-4758-a223-20f5aff951e2',\n",
       " 'be4bfb7b-28b9-4dc5-865c-4fc154a19494',\n",
       " '318e8db0-ac09-4614-8073-75e7503646db',\n",
       " 'a204ba81-ca98-4580-8850-5966412d6c24',\n",
       " '578eb538-479d-4e9e-b29c-b1862600a3dd',\n",
       " 'aaefe79a-f576-4e96-9ee4-7d1908070c14',\n",
       " '590104f0-a088-48cb-909a-7a58b4f31c14',\n",
       " '726ef86b-7b4f-405f-b8b1-bec31f8c28e1',\n",
       " '9679f948-559b-403b-8bd9-e5abab98fee0',\n",
       " '4cb98d3a-1c2b-4184-b583-6bf01c1898b1',\n",
       " '3c841be6-16c0-4997-a7b5-dc136382b079',\n",
       " '0346dac9-c61e-4bdd-85ed-7e1ab41698e1',\n",
       " '04d33310-ee19-4143-9954-84e126e03586',\n",
       " 'c4be7545-41fa-4bbe-ae8b-68fa33af9266',\n",
       " '8e9793f9-30ed-4a0c-b593-5564a92a9051',\n",
       " '390c540e-fc43-4d16-82e0-ae5a186ef909',\n",
       " '1a161c9a-0d55-45ba-a1ff-d93d67f51ef4',\n",
       " 'ea611757-2669-429d-a6e9-23e5bad1ce9c',\n",
       " '84d5bace-d127-4005-a22b-65ee6fbc5284',\n",
       " '389edc29-7dd4-4397-ac0b-396c7b8586c4',\n",
       " 'f933a907-a0f9-4b64-9eb1-de4349293d13',\n",
       " 'ee713f0b-84b9-406c-86cd-54b7f7533ff7',\n",
       " 'f0cc2e5d-dec1-4339-bec9-388962bb1e9e',\n",
       " '2c0418f9-5c1c-4817-b884-c424a73fc7aa',\n",
       " '9efdd661-d1b1-4660-bb3e-a94200de81e8',\n",
       " '02c6e61b-b9d0-4a52-bea5-27af72d0531b',\n",
       " 'dd1f290c-82f9-4cdc-b407-f05e61da6ede',\n",
       " '14b31387-4390-47aa-987f-db440bdd8f9d',\n",
       " 'd8f0d9b6-daca-4040-a49f-5b70ebcde380',\n",
       " '87e19064-1fde-4dc7-a87c-d8d8713eeeb7',\n",
       " '8df3a4da-3f73-404e-993a-bc449190dd79',\n",
       " '4999088e-f4bc-44ee-8ee5-64307eec1e39',\n",
       " 'bdc60e58-6685-4f34-9c34-2be4c0e78d08',\n",
       " 'ee6b65cc-4f98-4887-81aa-af05244527af',\n",
       " '4dcaa3c4-4176-4d19-8a00-d4c5e51f061a',\n",
       " 'c3ca63a7-df46-4495-b614-490b147f8b01',\n",
       " '2959fe6e-d4a0-4cf4-87e9-364b8382ffc1',\n",
       " 'e6b1fcfd-1ae9-4482-80f1-b1f28c78d83c',\n",
       " 'd21884dc-1bab-4a32-a84f-bf051f5889bb',\n",
       " 'f465b348-adaa-4b9b-9bb5-814e174e2141',\n",
       " 'a234b19e-2790-4836-884b-e80d7be19fdb',\n",
       " 'a591e100-8ba6-40c3-b752-3ba920ed81e3',\n",
       " 'e592e494-dcde-4530-a82f-bcefb58629b6',\n",
       " '0fcd5669-1a80-47b4-9c51-5d8eaac40c19',\n",
       " '0d63937b-8679-4361-b06b-27d4213c8e3b',\n",
       " 'b222dab6-0703-466e-886b-d498c5b91f88',\n",
       " 'd19a085e-7ede-4d64-8c91-4cb07bb97d10',\n",
       " '03c6f14f-cde7-4f5b-8e3f-a867b4202701',\n",
       " '9cd37831-a626-4a6d-92b5-bf6d53d246cd',\n",
       " '8b49c6ad-326f-45aa-8769-d4f562424182',\n",
       " 'ddb4b65d-1ad5-4eb5-9bc4-4e7327168c8e',\n",
       " 'b9e7c8f1-5b56-4d25-a7a5-d2b3acde9cae',\n",
       " '3db15354-6c31-4d8f-b200-16dfcff5a1c5',\n",
       " '4a2f773b-e0b7-40c2-b6c9-8cb8f2ecae4d',\n",
       " '7caf4130-20e4-49d7-8a05-919d0ec50fbc',\n",
       " '38af2bc7-4c26-4582-8adf-8436f28a125b',\n",
       " 'e3aa0fc8-0207-4966-bfe6-b506d771c5da',\n",
       " '81e6e0ba-e633-451e-9a02-2feb5c72adb6',\n",
       " 'a88786ec-86b3-4a8c-9d1c-ac5f7fe1dd1f',\n",
       " '0dffa0eb-9396-4a35-ad81-dda0ba7b7b64',\n",
       " 'f0808e9c-f75d-4e49-b5e3-1007ecc08de2',\n",
       " 'e77e5437-ba8c-49f6-9ea8-46268858d109',\n",
       " '7ee66dcb-c2ba-4211-9235-71e99ae7f032',\n",
       " 'e3b2a30c-052b-4d37-89bf-dcb8217e541e',\n",
       " '1590fbb9-7a0f-49b1-80e4-6154d9b11884',\n",
       " 'd79035d0-1833-428e-ba9a-7dc17b935424',\n",
       " 'd232de5a-e1f5-4b8a-8bbf-051b982983d7',\n",
       " 'beebbd7b-2ca3-4a6a-a99d-00723d2b77b3',\n",
       " 'eb61c965-a908-498f-a9cf-9be240846dbe',\n",
       " '4fdc844a-017f-422a-8fcf-df142e74d2a5',\n",
       " '1a755c51-2bff-4d71-acee-f04da6ed7c83',\n",
       " '09610dc9-7d86-469c-8413-476c6a948a5b',\n",
       " '9174e30b-4a63-4f23-bdaa-2f40dc52aabd',\n",
       " '65e012e9-8c7a-452d-b655-72d4df824e77',\n",
       " 'a97780a6-3e45-4f61-95ea-01efb70b268f',\n",
       " '07f42421-0294-439a-bd2a-761ef78d6f83',\n",
       " '9f08eab1-0cfa-4ec6-aa8e-fb5de39f1296',\n",
       " '915eae48-2b6b-4a23-a969-882aa9d1492c',\n",
       " 'b7cc6406-0aa5-4e82-a2b5-6ded7f4dbc81',\n",
       " '32f53a1c-292a-493d-b990-e79036390040',\n",
       " 'f0d5702d-465b-41fd-82c0-8db5377777f6',\n",
       " 'da1271d8-9110-4969-91d3-86b637d1f02d',\n",
       " 'b8dfbd45-6301-4ae5-9186-c6f947686659',\n",
       " 'bdc83e0e-00dc-46b0-b00f-52d01a02d39d',\n",
       " '683c950d-0551-40fb-984f-9e29d1caacd5',\n",
       " '29089dda-d5be-4a36-ac27-dd651f787073',\n",
       " '391c3354-4e15-4ea8-a530-156f05392938',\n",
       " '218b74f6-8b00-40c9-b792-b72a026de619',\n",
       " '61ec5d5e-3904-4456-b191-bb99d7b4bbff',\n",
       " 'b396d3ed-4db8-426a-b32a-b89c25f111de',\n",
       " '4f8eca78-b18b-42ac-b4a8-9c9e936951ad',\n",
       " '7eaafdb1-8aff-4fd2-a21f-f6c0e5de6725',\n",
       " '6c688e72-3fc6-48e3-bc19-26bab86d65d5',\n",
       " 'dd5e4698-8684-4d6a-a91c-40b82c0dae35',\n",
       " '48d07db6-fa93-4da6-b4a4-375fa7a7da32',\n",
       " '382a6f71-1486-468a-a36c-ef3062980b73',\n",
       " '602f5143-8455-41ba-ad4a-cf3539fca5ad',\n",
       " 'dafd327d-e9bd-490b-a680-9d5878741b2c',\n",
       " '388970ff-5719-4573-9f70-f693079fbc32',\n",
       " '88a205a3-deec-4b90-9d47-36c79a87906e',\n",
       " 'fa029aaa-9693-42c4-98a0-337b6c1cb0fa',\n",
       " 'a8ab6d85-99b2-47cc-9fd4-f07fd18c5ddf',\n",
       " '7973fc55-0830-413e-a374-403885c88aa6',\n",
       " 'e7212a8d-623c-45bb-8b61-8de218518821',\n",
       " 'bb4a0a99-f79c-4370-84a9-d660a96b98e2',\n",
       " 'e322ced4-eef3-45b0-bf93-cd8ca7701880',\n",
       " 'fa327eb0-1da5-4cd6-96ba-0579681c99eb',\n",
       " 'f705b51f-1424-4162-8049-bd34820c980c',\n",
       " '983a2617-71d4-49b8-9b7c-01ef684b9d47']"
      ]
     },
     "execution_count": 14,
     "metadata": {},
     "output_type": "execute_result"
    }
   ],
   "source": [
    "# vector_store.add_texts(\n",
    "#     texts=[d[\"page_content\"] for d in docs],\n",
    "#     metadatas=[d[\"metadata\"] for d in docs]\n",
    "# )"
   ]
  },
  {
   "cell_type": "code",
   "execution_count": 20,
   "id": "92d83b2e",
   "metadata": {},
   "outputs": [],
   "source": [
    "retriever = vector_store.as_retriever(search_kwargs={\"k\": 10})"
   ]
  },
  {
   "cell_type": "code",
   "execution_count": 21,
   "id": "fa05b036",
   "metadata": {},
   "outputs": [
    {
     "ename": "KeyboardInterrupt",
     "evalue": "",
     "output_type": "error",
     "traceback": [
      "\u001b[31m---------------------------------------------------------------------------\u001b[39m",
      "\u001b[31mKeyboardInterrupt\u001b[39m                         Traceback (most recent call last)",
      "\u001b[36mCell\u001b[39m\u001b[36m \u001b[39m\u001b[32mIn[21]\u001b[39m\u001b[32m, line 1\u001b[39m\n\u001b[32m----> \u001b[39m\u001b[32m1\u001b[39m \u001b[43mretriever\u001b[49m\u001b[43m.\u001b[49m\u001b[43minvoke\u001b[49m\u001b[43m(\u001b[49m\u001b[33;43m\"\u001b[39;49m\u001b[33;43mAccording to IEC 62304, how should software modules be classified based on risk to patients?\u001b[39;49m\u001b[33;43m\"\u001b[39;49m\u001b[43m)\u001b[49m\n",
      "\u001b[36mFile \u001b[39m\u001b[32md:\\GenAI-Hackathon\\.venv\\Lib\\site-packages\\langchain_core\\retrievers.py:263\u001b[39m, in \u001b[36mBaseRetriever.invoke\u001b[39m\u001b[34m(self, input, config, **kwargs)\u001b[39m\n\u001b[32m    261\u001b[39m kwargs_ = kwargs \u001b[38;5;28;01mif\u001b[39;00m \u001b[38;5;28mself\u001b[39m._expects_other_args \u001b[38;5;28;01melse\u001b[39;00m {}\n\u001b[32m    262\u001b[39m \u001b[38;5;28;01mif\u001b[39;00m \u001b[38;5;28mself\u001b[39m._new_arg_supported:\n\u001b[32m--> \u001b[39m\u001b[32m263\u001b[39m     result = \u001b[38;5;28;43mself\u001b[39;49m\u001b[43m.\u001b[49m\u001b[43m_get_relevant_documents\u001b[49m\u001b[43m(\u001b[49m\n\u001b[32m    264\u001b[39m \u001b[43m        \u001b[49m\u001b[38;5;28;43minput\u001b[39;49m\u001b[43m,\u001b[49m\u001b[43m \u001b[49m\u001b[43mrun_manager\u001b[49m\u001b[43m=\u001b[49m\u001b[43mrun_manager\u001b[49m\u001b[43m,\u001b[49m\u001b[43m \u001b[49m\u001b[43m*\u001b[49m\u001b[43m*\u001b[49m\u001b[43mkwargs_\u001b[49m\n\u001b[32m    265\u001b[39m \u001b[43m    \u001b[49m\u001b[43m)\u001b[49m\n\u001b[32m    266\u001b[39m \u001b[38;5;28;01melse\u001b[39;00m:\n\u001b[32m    267\u001b[39m     result = \u001b[38;5;28mself\u001b[39m._get_relevant_documents(\u001b[38;5;28minput\u001b[39m, **kwargs_)\n",
      "\u001b[36mFile \u001b[39m\u001b[32md:\\GenAI-Hackathon\\.venv\\Lib\\site-packages\\langchain_core\\vectorstores\\base.py:1067\u001b[39m, in \u001b[36mVectorStoreRetriever._get_relevant_documents\u001b[39m\u001b[34m(self, query, run_manager, **kwargs)\u001b[39m\n\u001b[32m   1065\u001b[39m kwargs_ = \u001b[38;5;28mself\u001b[39m.search_kwargs | kwargs\n\u001b[32m   1066\u001b[39m \u001b[38;5;28;01mif\u001b[39;00m \u001b[38;5;28mself\u001b[39m.search_type == \u001b[33m\"\u001b[39m\u001b[33msimilarity\u001b[39m\u001b[33m\"\u001b[39m:\n\u001b[32m-> \u001b[39m\u001b[32m1067\u001b[39m     docs = \u001b[38;5;28;43mself\u001b[39;49m\u001b[43m.\u001b[49m\u001b[43mvectorstore\u001b[49m\u001b[43m.\u001b[49m\u001b[43msimilarity_search\u001b[49m\u001b[43m(\u001b[49m\u001b[43mquery\u001b[49m\u001b[43m,\u001b[49m\u001b[43m \u001b[49m\u001b[43m*\u001b[49m\u001b[43m*\u001b[49m\u001b[43mkwargs_\u001b[49m\u001b[43m)\u001b[49m\n\u001b[32m   1068\u001b[39m \u001b[38;5;28;01melif\u001b[39;00m \u001b[38;5;28mself\u001b[39m.search_type == \u001b[33m\"\u001b[39m\u001b[33msimilarity_score_threshold\u001b[39m\u001b[33m\"\u001b[39m:\n\u001b[32m   1069\u001b[39m     docs_and_similarities = (\n\u001b[32m   1070\u001b[39m         \u001b[38;5;28mself\u001b[39m.vectorstore.similarity_search_with_relevance_scores(\n\u001b[32m   1071\u001b[39m             query, **kwargs_\n\u001b[32m   1072\u001b[39m         )\n\u001b[32m   1073\u001b[39m     )\n",
      "\u001b[36mFile \u001b[39m\u001b[32md:\\GenAI-Hackathon\\.venv\\Lib\\site-packages\\langchain_google_vertexai\\vectorstores\\vectorstores.py:253\u001b[39m, in \u001b[36m_BaseVertexAIVectorStore.similarity_search\u001b[39m\u001b[34m(self, query, k, filter, numeric_filter, **kwargs)\u001b[39m\n\u001b[32m    223\u001b[39m \u001b[38;5;28;01mdef\u001b[39;00m\u001b[38;5;250m \u001b[39m\u001b[34msimilarity_search\u001b[39m(\n\u001b[32m    224\u001b[39m     \u001b[38;5;28mself\u001b[39m,\n\u001b[32m    225\u001b[39m     query: \u001b[38;5;28mstr\u001b[39m,\n\u001b[32m   (...)\u001b[39m\u001b[32m    229\u001b[39m     **kwargs: Any,\n\u001b[32m    230\u001b[39m ) -> List[Document]:\n\u001b[32m    231\u001b[39m \u001b[38;5;250m    \u001b[39m\u001b[33;03m\"\"\"Return docs most similar to query.\u001b[39;00m\n\u001b[32m    232\u001b[39m \n\u001b[32m    233\u001b[39m \u001b[33;03m    Args:\u001b[39;00m\n\u001b[32m   (...)\u001b[39m\u001b[32m    249\u001b[39m \u001b[33;03m        A list of k matching documents.\u001b[39;00m\n\u001b[32m    250\u001b[39m \u001b[33;03m    \"\"\"\u001b[39;00m\n\u001b[32m    251\u001b[39m     \u001b[38;5;28;01mreturn\u001b[39;00m [\n\u001b[32m    252\u001b[39m         document\n\u001b[32m--> \u001b[39m\u001b[32m253\u001b[39m         \u001b[38;5;28;01mfor\u001b[39;00m document, _ \u001b[38;5;129;01min\u001b[39;00m \u001b[38;5;28;43mself\u001b[39;49m\u001b[43m.\u001b[49m\u001b[43msimilarity_search_with_score\u001b[49m\u001b[43m(\u001b[49m\n\u001b[32m    254\u001b[39m \u001b[43m            \u001b[49m\u001b[43mquery\u001b[49m\u001b[43m,\u001b[49m\u001b[43m \u001b[49m\u001b[43mk\u001b[49m\u001b[43m,\u001b[49m\u001b[43m \u001b[49m\u001b[38;5;28;43mfilter\u001b[39;49m\u001b[43m,\u001b[49m\u001b[43m \u001b[49m\u001b[43mnumeric_filter\u001b[49m\n\u001b[32m    255\u001b[39m \u001b[43m        \u001b[49m\u001b[43m)\u001b[49m\n\u001b[32m    256\u001b[39m     ]\n",
      "\u001b[36mFile \u001b[39m\u001b[32md:\\GenAI-Hackathon\\.venv\\Lib\\site-packages\\langchain_google_vertexai\\vectorstores\\vectorstores.py:105\u001b[39m, in \u001b[36m_BaseVertexAIVectorStore.similarity_search_with_score\u001b[39m\u001b[34m(self, query, k, filter, numeric_filter)\u001b[39m\n\u001b[32m     79\u001b[39m \u001b[38;5;250m\u001b[39m\u001b[33;03m\"\"\"Return docs most similar to query and their cosine distance from the query.\u001b[39;00m\n\u001b[32m     80\u001b[39m \n\u001b[32m     81\u001b[39m \u001b[33;03mArgs:\u001b[39;00m\n\u001b[32m   (...)\u001b[39m\u001b[32m    100\u001b[39m \u001b[33;03m    Higher score represents more similarity.\u001b[39;00m\n\u001b[32m    101\u001b[39m \u001b[33;03m\"\"\"\u001b[39;00m\n\u001b[32m    103\u001b[39m embedding = \u001b[38;5;28mself\u001b[39m._embeddings.embed_query(query)\n\u001b[32m--> \u001b[39m\u001b[32m105\u001b[39m \u001b[38;5;28;01mreturn\u001b[39;00m \u001b[38;5;28;43mself\u001b[39;49m\u001b[43m.\u001b[49m\u001b[43msimilarity_search_by_vector_with_score\u001b[49m\u001b[43m(\u001b[49m\n\u001b[32m    106\u001b[39m \u001b[43m    \u001b[49m\u001b[43membedding\u001b[49m\u001b[43m=\u001b[49m\u001b[43membedding\u001b[49m\u001b[43m,\u001b[49m\u001b[43m \u001b[49m\u001b[43mk\u001b[49m\u001b[43m=\u001b[49m\u001b[43mk\u001b[49m\u001b[43m,\u001b[49m\u001b[43m \u001b[49m\u001b[38;5;28;43mfilter\u001b[39;49m\u001b[43m=\u001b[49m\u001b[38;5;28;43mfilter\u001b[39;49m\u001b[43m,\u001b[49m\u001b[43m \u001b[49m\u001b[43mnumeric_filter\u001b[49m\u001b[43m=\u001b[49m\u001b[43mnumeric_filter\u001b[49m\n\u001b[32m    107\u001b[39m \u001b[43m\u001b[49m\u001b[43m)\u001b[49m\n",
      "\u001b[36mFile \u001b[39m\u001b[32md:\\GenAI-Hackathon\\.venv\\Lib\\site-packages\\langchain_google_vertexai\\vectorstores\\vectorstores.py:181\u001b[39m, in \u001b[36m_BaseVertexAIVectorStore.similarity_search_by_vector_with_score\u001b[39m\u001b[34m(self, embedding, sparse_embedding, k, rrf_ranking_alpha, filter, numeric_filter)\u001b[39m\n\u001b[32m    173\u001b[39m \u001b[38;5;28;01melse\u001b[39;00m:\n\u001b[32m    174\u001b[39m     distances = [\n\u001b[32m    175\u001b[39m         {\n\u001b[32m    176\u001b[39m             \u001b[33m\"\u001b[39m\u001b[33mdense_score\u001b[39m\u001b[33m\"\u001b[39m: elem[\u001b[33m\"\u001b[39m\u001b[33mdense_score\u001b[39m\u001b[33m\"\u001b[39m],\n\u001b[32m   (...)\u001b[39m\u001b[32m    179\u001b[39m         \u001b[38;5;28;01mfor\u001b[39;00m elem \u001b[38;5;129;01min\u001b[39;00m neighbors_list[\u001b[32m0\u001b[39m]\n\u001b[32m    180\u001b[39m     ]\n\u001b[32m--> \u001b[39m\u001b[32m181\u001b[39m documents = \u001b[38;5;28;43mself\u001b[39;49m\u001b[43m.\u001b[49m\u001b[43m_document_storage\u001b[49m\u001b[43m.\u001b[49m\u001b[43mmget\u001b[49m\u001b[43m(\u001b[49m\u001b[43mkeys\u001b[49m\u001b[43m)\u001b[49m\n\u001b[32m    183\u001b[39m \u001b[38;5;28;01mif\u001b[39;00m \u001b[38;5;28mall\u001b[39m(document \u001b[38;5;129;01mis\u001b[39;00m \u001b[38;5;129;01mnot\u001b[39;00m \u001b[38;5;28;01mNone\u001b[39;00m \u001b[38;5;28;01mfor\u001b[39;00m document \u001b[38;5;129;01min\u001b[39;00m documents):\n\u001b[32m    184\u001b[39m     \u001b[38;5;66;03m# Ignore typing because mypy doesn't seem to be able to identify that\u001b[39;00m\n\u001b[32m    185\u001b[39m     \u001b[38;5;66;03m# in documents there is no possibility to have None values with the\u001b[39;00m\n\u001b[32m    186\u001b[39m     \u001b[38;5;66;03m# check above.\u001b[39;00m\n\u001b[32m    187\u001b[39m     \u001b[38;5;28;01mreturn\u001b[39;00m \u001b[38;5;28mlist\u001b[39m(\u001b[38;5;28mzip\u001b[39m(documents, distances))  \u001b[38;5;66;03m# type: ignore\u001b[39;00m\n",
      "\u001b[36mFile \u001b[39m\u001b[32md:\\GenAI-Hackathon\\.venv\\Lib\\site-packages\\langchain_google_vertexai\\vectorstores\\document_storage.py:137\u001b[39m, in \u001b[36mGCSDocumentStorage.mget\u001b[39m\u001b[34m(self, keys)\u001b[39m\n\u001b[32m    132\u001b[39m \u001b[38;5;28;01mif\u001b[39;00m \u001b[38;5;28mself\u001b[39m._threaded:\n\u001b[32m    133\u001b[39m     download_docs = [\n\u001b[32m    134\u001b[39m         (\u001b[38;5;28mself\u001b[39m._bucket.blob(\u001b[38;5;28mself\u001b[39m._get_blob_name(key)), io.BytesIO())\n\u001b[32m    135\u001b[39m         \u001b[38;5;28;01mfor\u001b[39;00m key \u001b[38;5;129;01min\u001b[39;00m keys\n\u001b[32m    136\u001b[39m     ]\n\u001b[32m--> \u001b[39m\u001b[32m137\u001b[39m     download_results = \u001b[43mtransfer_manager\u001b[49m\u001b[43m.\u001b[49m\u001b[43mdownload_many\u001b[49m\u001b[43m(\u001b[49m\n\u001b[32m    138\u001b[39m \u001b[43m        \u001b[49m\u001b[43mdownload_docs\u001b[49m\u001b[43m,\u001b[49m\n\u001b[32m    139\u001b[39m \u001b[43m        \u001b[49m\u001b[43mskip_if_exists\u001b[49m\u001b[43m=\u001b[49m\u001b[38;5;28;43;01mFalse\u001b[39;49;00m\u001b[43m,\u001b[49m\n\u001b[32m    140\u001b[39m \u001b[43m        \u001b[49m\u001b[43mdownload_kwargs\u001b[49m\u001b[43m=\u001b[49m\u001b[38;5;28;43;01mNone\u001b[39;49;00m\u001b[43m,\u001b[49m\n\u001b[32m    141\u001b[39m \u001b[43m        \u001b[49m\u001b[43mdeadline\u001b[49m\u001b[43m=\u001b[49m\u001b[38;5;28;43;01mNone\u001b[39;49;00m\u001b[43m,\u001b[49m\n\u001b[32m    142\u001b[39m \u001b[43m        \u001b[49m\u001b[43mraise_exception\u001b[49m\u001b[43m=\u001b[49m\u001b[38;5;28;43;01mFalse\u001b[39;49;00m\u001b[43m,\u001b[49m\n\u001b[32m    143\u001b[39m \u001b[43m        \u001b[49m\u001b[43mworker_type\u001b[49m\u001b[43m=\u001b[49m\u001b[33;43m\"\u001b[39;49m\u001b[33;43mthread\u001b[39;49m\u001b[33;43m\"\u001b[39;49m\u001b[43m,\u001b[49m\n\u001b[32m    144\u001b[39m \u001b[43m        \u001b[49m\u001b[43mmax_workers\u001b[49m\u001b[43m=\u001b[49m\u001b[38;5;28;43mself\u001b[39;49m\u001b[43m.\u001b[49m\u001b[43m_n_threads\u001b[49m\u001b[43m,\u001b[49m\n\u001b[32m    145\u001b[39m \u001b[43m    \u001b[49m\u001b[43m)\u001b[49m\n\u001b[32m    146\u001b[39m     \u001b[38;5;28;01mfor\u001b[39;00m i, result \u001b[38;5;129;01min\u001b[39;00m \u001b[38;5;28menumerate\u001b[39m(download_results):\n\u001b[32m    147\u001b[39m         \u001b[38;5;28;01mif\u001b[39;00m \u001b[38;5;28misinstance\u001b[39m(result, \u001b[38;5;167;01mException\u001b[39;00m) \u001b[38;5;129;01mand\u001b[39;00m \u001b[38;5;129;01mnot\u001b[39;00m \u001b[38;5;28misinstance\u001b[39m(result, NotFound):\n",
      "\u001b[36mFile \u001b[39m\u001b[32md:\\GenAI-Hackathon\\.venv\\Lib\\site-packages\\google\\cloud\\storage\\transfer_manager.py:100\u001b[39m, in \u001b[36m_deprecate_threads_param.<locals>.convert_threads_or_raise\u001b[39m\u001b[34m(*args, **kwargs)\u001b[39m\n\u001b[32m     98\u001b[39m     \u001b[38;5;28;01mreturn\u001b[39;00m func(*args, **kwargs)\n\u001b[32m     99\u001b[39m \u001b[38;5;28;01melse\u001b[39;00m:\n\u001b[32m--> \u001b[39m\u001b[32m100\u001b[39m     \u001b[38;5;28;01mreturn\u001b[39;00m \u001b[43mfunc\u001b[49m\u001b[43m(\u001b[49m\u001b[43m*\u001b[49m\u001b[43margs\u001b[49m\u001b[43m,\u001b[49m\u001b[43m \u001b[49m\u001b[43m*\u001b[49m\u001b[43m*\u001b[49m\u001b[43mkwargs\u001b[49m\u001b[43m)\u001b[49m\n",
      "\u001b[36mFile \u001b[39m\u001b[32md:\\GenAI-Hackathon\\.venv\\Lib\\site-packages\\google\\cloud\\storage\\transfer_manager.py:395\u001b[39m, in \u001b[36mdownload_many\u001b[39m\u001b[34m(blob_file_pairs, download_kwargs, threads, deadline, raise_exception, worker_type, max_workers, skip_if_exists)\u001b[39m\n\u001b[32m    382\u001b[39m                 \u001b[38;5;28;01mcontinue\u001b[39;00m\n\u001b[32m    384\u001b[39m         futures.append(\n\u001b[32m    385\u001b[39m             executor.submit(\n\u001b[32m    386\u001b[39m                 _call_method_on_maybe_pickled_blob,\n\u001b[32m   (...)\u001b[39m\u001b[32m    393\u001b[39m             )\n\u001b[32m    394\u001b[39m         )\n\u001b[32m--> \u001b[39m\u001b[32m395\u001b[39m     \u001b[43mconcurrent\u001b[49m\u001b[43m.\u001b[49m\u001b[43mfutures\u001b[49m\u001b[43m.\u001b[49m\u001b[43mwait\u001b[49m\u001b[43m(\u001b[49m\n\u001b[32m    396\u001b[39m \u001b[43m        \u001b[49m\u001b[43mfutures\u001b[49m\u001b[43m,\u001b[49m\u001b[43m \u001b[49m\u001b[43mtimeout\u001b[49m\u001b[43m=\u001b[49m\u001b[43mdeadline\u001b[49m\u001b[43m,\u001b[49m\u001b[43m \u001b[49m\u001b[43mreturn_when\u001b[49m\u001b[43m=\u001b[49m\u001b[43mconcurrent\u001b[49m\u001b[43m.\u001b[49m\u001b[43mfutures\u001b[49m\u001b[43m.\u001b[49m\u001b[43mALL_COMPLETED\u001b[49m\n\u001b[32m    397\u001b[39m \u001b[43m    \u001b[49m\u001b[43m)\u001b[49m\n\u001b[32m    399\u001b[39m results = []\n\u001b[32m    400\u001b[39m \u001b[38;5;28;01mfor\u001b[39;00m future \u001b[38;5;129;01min\u001b[39;00m futures:\n\u001b[32m    401\u001b[39m     \u001b[38;5;66;03m# If raise_exception is False, don't call future.result()\u001b[39;00m\n",
      "\u001b[36mFile \u001b[39m\u001b[32m~\\AppData\\Local\\Programs\\Python\\Python312\\Lib\\concurrent\\futures\\_base.py:305\u001b[39m, in \u001b[36mwait\u001b[39m\u001b[34m(fs, timeout, return_when)\u001b[39m\n\u001b[32m    301\u001b[39m         \u001b[38;5;28;01mreturn\u001b[39;00m DoneAndNotDoneFutures(done, not_done)\n\u001b[32m    303\u001b[39m     waiter = _create_and_install_waiters(fs, return_when)\n\u001b[32m--> \u001b[39m\u001b[32m305\u001b[39m \u001b[43mwaiter\u001b[49m\u001b[43m.\u001b[49m\u001b[43mevent\u001b[49m\u001b[43m.\u001b[49m\u001b[43mwait\u001b[49m\u001b[43m(\u001b[49m\u001b[43mtimeout\u001b[49m\u001b[43m)\u001b[49m\n\u001b[32m    306\u001b[39m \u001b[38;5;28;01mfor\u001b[39;00m f \u001b[38;5;129;01min\u001b[39;00m fs:\n\u001b[32m    307\u001b[39m     \u001b[38;5;28;01mwith\u001b[39;00m f._condition:\n",
      "\u001b[36mFile \u001b[39m\u001b[32m~\\AppData\\Local\\Programs\\Python\\Python312\\Lib\\threading.py:655\u001b[39m, in \u001b[36mEvent.wait\u001b[39m\u001b[34m(self, timeout)\u001b[39m\n\u001b[32m    653\u001b[39m signaled = \u001b[38;5;28mself\u001b[39m._flag\n\u001b[32m    654\u001b[39m \u001b[38;5;28;01mif\u001b[39;00m \u001b[38;5;129;01mnot\u001b[39;00m signaled:\n\u001b[32m--> \u001b[39m\u001b[32m655\u001b[39m     signaled = \u001b[38;5;28;43mself\u001b[39;49m\u001b[43m.\u001b[49m\u001b[43m_cond\u001b[49m\u001b[43m.\u001b[49m\u001b[43mwait\u001b[49m\u001b[43m(\u001b[49m\u001b[43mtimeout\u001b[49m\u001b[43m)\u001b[49m\n\u001b[32m    656\u001b[39m \u001b[38;5;28;01mreturn\u001b[39;00m signaled\n",
      "\u001b[36mFile \u001b[39m\u001b[32m~\\AppData\\Local\\Programs\\Python\\Python312\\Lib\\threading.py:355\u001b[39m, in \u001b[36mCondition.wait\u001b[39m\u001b[34m(self, timeout)\u001b[39m\n\u001b[32m    353\u001b[39m \u001b[38;5;28;01mtry\u001b[39;00m:    \u001b[38;5;66;03m# restore state no matter what (e.g., KeyboardInterrupt)\u001b[39;00m\n\u001b[32m    354\u001b[39m     \u001b[38;5;28;01mif\u001b[39;00m timeout \u001b[38;5;129;01mis\u001b[39;00m \u001b[38;5;28;01mNone\u001b[39;00m:\n\u001b[32m--> \u001b[39m\u001b[32m355\u001b[39m         \u001b[43mwaiter\u001b[49m\u001b[43m.\u001b[49m\u001b[43macquire\u001b[49m\u001b[43m(\u001b[49m\u001b[43m)\u001b[49m\n\u001b[32m    356\u001b[39m         gotit = \u001b[38;5;28;01mTrue\u001b[39;00m\n\u001b[32m    357\u001b[39m     \u001b[38;5;28;01melse\u001b[39;00m:\n",
      "\u001b[31mKeyboardInterrupt\u001b[39m: "
     ]
    }
   ],
   "source": [
    "retriever.invoke(\"According to IEC 62304, how should software modules be classified based on risk to patients?\")\n"
   ]
  },
  {
   "cell_type": "code",
   "execution_count": null,
   "id": "6cc22452",
   "metadata": {},
   "outputs": [],
   "source": [
    "# from langchain.chains import RetrievalQA\n",
    "\n",
    "# filters = [Namespace(name=\"season\", allow_tokens=[\"spring\"])]\n",
    "# numeric_filters = [NumericNamespace(name=\"price\", value_float=40.0, op=\"LESS\")]\n",
    "\n",
    "# retriever.search_kwargs = {\"k\": 2, \"filter\": filters, \"numeric_filter\": numeric_filters}\n",
    "\n",
    "# retrieval_qa = RetrievalQA.from_chain_type(\n",
    "#     llm=llm,\n",
    "#     chain_type=\"stuff\",\n",
    "#     retriever=retriever,\n",
    "#     return_source_documents=True,\n",
    "# )\n",
    "\n",
    "# question = \"What are my options in breathable fabric?\"\n",
    "# response = retrieval_qa({\"query\": question})\n",
    "# print(f\"{response['result']}\")\n",
    "# print(\"REFERENCES\")\n",
    "# print(f\"{response['source_documents']}\")"
   ]
  },
  {
   "cell_type": "code",
   "execution_count": 1,
   "id": "344cb232",
   "metadata": {},
   "outputs": [],
   "source": [
    "from langchain.retrievers.contextual_compression import ContextualCompressionRetriever\n",
    "from langchain_google_community.vertex_rank import VertexAIRank"
   ]
  },
  {
   "cell_type": "code",
   "execution_count": 2,
   "id": "c1f168fb",
   "metadata": {},
   "outputs": [
    {
     "ename": "NameError",
     "evalue": "name 'PROJECT_ID' is not defined",
     "output_type": "error",
     "traceback": [
      "\u001b[31m---------------------------------------------------------------------------\u001b[39m",
      "\u001b[31mNameError\u001b[39m                                 Traceback (most recent call last)",
      "\u001b[36mCell\u001b[39m\u001b[36m \u001b[39m\u001b[32mIn[2]\u001b[39m\u001b[32m, line 2\u001b[39m\n\u001b[32m      1\u001b[39m reranker = VertexAIRank(\n\u001b[32m----> \u001b[39m\u001b[32m2\u001b[39m     project_id=\u001b[43mPROJECT_ID\u001b[49m,\n\u001b[32m      3\u001b[39m     location_id=\u001b[33m\"\u001b[39m\u001b[33mglobal\u001b[39m\u001b[33m\"\u001b[39m,\n\u001b[32m      4\u001b[39m     ranking_config=\u001b[33m\"\u001b[39m\u001b[33mdefault_ranking_config\u001b[39m\u001b[33m\"\u001b[39m,\n\u001b[32m      5\u001b[39m     title_field=\u001b[33m\"\u001b[39m\u001b[33msource\u001b[39m\u001b[33m\"\u001b[39m,\n\u001b[32m      6\u001b[39m     top_n=\u001b[32m5\u001b[39m,\n\u001b[32m      7\u001b[39m )\n",
      "\u001b[31mNameError\u001b[39m: name 'PROJECT_ID' is not defined"
     ]
    }
   ],
   "source": [
    "reranker = VertexAIRank(\n",
    "    project_id=PROJECT_ID,\n",
    "    location_id=\"global\",\n",
    "    ranking_config=\"default_ranking_config\",\n",
    "    title_field=\"source\",\n",
    "    top_n=5,\n",
    ")"
   ]
  },
  {
   "cell_type": "code",
   "execution_count": 29,
   "id": "12385e7f",
   "metadata": {},
   "outputs": [],
   "source": [
    "retriever_with_reranker = ContextualCompressionRetriever(\n",
    "    base_compressor=reranker, base_retriever=retriever\n",
    ")"
   ]
  },
  {
   "cell_type": "code",
   "execution_count": 33,
   "id": "652cae26",
   "metadata": {},
   "outputs": [
    {
     "data": {
      "text/plain": [
       "VertexAIRank(project_id='dashtest-472304', location_id='global', ranking_config='default_ranking_config', model='semantic-ranker-512@latest', top_n=5, ignore_record_details_in_response=False, id_field=None, title_field='source', credentials=None, credentials_path=None, timeout=None, client=<google.cloud.discoveryengine_v1alpha.services.rank_service.client.RankServiceClient object at 0x00000190CA5AB860>)"
      ]
     },
     "execution_count": 33,
     "metadata": {},
     "output_type": "execute_result"
    }
   ],
   "source": [
    "reranker."
   ]
  },
  {
   "cell_type": "code",
   "execution_count": 30,
   "id": "4b257983",
   "metadata": {},
   "outputs": [],
   "source": [
    "query = \"According to IEC 62304, how should software modules be classified based on risk to patients?\"\n",
    "retrieved_docs = retriever.invoke(query)\n",
    "reranked_docs = retriever_with_reranker.invoke(query, )"
   ]
  },
  {
   "cell_type": "code",
   "execution_count": 31,
   "id": "b50554ab",
   "metadata": {},
   "outputs": [
    {
     "data": {
      "text/plain": [
       "[Document(id='ef7a7edf-cc69-40f4-86b6-4cb6aaf80134', metadata={'doc_name': 'IEC-62304', 'page_number': 5}, page_content='to meet European Directives . Software safety classification changes needed for this amendment include clarification of requirements and updating of the software safety classification to include a risk -based approach. Work is continuing in parallel to develop the second edition of IEC 62304. International Electrotechnical Commission Provided by IHS under license with IEC Licensee=Chongqing Institute of quality and Standardization 5990390 Not for Resale, 2015/8/20 09:23:13 No reproduction or networking permitted without license from IHS'),\n",
       " Document(id='dceff67b-a4fc-482a-9db6-cec7f4c47c5b', metadata={'doc_name': 'IEC-62304', 'page_number': 13}, page_content='4.3 * Software safety classification a) The MANUFACTURER shall assign to each SOFTWARE SYSTEM a software safety class (A, B, or C) according to the RISK of HARM to the patient, operator, or other people resulting from a HAZARDOUS SITUATION to which the SOFTWARE SYSTEM can contribute in a worst -case - scenario as indicated in Figure 3. Figure 3 Assigning software safety classification The SOFTWARE SYSTEM is software safety c lass A if : the SOFTWARE SYSTEM cannot contribute to a HAZARDOUS SITUATION ; or the SOFTWARE SYSTEM can contribute to a HAZARDOUS SITUATION which does not result in unacceptable RISK after consideration of RISK CONTROL measures external to the SOFTWARE SYSTEM . The SOFTWARE SYSTEM is software safety c lass B if : the SOFTWARE SYSTEM can contribute to a HAZARDOUS SITUATION which results in unacceptable RISK after consideration of RISK CONTROL measures external to the SOFTWARE SYSTEM and the resulting possible HARM is non-SERIOUS INJURY . The SOFTWARE SYSTEM is'),\n",
       " Document(id='865c143c-23d9-44fe-a1ff-dea005272798', metadata={'doc_name': 'IEC-62304', 'page_number': 13}, page_content='. The SOFTWARE SYSTEM is software safety c lass C if : the SOFTWARE SYSTEM can contribute to a HAZARDOUS SITUATION which results in unacceptable RISK after consideration of RISK CONTRO L measures external to the SOFTWARE SYSTEM and the resulting possible HARM is death or SERIOUS INJURY . For a SOFTWARE SYSTEM initially classified as software safety c lass B or C, the MANUFACTURER may implement additional RISK CONTROL measures external to the SOFTWARE SYSTEM (including revising the system architecture containing the SOFTWARE SYSTEM ) and subsequently assign a new software safety classification to the SOFTWARE SYSTEM . NOTE 1 External RISK CONTROL measures can be hardware, an independent SOFTWARE SYSTEM , health care procedures , or other means to minimize that software can contribute to a HAZARDOUS SITUATION . International Electrotechnical Commission Provided by IHS under license with IEC Licensee=Chongqing Institute of quality and Standardization 5990390 Not for Resale, 2015/8/20'),\n",
       " Document(id='1ff78b21-5436-41e1-a78c-d4e06c20587c', metadata={'doc_name': 'IEC-62304', 'page_number': 3}, page_content='INTRODUCTION Software is often an integral part of MEDICAL DEVICE technology. Establishing the SAFETY and effectiveness of a MEDICAL DEVICE containing software requires knowledge of what the sof tware is intended to do and demonstration that the use of the software fulfils those intentions without causing any unacceptable RISKS . This standard provides a framework of life cycle PROCESSES with ACTIVITIES and TASKS necessary for the safe design and maintenance of MEDICAL DEVICE SOFTW ARE. This standard provides requirements for each life c ycle PROCESS . Each life cycle PROCESS consists of a set of ACTIVITIES , with most ACTIVITIES consisting of a set of TASKS . As a basic foundation it is assumed that MEDICAL DEVICE SOFTW ARE is developed and maintained within a quality management system (see 4.1) and a RISK MANAGEMENT system (see 4.2). The RISK MANAGEMENT PROC ESS is alre ady very well addressed by the International Standard ISO 14971. Therefore IEC 62304 makes use of this advantage'),\n",
       " Document(id='03c6f14f-cde7-4f5b-8e3f-a867b4202701', metadata={'doc_name': 'IEC-62304', 'page_number': 41}, page_content='SOFTWARE SYSTEM / SOFTWARE ITEM (CLASS C) SOFTWARE ITEM X (Class A)SOFTWARE ITEM Y (Class C) SOFTWARE ITEM W (Class B)SOFTWARE ITEM Z (Class C) Figure B.1 Example of partitioning of SOFTWARE ITEMS For this example, the MANUFACTURER knows, due to the type of MEDICAL DEVICE SOFTWARE being developed, that the preliminary software safety classification for the SOFTWARE SYSTEM is software safety class C. During software ARCHITECTURE design the MANUFACTURER has decided to partition the SYSTEM , as shown, with 3 SOFTWARE ITEMS X, W and Z. The MANUFACTURER is able to segregate all SOFTWARE SYSTEM contributions to HAZARDOUS SIT UATIONS which could result in death or SERIOUS INJURY to SOFTWARE ITEM Z and all remaining SOFTWARE SYSTEM contributions to HAZARDOUS SITUATIONS which could result in a nonSERIOUS INJURY to SOFTWARE ITEM W. SOFTWARE ITE m W is classified as software safety class B and SOFTWARE ITEM Z is at software safety class C. SOFTWARE ITEM Y therefore must be classified as Class C,'),\n",
       " Document(id='679537e5-a330-4f8d-823a-bb29ff1bb309', metadata={'doc_name': 'IEC-62304', 'page_number': 2}, page_content='International Standard IEC 62304 has been prepared by a joint working group of subcommittee 62A: Common aspects of electrical equipment used in medical practice, of IEC technical committee 62: Electrical equipment in medical practice and ISO Technical Committee 210, Quality m anagement and corresponding general aspects for MEDICAL DEVICES . Table C.5 was prepared by ISO/IEC JTC 1/SC 7, Software and system engineering. It is published as a dual logo standard. This publication has been drafted in accordance with the ISO/IEC Directives, Part 2. In this standard the following print types are used: requirements and definitions: in roman type; informative material appearing outside of tables, such as notes, examples and references: in smaller type. Normative text of tables is also in a smaller type; terms used throughout this standard that have been defined in Clause 3 and also given in the index: in small capitals. An asterisk (*) as the first character of a title or at the beginning of a'),\n",
       " Document(id='0d63937b-8679-4361-b06b-27d4213c8e3b', metadata={'doc_name': 'IEC-62304', 'page_number': 40}, page_content='It is expected that MANUFACTURERS will find it useful to classify software before this point, for example to focus attention on areas to be investigated, but such classification should be regarded as preliminary and should not be used to justify the omission of PROCESSES . The software safety classification scheme is not intended to align with the RISK classifications of ISO 14971. Whereas the ISO 14971 scheme classifies RISK according to their severity and likelihood, the software safety classification scheme classifies SOFTWARE SYSTEMS and SOFTWARE ITEMS according to the PROCESSES to be applied in their development and maintenance. As the design evolves, new RISKS might become evident. Therefore, RISK MANAGEMENT should be applied as an integral part of the development PROCESS . This permits the development of an ARCHITECTURAL design that identifies a complete set of SOFTWARE ITEMS , including those that are required to function correctly to assure safe operation and those that'),\n",
       " Document(id='fa029aaa-9693-42c4-98a0-337b6c1cb0fa', metadata={'doc_name': 'IEC-62304', 'page_number': 54}, page_content='verification 7.3.6 Design and development validation 7.1 Analysis of software contributing to hazardous situations 7.2 R ISK CONTROL measures 7.3 V ERIFICATION of RISK CONTROL measures 7.4 R ISK MANAGEMENT of software changes 8.1 Configuration identification 7.5.3 Identification and TRACEABILITY 8.2 Change control 7.5.3 Identification and TRACEABILITY 8.3 Configuration status accounting 9 Software problem resolution PROCESS C.3 Relationship to ISO 14971 Table C.2 shows the areas where IEC 62304 amplifies requirements for the RISK MANAGEMENT PROCESS required by ISO 14971. International Electrotechnical Commission Provided by IHS under license with IEC Licensee=Chongqing Institute of quality and Standardization 5990390 Not for Resale, 2015/8/20 09:23:13 No reproduction or networking permitted without license from IHS'),\n",
       " Document(id='4bde5dce-a8cb-4aee-8211-6bfb4c9c3ca6', metadata={'doc_name': 'IEC-62304', 'page_number': 14}, page_content='b) Not used. c) The MANUFACTURER shall document the software safety class assigned to each SOFTWARE SYSTEM in the RISK MANAGEMENT FIL E. d) When a SOFTWARE SYSTEM is decomposed into SOFTWARE ITEMS , and when a SOFTWARE ITEM is decomposed into further SOFTWARE ITEMS , such SOFTWARE ITEMS shall inherit the software safety classification of the original SOFTWARE ITEM (or SOFTWARE SYSTEM ) unless the MANUFACTURER documents a rationale for classification into a different software safety class (software safety classes assigned according to 4.3 a) replacing SOFTWARE SYSTEM with SOFTWARE ITEM). Such a rationale shall explain how the new SOFTWARE ITEMS are segregated so that they may be classified separately. e) The MANUFACTURER shall document the software safety class of each SOFTWARE IT EM if that class is different from the class of the SOFTWARE ITEM from which it was created by decomposition. f) For compliance with this standard, when applying this standard to a group of SOFTWARE ITEMS ,'),\n",
       " Document(id='f0cc2e5d-dec1-4339-bec9-388962bb1e9e', metadata={'doc_name': 'IEC-62304', 'page_number': 33}, page_content='many of these PROCESSES and ACTIVITIES as requirements for software in class A should not imply that these PROCESSES and ACTIVITIES would not be of value or are not recommended. Their omission is intended to recognize that software that cannot cause a HAZARD can be assured of SAFETY and effectiveness primarily through overall validation ACTIVITY during the design of a MEDICAL DEVICE (which is outside the scope of this standard) and through some simple software life c ycle controls. A.2 Summary of requirements by class Table A. 1 summarizes which software safety classes are assigned to each requirement. This table is informative and only provided for convenience. The normative section identifies the software safety classes for each requirement. International Electrotechnical Commission Provided by IHS under license with IEC Licensee=Chongqing Institute of quality and Standardization 5990390 Not for Resale, 2015/8/20 09:23:13 No reproduction or networking permitted without license from')]"
      ]
     },
     "execution_count": 31,
     "metadata": {},
     "output_type": "execute_result"
    }
   ],
   "source": [
    "retrieved_docs"
   ]
  },
  {
   "cell_type": "code",
   "execution_count": 32,
   "id": "83df568c",
   "metadata": {},
   "outputs": [
    {
     "data": {
      "text/plain": [
       "[Document(metadata={'id': '1', 'relevance_score': 0.400299996137619, 'source': ''}, page_content='4.3 * Software safety classification a) The MANUFACTURER shall assign to each SOFTWARE SYSTEM a software safety class (A, B, or C) according to the RISK of HARM to the patient, operator, or other people resulting from a HAZARDOUS SITUATION to which the SOFTWARE SYSTEM can contribute in a worst -case - scenario as indicated in Figure 3. Figure 3 Assigning software safety classification The SOFTWARE SYSTEM is software safety c lass A if : the SOFTWARE SYSTEM cannot contribute to a HAZARDOUS SITUATION ; or the SOFTWARE SYSTEM can contribute to a HAZARDOUS SITUATION which does not result in unacceptable RISK after consideration of RISK CONTROL measures external to the SOFTWARE SYSTEM . The SOFTWARE SYSTEM is software safety c lass B if : the SOFTWARE SYSTEM can contribute to a HAZARDOUS SITUATION which results in unacceptable RISK after consideration of RISK CONTROL measures external to the SOFTWARE SYSTEM and the resulting possible HARM is non-SERIOUS INJURY . The SOFTWARE SYSTEM is'),\n",
       " Document(metadata={'id': '2', 'relevance_score': 0.37940001487731934, 'source': ''}, page_content='. The SOFTWARE SYSTEM is software safety c lass C if : the SOFTWARE SYSTEM can contribute to a HAZARDOUS SITUATION which results in unacceptable RISK after consideration of RISK CONTRO L measures external to the SOFTWARE SYSTEM and the resulting possible HARM is death or SERIOUS INJURY . For a SOFTWARE SYSTEM initially classified as software safety c lass B or C, the MANUFACTURER may implement additional RISK CONTROL measures external to the SOFTWARE SYSTEM (including revising the system architecture containing the SOFTWARE SYSTEM ) and subsequently assign a new software safety classification to the SOFTWARE SYSTEM . NOTE 1 External RISK CONTROL measures can be hardware, an independent SOFTWARE SYSTEM , health care procedures , or other means to minimize that software can contribute to a HAZARDOUS SITUATION . International Electrotechnical Commission Provided by IHS under license with IEC Licensee=Chongqing Institute of quality and Standardization 5990390 Not for Resale, 2015/8/20'),\n",
       " Document(metadata={'id': '3', 'relevance_score': 0.21739999949932098, 'source': ''}, page_content='INTRODUCTION Software is often an integral part of MEDICAL DEVICE technology. Establishing the SAFETY and effectiveness of a MEDICAL DEVICE containing software requires knowledge of what the sof tware is intended to do and demonstration that the use of the software fulfils those intentions without causing any unacceptable RISKS . This standard provides a framework of life cycle PROCESSES with ACTIVITIES and TASKS necessary for the safe design and maintenance of MEDICAL DEVICE SOFTW ARE. This standard provides requirements for each life c ycle PROCESS . Each life cycle PROCESS consists of a set of ACTIVITIES , with most ACTIVITIES consisting of a set of TASKS . As a basic foundation it is assumed that MEDICAL DEVICE SOFTW ARE is developed and maintained within a quality management system (see 4.1) and a RISK MANAGEMENT system (see 4.2). The RISK MANAGEMENT PROC ESS is alre ady very well addressed by the International Standard ISO 14971. Therefore IEC 62304 makes use of this advantage'),\n",
       " Document(metadata={'id': '0', 'relevance_score': 0.17679999768733978, 'source': ''}, page_content='to meet European Directives . Software safety classification changes needed for this amendment include clarification of requirements and updating of the software safety classification to include a risk -based approach. Work is continuing in parallel to develop the second edition of IEC 62304. International Electrotechnical Commission Provided by IHS under license with IEC Licensee=Chongqing Institute of quality and Standardization 5990390 Not for Resale, 2015/8/20 09:23:13 No reproduction or networking permitted without license from IHS'),\n",
       " Document(metadata={'id': '4', 'relevance_score': 0.1745000034570694, 'source': ''}, page_content='SOFTWARE SYSTEM / SOFTWARE ITEM (CLASS C) SOFTWARE ITEM X (Class A)SOFTWARE ITEM Y (Class C) SOFTWARE ITEM W (Class B)SOFTWARE ITEM Z (Class C) Figure B.1 Example of partitioning of SOFTWARE ITEMS For this example, the MANUFACTURER knows, due to the type of MEDICAL DEVICE SOFTWARE being developed, that the preliminary software safety classification for the SOFTWARE SYSTEM is software safety class C. During software ARCHITECTURE design the MANUFACTURER has decided to partition the SYSTEM , as shown, with 3 SOFTWARE ITEMS X, W and Z. The MANUFACTURER is able to segregate all SOFTWARE SYSTEM contributions to HAZARDOUS SIT UATIONS which could result in death or SERIOUS INJURY to SOFTWARE ITEM Z and all remaining SOFTWARE SYSTEM contributions to HAZARDOUS SITUATIONS which could result in a nonSERIOUS INJURY to SOFTWARE ITEM W. SOFTWARE ITE m W is classified as software safety class B and SOFTWARE ITEM Z is at software safety class C. SOFTWARE ITEM Y therefore must be classified as Class C,')]"
      ]
     },
     "execution_count": 32,
     "metadata": {},
     "output_type": "execute_result"
    }
   ],
   "source": [
    "reranked_docs"
   ]
  },
  {
   "cell_type": "code",
   "execution_count": 1,
   "id": "2a521891",
   "metadata": {},
   "outputs": [
    {
     "name": "stderr",
     "output_type": "stream",
     "text": [
      "d:\\GenAI-Hackathon\\.venv\\Lib\\site-packages\\vertexai\\_model_garden\\_model_garden_models.py:278: UserWarning: This feature is deprecated as of June 24, 2025 and will be removed on June 24, 2026. For details, see https://cloud.google.com/vertex-ai/generative-ai/docs/deprecations/genai-vertexai-sdk.\n",
      "  warning_logs.show_deprecation_warning()\n"
     ]
    }
   ],
   "source": [
    "from app.services.llm_services.llm_implementation.gemini_models import Gemini25FlashLiteLLM, Gemini25FlashLLM\n",
    "from app.services.llm_services.graph_pipeline import ComplianceGraphPipe"
   ]
  },
  {
   "cell_type": "code",
   "execution_count": 2,
   "id": "338a623e",
   "metadata": {},
   "outputs": [],
   "source": [
    "llm = Gemini25FlashLLM()"
   ]
  },
  {
   "cell_type": "code",
   "execution_count": 3,
   "id": "86c7663f",
   "metadata": {},
   "outputs": [],
   "source": [
    "graph = ComplianceGraphPipe(llm=llm)"
   ]
  },
  {
   "cell_type": "code",
   "execution_count": 4,
   "id": "17fba29b",
   "metadata": {},
   "outputs": [],
   "source": [
    "com_graph = graph.compile_graph()"
   ]
  },
  {
   "cell_type": "code",
   "execution_count": 5,
   "id": "80e829cd",
   "metadata": {},
   "outputs": [
    {
     "data": {
      "image/png": "[encoded data removed]",
      "text/plain": [
       "<IPython.core.display.Image object>"
      ]
     },
     "metadata": {},
     "output_type": "display_data"
    }
   ],
   "source": [
    "from IPython.display import Image, display\n",
    "\n",
    "try:\n",
    "    display(Image(com_graph.get_graph().draw_mermaid_png()))\n",
    "except Exception:\n",
    "    # This requires some extra dependencies and is optional\n",
    "    pass"
   ]
  },
  {
   "cell_type": "code",
   "execution_count": 6,
   "id": "afbedd7a",
   "metadata": {},
   "outputs": [],
   "source": [
    "with open(r\"C:\\Users\\91882\\Downloads\\prd1.txt\", 'r') as f:\n",
    "    user_input = f.read()"
   ]
  },
  {
   "cell_type": "code",
   "execution_count": 7,
   "id": "5559fd7b",
   "metadata": {},
   "outputs": [
    {
     "name": "stdout",
     "output_type": "stream",
     "text": [
      " INFO : 2025-09-18 09:26:31,383 graph_pipeline.py:214 plan_comliance --> LLM Compliance Planning Completed\n",
      " INFO : 2025-09-18 09:26:31,387 graph_pipeline.py:222 compliance_answer --> Sending LLM Compliance Enrichment Request\n",
      " INFO : 2025-09-18 09:26:52,948 graph_pipeline.py:237 compliance_answer --> LLM Compliance Enrichment Completed\n",
      " INFO : 2025-09-18 09:26:57,715 graph_pipeline.py:222 compliance_answer --> Sending LLM Compliance Enrichment Request\n",
      " INFO : 2025-09-18 09:26:59,069 graph_pipeline.py:237 compliance_answer --> LLM Compliance Enrichment Completed\n",
      " INFO : 2025-09-18 09:27:02,790 graph_pipeline.py:222 compliance_answer --> Sending LLM Compliance Enrichment Request\n",
      " INFO : 2025-09-18 09:27:04,012 graph_pipeline.py:237 compliance_answer --> LLM Compliance Enrichment Completed\n",
      " INFO : 2025-09-18 09:27:08,587 graph_pipeline.py:222 compliance_answer --> Sending LLM Compliance Enrichment Request\n",
      " INFO : 2025-09-18 09:27:09,880 graph_pipeline.py:237 compliance_answer --> LLM Compliance Enrichment Completed\n",
      " INFO : 2025-09-18 09:27:13,154 graph_pipeline.py:222 compliance_answer --> Sending LLM Compliance Enrichment Request\n",
      " INFO : 2025-09-18 09:27:14,660 graph_pipeline.py:237 compliance_answer --> LLM Compliance Enrichment Completed\n",
      " INFO : 2025-09-18 09:27:20,260 graph_pipeline.py:222 compliance_answer --> Sending LLM Compliance Enrichment Request\n",
      " INFO : 2025-09-18 09:27:22,969 graph_pipeline.py:237 compliance_answer --> LLM Compliance Enrichment Completed\n",
      " INFO : 2025-09-18 09:27:22,973 rag_tools.py:65 retrieve_by_standards --> RAG Tool Invoked with query: software development planning IEC 62304 and standard: IEC-62304\n",
      " INFO : 2025-09-18 09:27:30,766 rag_tools.py:76 retrieve_by_standards --> RAG Tool Retrieved 5 documents\n",
      " INFO : 2025-09-18 09:27:30,767 rag_tools.py:65 retrieve_by_standards --> RAG Tool Invoked with query: software safety classification IEC 62304 and standard: IEC-62304\n",
      " INFO : 2025-09-18 09:27:36,792 rag_tools.py:76 retrieve_by_standards --> RAG Tool Retrieved 5 documents\n",
      " INFO : 2025-09-18 09:27:36,794 rag_tools.py:65 retrieve_by_standards --> RAG Tool Invoked with query: software requirements analysis and design IEC 62304 and standard: IEC-62304\n",
      " INFO : 2025-09-18 09:27:41,691 rag_tools.py:76 retrieve_by_standards --> RAG Tool Retrieved 5 documents\n",
      " INFO : 2025-09-18 09:27:41,693 rag_tools.py:65 retrieve_by_standards --> RAG Tool Invoked with query: software verification and testing at different levels IEC 62304 and standard: IEC-62304\n",
      " INFO : 2025-09-18 09:27:48,228 rag_tools.py:76 retrieve_by_standards --> RAG Tool Retrieved 5 documents\n",
      " INFO : 2025-09-18 09:27:48,230 rag_tools.py:65 retrieve_by_standards --> RAG Tool Invoked with query: software configuration management IEC 62304 and standard: IEC-62304\n",
      " INFO : 2025-09-18 09:27:55,673 rag_tools.py:76 retrieve_by_standards --> RAG Tool Retrieved 5 documents\n",
      " INFO : 2025-09-18 09:27:55,674 rag_tools.py:65 retrieve_by_standards --> RAG Tool Invoked with query: software problem resolution and maintenance IEC 62304 and standard: IEC-62304\n",
      " INFO : 2025-09-18 09:28:00,782 rag_tools.py:76 retrieve_by_standards --> RAG Tool Retrieved 5 documents\n",
      " INFO : 2025-09-18 09:28:00,783 rag_tools.py:65 retrieve_by_standards --> RAG Tool Invoked with query: risk management activities ISO 14971 principles IEC 62304 and standard: IEC-62304\n",
      " INFO : 2025-09-18 09:28:05,959 rag_tools.py:76 retrieve_by_standards --> RAG Tool Retrieved 5 documents\n",
      " INFO : 2025-09-18 09:28:05,962 graph_pipeline.py:222 compliance_answer --> Sending LLM Compliance Enrichment Request\n",
      " INFO : 2025-09-18 09:28:29,527 graph_pipeline.py:237 compliance_answer --> LLM Compliance Enrichment Completed\n"
     ]
    }
   ],
   "source": [
    "final_state = com_graph.invoke({\"messages\": [{\"role\": \"user\", \"content\": user_input}]})"
   ]
  },
  {
   "cell_type": "code",
   "execution_count": 11,
   "id": "eb876bf4",
   "metadata": {},
   "outputs": [
    {
     "name": "stdout",
     "output_type": "stream",
     "text": [
      "Enriched Compliance Requirements:\n",
      "\n",
      "**1. HIPAA Compliance**\n",
      "\n",
      "*   **Standard Name:** HIPAA (45 CFR Part 164 - Security Rule, 45 CFR Part 164 - Privacy Rule, 45 CFR Part 162 - Electronic Transactions Rule, 45 CFR Part 164 - Breach Notification Rule)\n",
      "*   **Clause/ID:** 45 CFR Part 164 (specifically Subparts C, D, and E), 45 CFR Part 162\n",
      "*   **Requirement Title:** Protection of Protected Health Information (PHI) and Electronic Protected Health Information (ePHI), Electronic Transaction Standards, Audit Controls, Administrative, Physical, and Technical Safeguards, and Breach Notification Procedures.\n",
      "*   **Requirement Text:** The HIPAA Security Rule (45 CFR Part 164, Subpart C) establishes national security standards to protect certain health information in electronic form, including financial data storage. The Privacy Rule (45 CFR Part 164, Subpart E) governs the uses and disclosures of protected health information. The Electronic Transactions Rule (45 CFR Part 162) mandates adherence to electronic transaction standards for claims submission (e.g., X12 EDI for 837, 835). Covered entities must also maintain audit trails for access and modifications to ePHI, implement administrative, physical, and technical safeguards, and follow breach notification procedures as outlined in 45 CFR Part 164, Subpart D.\n",
      "*   **Relevance Note:** This applies directly to the RCM system due to its handling of sensitive patient financial and health information (PHI/ePHI), its role in electronic claims submission, and the necessity of safeguarding data, maintaining auditability, and managing potential breaches within a healthcare context.\n",
      "\n",
      "**2. PCI-DSS Compliance**\n",
      "\n",
      "*   **Standard Name:** PCI-DSS (Payment Card Industry Data Security Standard)\n",
      "*   **Clause/ID:** Not explicitly defined in retrieved content, but refers to the overall PCI-DSS standard document.\n",
      "*   **Requirement Title:** Secure Handling of Payment Card Data\n",
      "*   **Requirement Text:** PCI-DSS mandates comprehensive security for payment card data. Key requirements include end-to-end encryption for payment account data in transit and at rest, secure network architecture, including firewall configurations, and protection of stored cardholder data. It also requires the implementation of strong access control measures, such as Role-Based Access Control (RBAC), regular monitoring and testing of networks, and the establishment and maintenance of an information security policy.\n",
      "*   **Relevance Note:** This is directly relevant as the RCM system supports multiple payment methods, including card payments, and therefore processes and stores sensitive cardholder data, necessitating adherence to industry standards for payment security.\n",
      "\n",
      "**3. Medical Coding Standards Adherence**\n",
      "\n",
      "*   **Standard Name:** ICD-10 (International Classification of Diseases, 10th Revision), CPT (Current Procedural Terminology), HCPCS (Healthcare Common Procedure Coding System)\n",
      "*   **Clause/ID:** Not explicitly defined in retrieved content, refers to the official code sets and their respective guidelines.\n",
      "*   **Requirement Title:** Accurate Utilization and Maintenance of Medical Coding Standards\n",
      "*   **Requirement Text:** The RCM system must accurately support and utilize ICD-10-CM/PCS for diagnoses and procedures, CPT for medical, surgical, and diagnostic procedures, and HCPCS Level II for medical products, supplies, and services. These coding systems are vital for healthcare documentation, data management, and accurate claim generation. Maintaining up-to-date code sets and guidelines from official sources like CDC (ICD-10-CM), CMS (ICD-10-PCS, HCPCS Level II), and AMA (CPT) is crucial for compliant billing and claims processing.\n",
      "*   **Relevance Note:** This is directly applicable as the RCM system's core functionality includes auto-generating claims based on services rendered and coding, which explicitly requires accurate and up-to-date implementation of these medical coding standards.\n",
      "\n",
      "**4. Audit & Accountability**\n",
      "\n",
      "*   **Standard Name:** General Financial & Billing Regulations (U.S. Context) (e.g., CMS, HHS OIG, False Claims Act, Anti-Kickback Statute), NIST SP 800-92, ISO/IEC 27002 principles.\n",
      "*   **Clause/ID:** Not explicitly defined as a single clause, but derived from principles of various regulations and best practices. (e.g., principles from NIST SP 800-92 for log management).\n",
      "*   **Requirement Title:** Comprehensive Audit Trails and Fraud Prevention\n",
      "*   **Requirement Text:** The system must maintain a detailed audit trail for every financial transaction, enabling the generation of comprehensive audit reports for regulatory compliance and internal review. This includes logging security events in sufficient detail and for an appropriate period. Furthermore, the system should incorporate features for the detection and alerting of suspicious billing activity, aligning with fraud prevention initiatives outlined by bodies like CMS and HHS OIG (e.g., related to False Claims Act and Anti-Kickback Statute).\n",
      "*   **Relevance Note:** Critical for financial integrity, regulatory compliance (especially with healthcare fraud and abuse laws), and internal control for the RCM system, which handles financial transactions and billing.\n",
      "\n",
      "**5. Data Integrity & Accuracy**\n",
      "\n",
      "*   **Standard Name:** General Financial & Billing Regulations (U.S. Context) (e.g., CMS), and general quality assurance principles.\n",
      "*   **Clause/ID:** Not explicitly defined as a single clause.\n",
      "*   **Requirement Title:** Accurate Financial Calculations, Verification, and Reporting\n",
      "*   **Requirement Text:** The RCM system must ensure accurate auto-calculation of co-payments, deductibles, and outstanding balances. It must reliably verify insurance eligibility, generate accurate claims based on rendered services and correct coding, and track claim status and revenue precisely. Accurate financial reporting is essential for both internal and external stakeholders, aligning with general billing accuracy requirements from regulatory bodies like CMS.\n",
      "*   **Relevance Note:** Fundamental to the RCM system's primary function of financial management in healthcare, directly impacting billing accuracy, timely reimbursements, and overall financial health.\n",
      "\n",
      "**6. Security & Access Control**\n",
      "\n",
      "*   **Standard Name:** HIPAA (45 CFR Part 164 - Security Rule), PCI-DSS, NIST SP 800-53, ISO/IEC 27001/27002 principles.\n",
      "*   **Clause/ID:** 45 CFR Part 164 Subpart C (HIPAA Security Rule), principles from NIST SP 800-53.\n",
      "*   **Requirement Title:** Robust Data Encryption and Role-Based Access Control\n",
      "*   **Requirement Text:** Sensitive data, including patient and financial information, must be protected with end-to-end encryption, both in transit and at rest, as mandated by standards like HIPAA and PCI-DSS. The system must implement strong Role-Based Access Control (RBAC) for all system functionalities and data access, ensuring that users only have access to the information and functions necessary for their roles. This aligns with security control guidelines found in NIST Special Publication 800-53 and ISO/IEC 27001/27002.\n",
      "*   **Relevance Note:** Essential for protecting sensitive healthcare and financial data within the RCM system, ensuring compliance with HIPAA, PCI-DSS, and general information security best practices.\n",
      "\n",
      "**7. Reliability & Performance**\n",
      "\n",
      "*   **Standard Name:** IEC 62304 (as a best practice for software lifecycle processes), general software engineering principles.\n",
      "*   **Clause/ID:** Not directly a regulatory clause but a performance requirement supported by robust software development practices.\n",
      "*   **Requirement Title:** Error-Free Processing and High System Availability\n",
      "*   **Requirement Text:** The RCM system must be capable of processing a high volume of claims (e.g., 500 claims/hour) without errors. This level of reliability directly impacts the accuracy and timeliness of compliance-related processes, such as claim generation and submission. Furthermore, the system must demonstrate high availability (e.g., 99.9% uptime) to ensure continuous and compliant operations, preventing disruptions in billing and revenue cycles. Adhering to structured software development processes, as outlined in standards like IEC 62304, can contribute to achieving these reliability and performance targets.\n",
      "*   **Relevance Note:** While not a direct regulatory requirement for an RCM system, robust reliability and performance are critical non-functional requirements that indirectly support and enable consistent compliance with all other regulations by ensuring accurate, timely, and uninterrupted operations. Applying principles from IEC 62304 for software development planning, design, and testing can foster this reliability.\n",
      "\n",
      "**8. IEC 62304 (Conditional - for Software Life Cycle Best Practices)**\n",
      "\n",
      "*   **Standard Name:** IEC 62304 (Medical device software – Software life cycle processes)\n",
      "*   **Clause/ID:** 5.1 (Software development planning), 4.3 (Software safety classification), 5.3 (Software architectural design), 5.4 (Software detailed design), 5.5 (Software unit implementation and verification), 5.6 (Software integration and integration testing), 5.7 (Software system testing), 5.8 (Software release), 8 (Software configuration management PROCESS), 9 (Software problem resolution PROCESS), 7 (Software risk management PROCESS)\n",
      "*   **Requirement Title:** Structured Software Development and Risk Management Lifecycle\n",
      "*   **Requirement Text:** If adopted as a best practice, the RCM system's software development should follow a structured lifecycle, including comprehensive software development planning (5.1), and considering a software safety classification (4.3) even if not strictly a medical device, to guide development rigor. This involves detailed software requirements analysis and design (5.3, 5.4), thorough software verification and testing at different levels (5.5, 5.6, 5.7), robust software configuration management (Clause 8) for identifying and controlling changes, and a defined software problem resolution process (Clause 9) for addressing and tracking issues. Furthermore, integrating risk management activities, aligning with ISO 14971 principles (Clause 7), within the software lifecycle is recommended to identify and mitigate software-related risks.\n",
      "*   **Relevance Note:** Although the RCM system is not a medical device, applying the principles of IEC 62304 as a \"least unsuitable\" standard provides a structured approach to software development, risk management, and maintenance. This ensures a higher level of quality, reliability, and safety for any critical software handling sensitive healthcare data and financial transactions, even if it's an indirect application rather than a direct regulatory mandate.\n"
     ]
    }
   ],
   "source": [
    "print(final_state[\"messages\"][-1].content)"
   ]
  },
  {
   "cell_type": "code",
   "execution_count": 1,
   "id": "73c0c72d",
   "metadata": {},
   "outputs": [
    {
     "name": "stderr",
     "output_type": "stream",
     "text": [
      "d:\\GenAI-Hackathon\\.venv\\Lib\\site-packages\\vertexai\\_model_garden\\_model_garden_models.py:278: UserWarning: This feature is deprecated as of June 24, 2025 and will be removed on June 24, 2026. For details, see https://cloud.google.com/vertex-ai/generative-ai/docs/deprecations/genai-vertexai-sdk.\n",
      "  warning_logs.show_deprecation_warning()\n"
     ]
    }
   ],
   "source": [
    "from app.services.llm_services.tools.rag_tools import retrieve_by_standards"
   ]
  },
  {
   "cell_type": "code",
   "execution_count": 2,
   "id": "a2b4bee0",
   "metadata": {},
   "outputs": [
    {
     "name": "stdout",
     "output_type": "stream",
     "text": [
      " INFO : 2025-09-18 09:16:45,857 rag_tools.py:65 retrieve_by_standards --> RAG Tool Invoked with query: IEC 62304 Software Development Process Clause 5, Software Configuration Management Process Clause 6, Software Maintenance Process Clause 7 and standard: IEC-62304\n",
      " INFO : 2025-09-18 09:16:54,130 rag_tools.py:76 retrieve_by_standards --> RAG Tool Retrieved 5 documents\n"
     ]
    },
    {
     "data": {
      "text/plain": [
       "\"[{'query': 'IEC 62304 Software Development Process Clause 5, Software Configuration Management Process Clause 6, Software Maintenance Process Clause 7', 'standard': 'IEC', 'contents': 'and VERIFICATION5.6 Software integration and integration testing6.2 Problem and modification analysis6.1 Establish software maintenance plan Figure 2 Overview of software maintenance PROCESSES and ACTIVITIES This standard identifies two additional PROCESSES considered essential for developing safe MEDICAL DEVICE SOFTW ARE. They are the softwar e configuration management PROCESS (Clause 8) and the software problem resolution PROCESS (Clause 9). Amendment 1 updates the standard to add requirements to deal with LEGACY SOFTWARE , where the software design is prior to the existence of the current version, to assist manufacturers who must show compliance to the standard to meet European Directives . Software safety IEC 722/06 IEC 72 3/06 International Electrotechnical Commission Provided by IHS under license with IEC Licensee=Chongqing Institute of quality and Standardization 5990390 Not for Resale, 2015/8/20 09:23:13 No reproduction or networking permitted without license from IHS'}, {'query': 'IEC 62304 Software Development Process Clause 5, Software Configuration Management Process Clause 6, Software Maintenance Process Clause 7', 'standard': 'IEC', 'contents': 'integration and VERIFICATION resultsSubsystem VERIFICATION resultsPEMS VERIFICATION resultsPEMS validation results Software unit implementation Key: Boxes represent typical development lifecycle activitiesSolid Arrows indicate typical deliverables transfered into/out of activitiesDotted arrows indicate deliverables just to the Risk Management FileOutputs from problem resolution process Inputs to problem resolution processPortion of PEMS V-model includedin IEC 62304 Figure C.2 Software as part of the V -model C.4.3 Development PROCESS Compliance with the software development PROCESS of this standard (Clause 5) requires that a software development plan be specified and then followed; it does not require that any particular life cycle model is used, but it does require that the plan include certain ACTIVITIES and have certain attributes. These requirements relate to the PEMS requirements in IEC 606011 for development life cycle, requirement specification, ARCHITECTURE , design and'}, {'query': 'IEC 62304 Software Development Process Clause 5, Software Configuration Management Process Clause 6, Software Maintenance Process Clause 7', 'standard': 'IEC', 'contents': 'INTRODUCTION Software is often an integral part of MEDICAL DEVICE technology. Establishing the SAFETY and effectiveness of a MEDICAL DEVICE containing software requires knowledge of what the sof tware is intended to do and demonstration that the use of the software fulfils those intentions without causing any unacceptable RISKS . This standard provides a framework of life cycle PROCESSES with ACTIVITIES and TASKS necessary for the safe design and maintenance of MEDICAL DEVICE SOFTW ARE. This standard provides requirements for each life c ycle PROCESS . Each life cycle PROCESS consists of a set of ACTIVITIES , with most ACTIVITIES consisting of a set of TASKS . As a basic foundation it is assumed that MEDICAL DEVICE SOFTW ARE is developed and maintained within a quality management system (see 4.1) and a RISK MANAGEMENT system (see 4.2). The RISK MANAGEMENT PROC ESS is alre ady very well addressed by the International Standard ISO 14971. Therefore IEC 62304 makes use of this advantage'}, {'query': 'IEC 62304 Software Development Process Clause 5, Software Configuration Management Process Clause 6, Software Maintenance Process Clause 7', 'standard': 'IEC', 'contents': 'verification 7.3.6 Design and development validation 7.1 Analysis of software contributing to hazardous situations 7.2 R ISK CONTROL measures 7.3 V ERIFICATION of RISK CONTROL measures 7.4 R ISK MANAGEMENT of software changes 8.1 Configuration identification 7.5.3 Identification and TRACEABILITY 8.2 Change control 7.5.3 Identification and TRACEABILITY 8.3 Configuration status accounting 9 Software problem resolution PROCESS C.3 Relationship to ISO 14971 Table C.2 shows the areas where IEC 62304 amplifies requirements for the RISK MANAGEMENT PROCESS required by ISO 14971. International Electrotechnical Commission Provided by IHS under license with IEC Licensee=Chongqing Institute of quality and Standardization 5990390 Not for Resale, 2015/8/20 09:23:13 No reproduction or networking permitted without license from IHS'}, {'query': 'IEC 62304 Software Development Process Clause 5, Software Configuration Management Process Clause 6, Software Maintenance Process Clause 7', 'standard': 'IEC', 'contents': 'resolution PROCESS for handling problems detected in the LEGACY SOFTWARE and DELIVERABLES in accordance with Clause 9. c) Changes to the LEGACY SOFTWARE shall be performed in accordance with Clause 6. 4.4.5 Rationale for use of LEGACY SOFTWARE The MANUFACTURER shall document the VERSION of the LEGACY SOFTWARE together with a rationale for the continued use of the LEGACY SOFTWARE based on the outputs of 4.4. NOTE Fulfilling 4.4 enables further use of LEGACY SOFTWARE in accordance with IEC 62304. 5 Software development PROCESS 5.1 * Software development planning 5.1.1 Software development plan The MANUFACTURER shall establish a software development plan (or plans) for conducting the ACTIVITIES of the software development PROCESS appropriate to the scope, magnitude, and software safety classifications of the SOFTWARE SYSTEM to be developed. The s OFTWARE DEVELOPMENT LIFE CYCLE MODEL shall either be fully defined or be referenced in the plan (or plans). The plan shall address the'}]\""
      ]
     },
     "execution_count": 2,
     "metadata": {},
     "output_type": "execute_result"
    }
   ],
   "source": [
    "retrieve_by_standards(\"IEC 62304 Software Development Process Clause 5, Software Configuration Management Process Clause 6, Software Maintenance Process Clause 7\", \"IEC\")"
   ]
  },
  {
   "cell_type": "code",
   "execution_count": null,
   "id": "226932ff",
   "metadata": {},
   "outputs": [],
   "source": []
  }
 ],
 "metadata": {
  "kernelspec": {
   "display_name": ".venv (3.12.4)",
   "language": "python",
   "name": "python3"
  },
  "language_info": {
   "codemirror_mode": {
    "name": "ipython",
    "version": 3
   },
   "file_extension": ".py",
   "mimetype": "text/x-python",
   "name": "python",
   "nbconvert_exporter": "python",
   "pygments_lexer": "ipython3",
   "version": "3.12.4"
  }
 },
 "nbformat": 4,
 "nbformat_minor": 5
}
