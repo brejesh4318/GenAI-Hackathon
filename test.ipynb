{
 "cells": [
  {
   "cell_type": "code",
   "execution_count": 1,
   "id": "81eeec71",
   "metadata": {},
   "outputs": [],
   "source": [
    "from google.cloud import aiplatform\n",
    "from langchain_google_vertexai import VertexAIEmbeddings\n",
    "import os\n",
    "from google.cloud.aiplatform.matching_engine.matching_engine_index_endpoint import (\n",
    "    Namespace,\n",
    "    NumericNamespace,\n",
    ")\n",
    "os.environ[\"GOOGLE_APPLICATION_CREDENTIALS\"] = r\"C:\\Users\\itsup\\Downloads\\dashtest-472304-2293013ef343.json\"\n",
    "# TODO : Set values as per your requirements\n",
    "# Project and Storage Constants\n",
    "PROJECT_ID = \"dashtest-472304\"\n",
    "REGION = \"europe-west4\"\n",
    "BUCKET = \"regulations-vector-search\"\n",
    "BUCKET_URI = f\"gs://{BUCKET}\"\n",
    "\n",
    "# The number of dimensions for the textembedding-gecko@003 is 768\n",
    "# If other embedder is used, the dimensions would probably need to change.\n",
    "DIMENSIONS = 768\n",
    "\n",
    "# Index Constants\n",
    "DISPLAY_NAME = \"regulation-index-2\"\n",
    "DEPLOYED_INDEX_ID = \"299753258010804224\"\n"
   ]
  },
  {
   "cell_type": "code",
   "execution_count": 2,
   "id": "47a17e6c",
   "metadata": {},
   "outputs": [],
   "source": [
    "aiplatform.init(project=PROJECT_ID, location=REGION, staging_bucket=BUCKET_URI) "
   ]
  },
  {
   "cell_type": "code",
   "execution_count": 3,
   "id": "3677c4b4",
   "metadata": {},
   "outputs": [
    {
     "name": "stderr",
     "output_type": "stream",
     "text": [
      "d:\\GenAI-Hackathon\\.venv\\Lib\\site-packages\\vertexai\\_model_garden\\_model_garden_models.py:278: UserWarning: This feature is deprecated as of June 24, 2025 and will be removed on June 24, 2026. For details, see https://cloud.google.com/vertex-ai/generative-ai/docs/deprecations/genai-vertexai-sdk.\n",
      "  warning_logs.show_deprecation_warning()\n"
     ]
    }
   ],
   "source": [
    "embedding_model = VertexAIEmbeddings(model_name=\"text-embedding-005\")"
   ]
  },
  {
   "cell_type": "code",
   "execution_count": 4,
   "id": "f1823c67",
   "metadata": {},
   "outputs": [],
   "source": [
    "# TODO : replace 1234567890123456789 with your acutial index ID\n",
    "my_index = aiplatform.MatchingEngineIndex(index_name=\"projects/513267201789/locations/europe-west4/indexes/299753258010804224\")\n",
    "\n",
    "my_index_endpoint = aiplatform.MatchingEngineIndexEndpoint(index_endpoint_name=\"projects/513267201789/locations/europe-west4/indexEndpoints/8262363689806462976\")"
   ]
  },
  {
   "cell_type": "code",
   "execution_count": 5,
   "id": "313b7683",
   "metadata": {},
   "outputs": [],
   "source": [
    "from langchain_google_vertexai import (\n",
    "    VectorSearchVectorStore,\n",
    "    VectorSearchVectorStoreDatastore,\n",
    ")"
   ]
  },
  {
   "cell_type": "code",
   "execution_count": 6,
   "id": "9d8abc7f",
   "metadata": {},
   "outputs": [],
   "source": [
    "vector_store = VectorSearchVectorStore.from_components(\n",
    "    project_id=PROJECT_ID,\n",
    "    region=REGION,\n",
    "    gcs_bucket_name=BUCKET,\n",
    "    index_id=my_index.name,\n",
    "    endpoint_id=my_index_endpoint.name,\n",
    "    embedding=embedding_model,\n",
    "    stream_update=True,\n",
    ")\n"
   ]
  },
  {
   "cell_type": "code",
   "execution_count": 7,
   "id": "b439e834",
   "metadata": {},
   "outputs": [],
   "source": [
    "# vector_store.similarity_search(\"What does IEC 62304 section 5.1 say about software development planning?\")"
   ]
  },
  {
   "cell_type": "code",
   "execution_count": 43,
   "id": "acde7580",
   "metadata": {},
   "outputs": [],
   "source": [
    "from langchain_community.document_loaders import PyPDFLoader\n",
    "from langchain_text_splitters import RecursiveCharacterTextSplitter\n",
    "import PyPDF2"
   ]
  },
  {
   "cell_type": "code",
   "execution_count": 44,
   "id": "28cf27fd",
   "metadata": {},
   "outputs": [],
   "source": [
    "with open(r\"C:\\Users\\itsup\\Downloads\\IMDRF_SaMD WG_Software-Specific Risk_N81 Final_0 - converted-final.pdf\", 'rb') as pdf_file:\n",
    "    reader = PyPDF2.PdfReader(pdf_file)\n",
    "    pages_text = []\n",
    "    for page in reader.pages:\n",
    "        pages_text.append(page.extract_text())\n"
   ]
  },
  {
   "cell_type": "code",
   "execution_count": 45,
   "id": "58b208af",
   "metadata": {},
   "outputs": [],
   "source": [
    "text_splitter = RecursiveCharacterTextSplitter(\n",
    "    chunk_size=1024,   # adjust as needed\n",
    "    chunk_overlap=200\n",
    ")"
   ]
  },
  {
   "cell_type": "code",
   "execution_count": 46,
   "id": "19c7159b",
   "metadata": {},
   "outputs": [],
   "source": [
    "import re\n",
    "\n",
    "def clean_text(text: str) -> str:\n",
    "    if not text:\n",
    "        return \"\"\n",
    "\n",
    "    # 1. Remove non-ASCII characters (unicode junk like \\uf8e9)\n",
    "    text = text.encode(\"ascii\", \"ignore\").decode()\n",
    "\n",
    "    # 2. Split into lines for fine-grained filtering\n",
    "    cleaned_lines = []\n",
    "    for line in text.split(\"\\n\"):\n",
    "        line = line.strip()\n",
    "\n",
    "        if not line:\n",
    "            continue\n",
    "\n",
    "        # Skip page headers/footers like \"– 36 – IEC 62304:2006\"\n",
    "        if re.match(r\"^–?\\s*\\d+\\s*–?\\s*IEC 62304\", line):\n",
    "            continue\n",
    "\n",
    "        # Skip page numbers\n",
    "        if re.fullmatch(r\"\\d+\", line):\n",
    "            continue\n",
    "\n",
    "        # Skip copyright lines\n",
    "        if re.search(r\"(IEC|ISO|FDA).*20\\d{2}\", line):\n",
    "            continue\n",
    "\n",
    "        # Skip TOC dots/dashes/backticks like \"......\", \"-----\", \"```\"\n",
    "        if re.match(r\"^[\\.\\-`,]{3,}$\", line):\n",
    "            continue\n",
    "\n",
    "        cleaned_lines.append(line)\n",
    "\n",
    "    # 3. Join lines back\n",
    "    text = \" \".join(cleaned_lines)\n",
    "\n",
    "    # 4. Fix hyphenated words broken across lines (\"test-\\ning\" → \"testing\")\n",
    "    text = re.sub(r\"(\\w+)-\\s+(\\w+)\", r\"\\1\\2\", text)\n",
    "\n",
    "    # 5. Remove leftover long runs of punctuation (`,,,`, \"```\", \"---\")\n",
    "    text = re.sub(r\"[\\-`',\\.]{3,}\", \" \", text)\n",
    "\n",
    "    # 6. Collapse multiple spaces\n",
    "    text = re.sub(r\"\\s+\", \" \", text)\n",
    "\n",
    "    return text.strip()\n"
   ]
  },
  {
   "cell_type": "code",
   "execution_count": 47,
   "id": "8488bf4e",
   "metadata": {},
   "outputs": [],
   "source": [
    "# Collect chunks with metadata\n",
    "DOC_NAME= \"FDA\"\n",
    "docs = []\n",
    "for page_num, page in enumerate(reader.pages, start=1):\n",
    "    page_text = page.extract_text()\n",
    "    if not page_text:\n",
    "        continue\n",
    "    page_text = clean_text(page_text)\n",
    "    chunks = text_splitter.split_text(page_text)\n",
    "    \n",
    "    if chunks:\n",
    "        for chunk in chunks:\n",
    "            docs.append({\n",
    "                \"page_content\": chunk,\n",
    "                \"metadata\": {\n",
    "                    \"doc_name\": DOC_NAME,\n",
    "                    \"page_number\": page_num\n",
    "                }\n",
    "            })"
   ]
  },
  {
   "cell_type": "code",
   "execution_count": 48,
   "id": "e3f50b5a",
   "metadata": {},
   "outputs": [
    {
     "data": {
      "text/plain": [
       "'aims to establish harmonized concepts, considerations, and common vocabulary for the risk characterization of medical device software . Additional work may be required to apply and align these concepts in a given jurisdiction.'"
      ]
     },
     "execution_count": 48,
     "metadata": {},
     "output_type": "execute_result"
    }
   ],
   "source": [
    "docs[14][\"page_content\"]"
   ]
  },
  {
   "cell_type": "code",
   "execution_count": null,
   "id": "6d85f5fb",
   "metadata": {},
   "outputs": [],
   "source": []
  },
  {
   "cell_type": "code",
   "execution_count": 49,
   "id": "b76b917e",
   "metadata": {},
   "outputs": [
    {
     "name": "stdout",
     "output_type": "stream",
     "text": [
      "Upserting datapoints MatchingEngineIndex index: projects/513267201789/locations/europe-west4/indexes/299753258010804224\n",
      "MatchingEngineIndex index Upserted datapoints. Resource name: projects/513267201789/locations/europe-west4/indexes/299753258010804224\n"
     ]
    },
    {
     "data": {
      "text/plain": [
       "['9da70b92-4118-4115-960d-05dada74191d',\n",
       " 'f3b4739a-8061-4204-a9e8-28bf76b2cc61',\n",
       " '271af221-bb79-4ac9-83d1-93ac0f9b8c7b',\n",
       " 'b0b725f9-76d5-4b6a-a61d-f10c7923c881',\n",
       " '9721c549-fc7e-4981-b1b6-6ad381806b84',\n",
       " 'e1aa8bfb-4cda-48e3-ac8f-ac24c69bcb1c',\n",
       " '430ecf30-c8b0-4222-bcd5-064cb0659bbd',\n",
       " '50c98d26-a329-4f00-886d-32736c4947de',\n",
       " 'a51943a1-f3a2-44e2-88dd-772727936c5b',\n",
       " 'a961c43c-3dd0-4f20-acf0-705653aed686',\n",
       " 'dcc232a4-349d-433f-8bb7-c0f9f029f3fd',\n",
       " '14216326-af0d-45e5-8745-4268b0cea6d1',\n",
       " 'c5851ace-c7d9-4c99-bf17-98461a35d3d6',\n",
       " '224c6392-5a13-4aba-a049-67dfc06dbeb7',\n",
       " '096da480-884e-49c2-a94b-ca65f5c16ac3',\n",
       " '19ba9bdf-c152-401e-b026-91edda277287',\n",
       " 'd8b1262c-6976-4c5c-a61c-c6e6a44f9921',\n",
       " '3ddc70e8-a8a8-4258-a7f0-c1eecb4f693e',\n",
       " 'e23bdc4d-89f0-4086-a79d-814e4199fef4',\n",
       " '73d9d48e-90b9-456b-8658-d2c289e3c84e',\n",
       " '7a135d4f-9637-477d-b20c-8076459fca33',\n",
       " '3410a4c8-94b5-44f4-b58a-b95d1318ddf3',\n",
       " 'a95defb7-17d5-434a-8dcc-464a74efe3b2',\n",
       " '5c2ce6dc-3c93-4e2d-8793-d9cd7a984103',\n",
       " '8dc31139-e460-4dc8-a1aa-e7e6f77fd3b3',\n",
       " 'c430fc36-0e25-40ce-8f12-9abba3692683',\n",
       " 'df3f3028-9469-4518-9a20-89a03ca4b356',\n",
       " 'b466c756-d7b3-430f-bae4-22e024df2ac4',\n",
       " '4f4168f0-7db7-4a7f-924d-8c3f5e26d9d5',\n",
       " '2e9ec52b-ccfc-4a43-9978-7ded87b70ea6',\n",
       " '31b49880-9d50-4938-9c4b-18ceeb2499ad',\n",
       " '49a8ef19-b9b7-4119-8074-409de762af41',\n",
       " 'c2e56820-a8f6-43f4-9462-f8ab431f5d9a',\n",
       " '1eb49b24-fa0c-4e14-b015-20a4da8ac225',\n",
       " '8a2f23b3-d185-42ad-b81c-8e3c8c119bf6',\n",
       " '96fd3033-a7b8-4707-8c0a-42a038e66990',\n",
       " '8230b920-4c44-4569-bd7a-80a0d162dbba',\n",
       " '8680ed60-1a3a-45e0-8739-ed389a719854',\n",
       " '72360a88-2758-4e28-a72f-67a3028c4b0b',\n",
       " 'df91cfcf-d4e2-4494-9923-164871238f65',\n",
       " 'd814e771-f5da-49e7-ab49-bf0abc6ddc5b',\n",
       " '1df6424f-c89e-4c9a-b34e-501b7e05a328',\n",
       " 'c42c05ef-607d-4c2b-8d8f-123969e2d2ba',\n",
       " '5551f19f-6649-432d-8add-490d3ffca03a',\n",
       " 'c32e5be4-c2c2-46fa-981b-28347e737c0b',\n",
       " 'ace25362-4ba9-4e67-8b98-df5b4b4bcb84',\n",
       " '7777b3e0-0799-40d3-a99f-308a941c398f',\n",
       " 'cec45684-501c-4f7a-a4ff-53862f5ed5f5',\n",
       " '3ec5b610-f0ad-4850-805a-66618fe3891b',\n",
       " 'b4ed8e0b-dc19-4781-aed7-3e115353a8ff',\n",
       " '82c9a1c8-441e-4d0a-838a-a5bececa02a0',\n",
       " '6f10d766-4762-40d5-a156-8732385cca6b',\n",
       " '4e1ab122-97ec-4deb-8c07-94c92937b019',\n",
       " '67de1f7b-751d-4035-ace3-455c6d050ece',\n",
       " '6d70c56a-5b0e-4903-9c08-1aeb4b6968ba',\n",
       " 'a0df637a-93bb-4698-ac50-7c1af8155db4',\n",
       " 'a1abecb7-8a6f-4362-9143-38ea2dbcabb8',\n",
       " 'be79ccfa-d93f-4382-aaf9-be87fc481c72',\n",
       " '359a857d-4e95-4011-afbe-54aba5504aa3',\n",
       " '83aacfef-b84c-475e-9d3f-ea5e18eb24f0',\n",
       " '1cbac566-e341-4beb-af80-cfcec55e6e60',\n",
       " 'abc89c13-9fbf-4dc8-96b4-d973a746b07c',\n",
       " '9c5118f7-399c-4d74-94f7-3b5d6b249f9b',\n",
       " '6e3147b8-ea6e-40d9-93f8-982189a76376',\n",
       " 'b545892f-d890-4df3-b6a3-43e1db9d108b',\n",
       " '799f10be-acbe-4038-807a-ccc3c36f952f',\n",
       " '295b233d-93e5-49c7-898a-ef4cd2566497',\n",
       " '118e0b0c-6236-4e7a-9404-c177c7e6711a',\n",
       " '3d44a9c1-5ed3-49e9-bbad-7d0ab55cb4e8',\n",
       " 'd67c65cc-d214-4dbb-b04a-0c6074426e5d',\n",
       " 'c927c026-6ea7-464d-a02f-c091e4eada18',\n",
       " 'a302eb87-aa7a-4ee3-9291-15eb284c2b84',\n",
       " '64a0a83a-ceca-4aa0-9b94-cdd5a3cd4f8d',\n",
       " '0d74b97a-d698-47f8-b900-47f9094b75e8',\n",
       " '54248e8c-a105-4653-aa95-8b915773ded4',\n",
       " 'c1aab748-61cb-4fb9-8b28-4922b527681f',\n",
       " '1ab39087-972a-4d85-882d-829bdb307375',\n",
       " '607b9991-8f11-4fb1-801e-9351f28904e4',\n",
       " '155890f2-c44a-4289-9bf3-c0b0848ac954',\n",
       " '2672311f-a299-4b51-a3be-a88ba0dde725',\n",
       " '1b41073b-a7e1-47c1-819a-807571e385dc',\n",
       " 'd33e0eb2-4785-4ccf-96f5-c425a8fcb4b4',\n",
       " 'dc074325-8adb-4606-97fc-8510390ac0e6',\n",
       " 'ee51dc33-5423-4e1d-a494-0de4492fbbab',\n",
       " 'a03e174f-336e-4179-bd18-dbcd10ab2134',\n",
       " '6670621b-931d-4fd4-b8e4-8f8e01589296',\n",
       " '7c5c71b4-e2a5-417b-b6aa-55d46f89f9a9',\n",
       " '84b25fcc-2f82-4e35-b959-65a6b94b9168',\n",
       " '477c7c8c-7b44-4642-b422-3895ba4da405',\n",
       " '3bcb45d3-126b-43e8-bf9f-95e89a7f6310',\n",
       " '400acd89-fa4d-4cc1-bb8c-2b99ed0460a0',\n",
       " 'be752287-a1ab-45c4-b301-53dbc60b404e',\n",
       " 'd8c7349a-6e7e-47d9-bb0c-390b4df61970',\n",
       " 'ff569cb3-2e05-4901-b9d8-de12f22d1260',\n",
       " 'fb1ee9ae-8277-4ec5-9e38-3b11802292ef',\n",
       " '134fbd7c-706d-45b4-9610-00dd6d883a71',\n",
       " '0e0998fa-fe47-4323-b4ed-198316802b6b',\n",
       " 'dd510090-9cc5-4eb7-b7f4-a38941ed8e26',\n",
       " 'da9acf48-6403-4e68-8aa4-fc708dbb1994',\n",
       " 'c2122500-8e1d-487d-b189-842dca1dae05',\n",
       " '989130fc-2785-468b-94dd-83eea107f3ae',\n",
       " '9fa8a96e-ce7b-403f-8ee2-1e9750553a6f',\n",
       " '4cd9a714-f4a3-4dcb-b20e-aba5036cd573',\n",
       " 'eeb47323-cfcd-496d-ac12-b1360295d907',\n",
       " '829b578d-c291-4af1-9282-aae2c2856ee0',\n",
       " 'b33b23f3-1fb2-44bf-8b49-605e81042851',\n",
       " 'a0971b43-5b66-43f9-b4a9-78be88599550',\n",
       " '4fe11f0d-287b-4666-bef4-a646b24a7c05',\n",
       " 'cc0b5c0f-44b5-4a3f-bde5-aa90fc8843d8',\n",
       " '4147746a-0695-40cd-ac05-770ea354619a',\n",
       " 'ef767f7a-56d5-4a1b-9db6-3d5b72f9e572',\n",
       " '2db22559-5bab-4045-8c4c-7900d3f87af9',\n",
       " 'daea8111-d32b-4ffb-b417-475683095dd4',\n",
       " 'ac94984f-bfa5-4bf9-a66a-7f945cb91cfd',\n",
       " '675763e5-4133-41a2-8475-abc31f9d4a56',\n",
       " 'e0f26f54-0b9b-4bcd-8de5-5be10092c9a9',\n",
       " '127cc247-15f9-4157-950c-05af0894dede',\n",
       " '0efa01b5-56d6-44da-ae86-4606674a411d',\n",
       " '0dbd709a-49cb-4cce-a263-81e3727dd971',\n",
       " '31c3d495-9f95-42bd-b9bf-d7051b657a13',\n",
       " '94b50189-9f95-49b8-b42e-7ba4b1dd1a7b',\n",
       " 'b6eee79b-38be-4551-81fa-e4f1e8294480',\n",
       " 'de9374ae-4cb1-40ce-a9ed-2b4e094f293f',\n",
       " 'c9df7c60-a676-4bcd-b6e3-2e17b098195c',\n",
       " '73ec24eb-833c-437e-b7b0-1b8477dbb467',\n",
       " 'be22fd2b-e1cb-4a03-ad66-7a7300191c8b',\n",
       " '5d42f698-b0b1-46d6-acc9-68073a535abc',\n",
       " '2c8d3578-4414-4cce-bead-487ef94209cf',\n",
       " 'ca762c51-f36c-4e94-8386-ba34500c5ba7',\n",
       " '51f74c3c-3817-4076-be2c-3ee0d1e3b146',\n",
       " 'c41a3e88-1156-4f78-a7ca-770d0183b277',\n",
       " 'c5d8d263-127d-4a00-9e70-0fd527fa2054',\n",
       " '8312591d-7109-4100-8443-3f2d19d3d311',\n",
       " 'df933479-d2e8-49ea-9447-fe4d79f9b529',\n",
       " 'fc34adea-da51-472a-8c9d-c67a25c722d1',\n",
       " '74848eb5-70ab-40e1-aa61-23d00ffd964c',\n",
       " '203ad53b-68c8-4e7c-b886-2d8794a0b615']"
      ]
     },
     "execution_count": 49,
     "metadata": {},
     "output_type": "execute_result"
    }
   ],
   "source": [
    "vector_store.add_texts(\n",
    "    texts=[d[\"page_content\"] for d in docs],\n",
    "    metadatas=[d[\"metadata\"] for d in docs]\n",
    ")"
   ]
  },
  {
   "cell_type": "code",
   "execution_count": 50,
   "id": "92d83b2e",
   "metadata": {},
   "outputs": [],
   "source": [
    "retriever = vector_store.as_retriever(search_kwargs={\"k\": 10})"
   ]
  },
  {
   "cell_type": "code",
   "execution_count": 21,
   "id": "fa05b036",
   "metadata": {},
   "outputs": [
    {
     "ename": "KeyboardInterrupt",
     "evalue": "",
     "output_type": "error",
     "traceback": [
      "\u001b[31m---------------------------------------------------------------------------\u001b[39m",
      "\u001b[31mKeyboardInterrupt\u001b[39m                         Traceback (most recent call last)",
      "\u001b[36mCell\u001b[39m\u001b[36m \u001b[39m\u001b[32mIn[21]\u001b[39m\u001b[32m, line 1\u001b[39m\n\u001b[32m----> \u001b[39m\u001b[32m1\u001b[39m \u001b[43mretriever\u001b[49m\u001b[43m.\u001b[49m\u001b[43minvoke\u001b[49m\u001b[43m(\u001b[49m\u001b[33;43m\"\u001b[39;49m\u001b[33;43mAccording to IEC 62304, how should software modules be classified based on risk to patients?\u001b[39;49m\u001b[33;43m\"\u001b[39;49m\u001b[43m)\u001b[49m\n",
      "\u001b[36mFile \u001b[39m\u001b[32md:\\GenAI-Hackathon\\.venv\\Lib\\site-packages\\langchain_core\\retrievers.py:263\u001b[39m, in \u001b[36mBaseRetriever.invoke\u001b[39m\u001b[34m(self, input, config, **kwargs)\u001b[39m\n\u001b[32m    261\u001b[39m kwargs_ = kwargs \u001b[38;5;28;01mif\u001b[39;00m \u001b[38;5;28mself\u001b[39m._expects_other_args \u001b[38;5;28;01melse\u001b[39;00m {}\n\u001b[32m    262\u001b[39m \u001b[38;5;28;01mif\u001b[39;00m \u001b[38;5;28mself\u001b[39m._new_arg_supported:\n\u001b[32m--> \u001b[39m\u001b[32m263\u001b[39m     result = \u001b[38;5;28;43mself\u001b[39;49m\u001b[43m.\u001b[49m\u001b[43m_get_relevant_documents\u001b[49m\u001b[43m(\u001b[49m\n\u001b[32m    264\u001b[39m \u001b[43m        \u001b[49m\u001b[38;5;28;43minput\u001b[39;49m\u001b[43m,\u001b[49m\u001b[43m \u001b[49m\u001b[43mrun_manager\u001b[49m\u001b[43m=\u001b[49m\u001b[43mrun_manager\u001b[49m\u001b[43m,\u001b[49m\u001b[43m \u001b[49m\u001b[43m*\u001b[49m\u001b[43m*\u001b[49m\u001b[43mkwargs_\u001b[49m\n\u001b[32m    265\u001b[39m \u001b[43m    \u001b[49m\u001b[43m)\u001b[49m\n\u001b[32m    266\u001b[39m \u001b[38;5;28;01melse\u001b[39;00m:\n\u001b[32m    267\u001b[39m     result = \u001b[38;5;28mself\u001b[39m._get_relevant_documents(\u001b[38;5;28minput\u001b[39m, **kwargs_)\n",
      "\u001b[36mFile \u001b[39m\u001b[32md:\\GenAI-Hackathon\\.venv\\Lib\\site-packages\\langchain_core\\vectorstores\\base.py:1067\u001b[39m, in \u001b[36mVectorStoreRetriever._get_relevant_documents\u001b[39m\u001b[34m(self, query, run_manager, **kwargs)\u001b[39m\n\u001b[32m   1065\u001b[39m kwargs_ = \u001b[38;5;28mself\u001b[39m.search_kwargs | kwargs\n\u001b[32m   1066\u001b[39m \u001b[38;5;28;01mif\u001b[39;00m \u001b[38;5;28mself\u001b[39m.search_type == \u001b[33m\"\u001b[39m\u001b[33msimilarity\u001b[39m\u001b[33m\"\u001b[39m:\n\u001b[32m-> \u001b[39m\u001b[32m1067\u001b[39m     docs = \u001b[38;5;28;43mself\u001b[39;49m\u001b[43m.\u001b[49m\u001b[43mvectorstore\u001b[49m\u001b[43m.\u001b[49m\u001b[43msimilarity_search\u001b[49m\u001b[43m(\u001b[49m\u001b[43mquery\u001b[49m\u001b[43m,\u001b[49m\u001b[43m \u001b[49m\u001b[43m*\u001b[49m\u001b[43m*\u001b[49m\u001b[43mkwargs_\u001b[49m\u001b[43m)\u001b[49m\n\u001b[32m   1068\u001b[39m \u001b[38;5;28;01melif\u001b[39;00m \u001b[38;5;28mself\u001b[39m.search_type == \u001b[33m\"\u001b[39m\u001b[33msimilarity_score_threshold\u001b[39m\u001b[33m\"\u001b[39m:\n\u001b[32m   1069\u001b[39m     docs_and_similarities = (\n\u001b[32m   1070\u001b[39m         \u001b[38;5;28mself\u001b[39m.vectorstore.similarity_search_with_relevance_scores(\n\u001b[32m   1071\u001b[39m             query, **kwargs_\n\u001b[32m   1072\u001b[39m         )\n\u001b[32m   1073\u001b[39m     )\n",
      "\u001b[36mFile \u001b[39m\u001b[32md:\\GenAI-Hackathon\\.venv\\Lib\\site-packages\\langchain_google_vertexai\\vectorstores\\vectorstores.py:253\u001b[39m, in \u001b[36m_BaseVertexAIVectorStore.similarity_search\u001b[39m\u001b[34m(self, query, k, filter, numeric_filter, **kwargs)\u001b[39m\n\u001b[32m    223\u001b[39m \u001b[38;5;28;01mdef\u001b[39;00m\u001b[38;5;250m \u001b[39m\u001b[34msimilarity_search\u001b[39m(\n\u001b[32m    224\u001b[39m     \u001b[38;5;28mself\u001b[39m,\n\u001b[32m    225\u001b[39m     query: \u001b[38;5;28mstr\u001b[39m,\n\u001b[32m   (...)\u001b[39m\u001b[32m    229\u001b[39m     **kwargs: Any,\n\u001b[32m    230\u001b[39m ) -> List[Document]:\n\u001b[32m    231\u001b[39m \u001b[38;5;250m    \u001b[39m\u001b[33;03m\"\"\"Return docs most similar to query.\u001b[39;00m\n\u001b[32m    232\u001b[39m \n\u001b[32m    233\u001b[39m \u001b[33;03m    Args:\u001b[39;00m\n\u001b[32m   (...)\u001b[39m\u001b[32m    249\u001b[39m \u001b[33;03m        A list of k matching documents.\u001b[39;00m\n\u001b[32m    250\u001b[39m \u001b[33;03m    \"\"\"\u001b[39;00m\n\u001b[32m    251\u001b[39m     \u001b[38;5;28;01mreturn\u001b[39;00m [\n\u001b[32m    252\u001b[39m         document\n\u001b[32m--> \u001b[39m\u001b[32m253\u001b[39m         \u001b[38;5;28;01mfor\u001b[39;00m document, _ \u001b[38;5;129;01min\u001b[39;00m \u001b[38;5;28;43mself\u001b[39;49m\u001b[43m.\u001b[49m\u001b[43msimilarity_search_with_score\u001b[49m\u001b[43m(\u001b[49m\n\u001b[32m    254\u001b[39m \u001b[43m            \u001b[49m\u001b[43mquery\u001b[49m\u001b[43m,\u001b[49m\u001b[43m \u001b[49m\u001b[43mk\u001b[49m\u001b[43m,\u001b[49m\u001b[43m \u001b[49m\u001b[38;5;28;43mfilter\u001b[39;49m\u001b[43m,\u001b[49m\u001b[43m \u001b[49m\u001b[43mnumeric_filter\u001b[49m\n\u001b[32m    255\u001b[39m \u001b[43m        \u001b[49m\u001b[43m)\u001b[49m\n\u001b[32m    256\u001b[39m     ]\n",
      "\u001b[36mFile \u001b[39m\u001b[32md:\\GenAI-Hackathon\\.venv\\Lib\\site-packages\\langchain_google_vertexai\\vectorstores\\vectorstores.py:105\u001b[39m, in \u001b[36m_BaseVertexAIVectorStore.similarity_search_with_score\u001b[39m\u001b[34m(self, query, k, filter, numeric_filter)\u001b[39m\n\u001b[32m     79\u001b[39m \u001b[38;5;250m\u001b[39m\u001b[33;03m\"\"\"Return docs most similar to query and their cosine distance from the query.\u001b[39;00m\n\u001b[32m     80\u001b[39m \n\u001b[32m     81\u001b[39m \u001b[33;03mArgs:\u001b[39;00m\n\u001b[32m   (...)\u001b[39m\u001b[32m    100\u001b[39m \u001b[33;03m    Higher score represents more similarity.\u001b[39;00m\n\u001b[32m    101\u001b[39m \u001b[33;03m\"\"\"\u001b[39;00m\n\u001b[32m    103\u001b[39m embedding = \u001b[38;5;28mself\u001b[39m._embeddings.embed_query(query)\n\u001b[32m--> \u001b[39m\u001b[32m105\u001b[39m \u001b[38;5;28;01mreturn\u001b[39;00m \u001b[38;5;28;43mself\u001b[39;49m\u001b[43m.\u001b[49m\u001b[43msimilarity_search_by_vector_with_score\u001b[49m\u001b[43m(\u001b[49m\n\u001b[32m    106\u001b[39m \u001b[43m    \u001b[49m\u001b[43membedding\u001b[49m\u001b[43m=\u001b[49m\u001b[43membedding\u001b[49m\u001b[43m,\u001b[49m\u001b[43m \u001b[49m\u001b[43mk\u001b[49m\u001b[43m=\u001b[49m\u001b[43mk\u001b[49m\u001b[43m,\u001b[49m\u001b[43m \u001b[49m\u001b[38;5;28;43mfilter\u001b[39;49m\u001b[43m=\u001b[49m\u001b[38;5;28;43mfilter\u001b[39;49m\u001b[43m,\u001b[49m\u001b[43m \u001b[49m\u001b[43mnumeric_filter\u001b[49m\u001b[43m=\u001b[49m\u001b[43mnumeric_filter\u001b[49m\n\u001b[32m    107\u001b[39m \u001b[43m\u001b[49m\u001b[43m)\u001b[49m\n",
      "\u001b[36mFile \u001b[39m\u001b[32md:\\GenAI-Hackathon\\.venv\\Lib\\site-packages\\langchain_google_vertexai\\vectorstores\\vectorstores.py:181\u001b[39m, in \u001b[36m_BaseVertexAIVectorStore.similarity_search_by_vector_with_score\u001b[39m\u001b[34m(self, embedding, sparse_embedding, k, rrf_ranking_alpha, filter, numeric_filter)\u001b[39m\n\u001b[32m    173\u001b[39m \u001b[38;5;28;01melse\u001b[39;00m:\n\u001b[32m    174\u001b[39m     distances = [\n\u001b[32m    175\u001b[39m         {\n\u001b[32m    176\u001b[39m             \u001b[33m\"\u001b[39m\u001b[33mdense_score\u001b[39m\u001b[33m\"\u001b[39m: elem[\u001b[33m\"\u001b[39m\u001b[33mdense_score\u001b[39m\u001b[33m\"\u001b[39m],\n\u001b[32m   (...)\u001b[39m\u001b[32m    179\u001b[39m         \u001b[38;5;28;01mfor\u001b[39;00m elem \u001b[38;5;129;01min\u001b[39;00m neighbors_list[\u001b[32m0\u001b[39m]\n\u001b[32m    180\u001b[39m     ]\n\u001b[32m--> \u001b[39m\u001b[32m181\u001b[39m documents = \u001b[38;5;28;43mself\u001b[39;49m\u001b[43m.\u001b[49m\u001b[43m_document_storage\u001b[49m\u001b[43m.\u001b[49m\u001b[43mmget\u001b[49m\u001b[43m(\u001b[49m\u001b[43mkeys\u001b[49m\u001b[43m)\u001b[49m\n\u001b[32m    183\u001b[39m \u001b[38;5;28;01mif\u001b[39;00m \u001b[38;5;28mall\u001b[39m(document \u001b[38;5;129;01mis\u001b[39;00m \u001b[38;5;129;01mnot\u001b[39;00m \u001b[38;5;28;01mNone\u001b[39;00m \u001b[38;5;28;01mfor\u001b[39;00m document \u001b[38;5;129;01min\u001b[39;00m documents):\n\u001b[32m    184\u001b[39m     \u001b[38;5;66;03m# Ignore typing because mypy doesn't seem to be able to identify that\u001b[39;00m\n\u001b[32m    185\u001b[39m     \u001b[38;5;66;03m# in documents there is no possibility to have None values with the\u001b[39;00m\n\u001b[32m    186\u001b[39m     \u001b[38;5;66;03m# check above.\u001b[39;00m\n\u001b[32m    187\u001b[39m     \u001b[38;5;28;01mreturn\u001b[39;00m \u001b[38;5;28mlist\u001b[39m(\u001b[38;5;28mzip\u001b[39m(documents, distances))  \u001b[38;5;66;03m# type: ignore\u001b[39;00m\n",
      "\u001b[36mFile \u001b[39m\u001b[32md:\\GenAI-Hackathon\\.venv\\Lib\\site-packages\\langchain_google_vertexai\\vectorstores\\document_storage.py:137\u001b[39m, in \u001b[36mGCSDocumentStorage.mget\u001b[39m\u001b[34m(self, keys)\u001b[39m\n\u001b[32m    132\u001b[39m \u001b[38;5;28;01mif\u001b[39;00m \u001b[38;5;28mself\u001b[39m._threaded:\n\u001b[32m    133\u001b[39m     download_docs = [\n\u001b[32m    134\u001b[39m         (\u001b[38;5;28mself\u001b[39m._bucket.blob(\u001b[38;5;28mself\u001b[39m._get_blob_name(key)), io.BytesIO())\n\u001b[32m    135\u001b[39m         \u001b[38;5;28;01mfor\u001b[39;00m key \u001b[38;5;129;01min\u001b[39;00m keys\n\u001b[32m    136\u001b[39m     ]\n\u001b[32m--> \u001b[39m\u001b[32m137\u001b[39m     download_results = \u001b[43mtransfer_manager\u001b[49m\u001b[43m.\u001b[49m\u001b[43mdownload_many\u001b[49m\u001b[43m(\u001b[49m\n\u001b[32m    138\u001b[39m \u001b[43m        \u001b[49m\u001b[43mdownload_docs\u001b[49m\u001b[43m,\u001b[49m\n\u001b[32m    139\u001b[39m \u001b[43m        \u001b[49m\u001b[43mskip_if_exists\u001b[49m\u001b[43m=\u001b[49m\u001b[38;5;28;43;01mFalse\u001b[39;49;00m\u001b[43m,\u001b[49m\n\u001b[32m    140\u001b[39m \u001b[43m        \u001b[49m\u001b[43mdownload_kwargs\u001b[49m\u001b[43m=\u001b[49m\u001b[38;5;28;43;01mNone\u001b[39;49;00m\u001b[43m,\u001b[49m\n\u001b[32m    141\u001b[39m \u001b[43m        \u001b[49m\u001b[43mdeadline\u001b[49m\u001b[43m=\u001b[49m\u001b[38;5;28;43;01mNone\u001b[39;49;00m\u001b[43m,\u001b[49m\n\u001b[32m    142\u001b[39m \u001b[43m        \u001b[49m\u001b[43mraise_exception\u001b[49m\u001b[43m=\u001b[49m\u001b[38;5;28;43;01mFalse\u001b[39;49;00m\u001b[43m,\u001b[49m\n\u001b[32m    143\u001b[39m \u001b[43m        \u001b[49m\u001b[43mworker_type\u001b[49m\u001b[43m=\u001b[49m\u001b[33;43m\"\u001b[39;49m\u001b[33;43mthread\u001b[39;49m\u001b[33;43m\"\u001b[39;49m\u001b[43m,\u001b[49m\n\u001b[32m    144\u001b[39m \u001b[43m        \u001b[49m\u001b[43mmax_workers\u001b[49m\u001b[43m=\u001b[49m\u001b[38;5;28;43mself\u001b[39;49m\u001b[43m.\u001b[49m\u001b[43m_n_threads\u001b[49m\u001b[43m,\u001b[49m\n\u001b[32m    145\u001b[39m \u001b[43m    \u001b[49m\u001b[43m)\u001b[49m\n\u001b[32m    146\u001b[39m     \u001b[38;5;28;01mfor\u001b[39;00m i, result \u001b[38;5;129;01min\u001b[39;00m \u001b[38;5;28menumerate\u001b[39m(download_results):\n\u001b[32m    147\u001b[39m         \u001b[38;5;28;01mif\u001b[39;00m \u001b[38;5;28misinstance\u001b[39m(result, \u001b[38;5;167;01mException\u001b[39;00m) \u001b[38;5;129;01mand\u001b[39;00m \u001b[38;5;129;01mnot\u001b[39;00m \u001b[38;5;28misinstance\u001b[39m(result, NotFound):\n",
      "\u001b[36mFile \u001b[39m\u001b[32md:\\GenAI-Hackathon\\.venv\\Lib\\site-packages\\google\\cloud\\storage\\transfer_manager.py:100\u001b[39m, in \u001b[36m_deprecate_threads_param.<locals>.convert_threads_or_raise\u001b[39m\u001b[34m(*args, **kwargs)\u001b[39m\n\u001b[32m     98\u001b[39m     \u001b[38;5;28;01mreturn\u001b[39;00m func(*args, **kwargs)\n\u001b[32m     99\u001b[39m \u001b[38;5;28;01melse\u001b[39;00m:\n\u001b[32m--> \u001b[39m\u001b[32m100\u001b[39m     \u001b[38;5;28;01mreturn\u001b[39;00m \u001b[43mfunc\u001b[49m\u001b[43m(\u001b[49m\u001b[43m*\u001b[49m\u001b[43margs\u001b[49m\u001b[43m,\u001b[49m\u001b[43m \u001b[49m\u001b[43m*\u001b[49m\u001b[43m*\u001b[49m\u001b[43mkwargs\u001b[49m\u001b[43m)\u001b[49m\n",
      "\u001b[36mFile \u001b[39m\u001b[32md:\\GenAI-Hackathon\\.venv\\Lib\\site-packages\\google\\cloud\\storage\\transfer_manager.py:395\u001b[39m, in \u001b[36mdownload_many\u001b[39m\u001b[34m(blob_file_pairs, download_kwargs, threads, deadline, raise_exception, worker_type, max_workers, skip_if_exists)\u001b[39m\n\u001b[32m    382\u001b[39m                 \u001b[38;5;28;01mcontinue\u001b[39;00m\n\u001b[32m    384\u001b[39m         futures.append(\n\u001b[32m    385\u001b[39m             executor.submit(\n\u001b[32m    386\u001b[39m                 _call_method_on_maybe_pickled_blob,\n\u001b[32m   (...)\u001b[39m\u001b[32m    393\u001b[39m             )\n\u001b[32m    394\u001b[39m         )\n\u001b[32m--> \u001b[39m\u001b[32m395\u001b[39m     \u001b[43mconcurrent\u001b[49m\u001b[43m.\u001b[49m\u001b[43mfutures\u001b[49m\u001b[43m.\u001b[49m\u001b[43mwait\u001b[49m\u001b[43m(\u001b[49m\n\u001b[32m    396\u001b[39m \u001b[43m        \u001b[49m\u001b[43mfutures\u001b[49m\u001b[43m,\u001b[49m\u001b[43m \u001b[49m\u001b[43mtimeout\u001b[49m\u001b[43m=\u001b[49m\u001b[43mdeadline\u001b[49m\u001b[43m,\u001b[49m\u001b[43m \u001b[49m\u001b[43mreturn_when\u001b[49m\u001b[43m=\u001b[49m\u001b[43mconcurrent\u001b[49m\u001b[43m.\u001b[49m\u001b[43mfutures\u001b[49m\u001b[43m.\u001b[49m\u001b[43mALL_COMPLETED\u001b[49m\n\u001b[32m    397\u001b[39m \u001b[43m    \u001b[49m\u001b[43m)\u001b[49m\n\u001b[32m    399\u001b[39m results = []\n\u001b[32m    400\u001b[39m \u001b[38;5;28;01mfor\u001b[39;00m future \u001b[38;5;129;01min\u001b[39;00m futures:\n\u001b[32m    401\u001b[39m     \u001b[38;5;66;03m# If raise_exception is False, don't call future.result()\u001b[39;00m\n",
      "\u001b[36mFile \u001b[39m\u001b[32m~\\AppData\\Local\\Programs\\Python\\Python312\\Lib\\concurrent\\futures\\_base.py:305\u001b[39m, in \u001b[36mwait\u001b[39m\u001b[34m(fs, timeout, return_when)\u001b[39m\n\u001b[32m    301\u001b[39m         \u001b[38;5;28;01mreturn\u001b[39;00m DoneAndNotDoneFutures(done, not_done)\n\u001b[32m    303\u001b[39m     waiter = _create_and_install_waiters(fs, return_when)\n\u001b[32m--> \u001b[39m\u001b[32m305\u001b[39m \u001b[43mwaiter\u001b[49m\u001b[43m.\u001b[49m\u001b[43mevent\u001b[49m\u001b[43m.\u001b[49m\u001b[43mwait\u001b[49m\u001b[43m(\u001b[49m\u001b[43mtimeout\u001b[49m\u001b[43m)\u001b[49m\n\u001b[32m    306\u001b[39m \u001b[38;5;28;01mfor\u001b[39;00m f \u001b[38;5;129;01min\u001b[39;00m fs:\n\u001b[32m    307\u001b[39m     \u001b[38;5;28;01mwith\u001b[39;00m f._condition:\n",
      "\u001b[36mFile \u001b[39m\u001b[32m~\\AppData\\Local\\Programs\\Python\\Python312\\Lib\\threading.py:655\u001b[39m, in \u001b[36mEvent.wait\u001b[39m\u001b[34m(self, timeout)\u001b[39m\n\u001b[32m    653\u001b[39m signaled = \u001b[38;5;28mself\u001b[39m._flag\n\u001b[32m    654\u001b[39m \u001b[38;5;28;01mif\u001b[39;00m \u001b[38;5;129;01mnot\u001b[39;00m signaled:\n\u001b[32m--> \u001b[39m\u001b[32m655\u001b[39m     signaled = \u001b[38;5;28;43mself\u001b[39;49m\u001b[43m.\u001b[49m\u001b[43m_cond\u001b[49m\u001b[43m.\u001b[49m\u001b[43mwait\u001b[49m\u001b[43m(\u001b[49m\u001b[43mtimeout\u001b[49m\u001b[43m)\u001b[49m\n\u001b[32m    656\u001b[39m \u001b[38;5;28;01mreturn\u001b[39;00m signaled\n",
      "\u001b[36mFile \u001b[39m\u001b[32m~\\AppData\\Local\\Programs\\Python\\Python312\\Lib\\threading.py:355\u001b[39m, in \u001b[36mCondition.wait\u001b[39m\u001b[34m(self, timeout)\u001b[39m\n\u001b[32m    353\u001b[39m \u001b[38;5;28;01mtry\u001b[39;00m:    \u001b[38;5;66;03m# restore state no matter what (e.g., KeyboardInterrupt)\u001b[39;00m\n\u001b[32m    354\u001b[39m     \u001b[38;5;28;01mif\u001b[39;00m timeout \u001b[38;5;129;01mis\u001b[39;00m \u001b[38;5;28;01mNone\u001b[39;00m:\n\u001b[32m--> \u001b[39m\u001b[32m355\u001b[39m         \u001b[43mwaiter\u001b[49m\u001b[43m.\u001b[49m\u001b[43macquire\u001b[49m\u001b[43m(\u001b[49m\u001b[43m)\u001b[49m\n\u001b[32m    356\u001b[39m         gotit = \u001b[38;5;28;01mTrue\u001b[39;00m\n\u001b[32m    357\u001b[39m     \u001b[38;5;28;01melse\u001b[39;00m:\n",
      "\u001b[31mKeyboardInterrupt\u001b[39m: "
     ]
    }
   ],
   "source": [
    "retriever.invoke(\"According to IEC 62304, how should software modules be classified based on risk to patients?\")\n"
   ]
  },
  {
   "cell_type": "code",
   "execution_count": null,
   "id": "6cc22452",
   "metadata": {},
   "outputs": [],
   "source": [
    "# from langchain.chains import RetrievalQA\n",
    "\n",
    "# filters = [Namespace(name=\"season\", allow_tokens=[\"spring\"])]\n",
    "# numeric_filters = [NumericNamespace(name=\"price\", value_float=40.0, op=\"LESS\")]\n",
    "\n",
    "# retriever.search_kwargs = {\"k\": 2, \"filter\": filters, \"numeric_filter\": numeric_filters}\n",
    "\n",
    "# retrieval_qa = RetrievalQA.from_chain_type(\n",
    "#     llm=llm,\n",
    "#     chain_type=\"stuff\",\n",
    "#     retriever=retriever,\n",
    "#     return_source_documents=True,\n",
    "# )\n",
    "\n",
    "# question = \"What are my options in breathable fabric?\"\n",
    "# response = retrieval_qa({\"query\": question})\n",
    "# print(f\"{response['result']}\")\n",
    "# print(\"REFERENCES\")\n",
    "# print(f\"{response['source_documents']}\")"
   ]
  },
  {
   "cell_type": "code",
   "execution_count": 68,
   "id": "344cb232",
   "metadata": {},
   "outputs": [],
   "source": [
    "from langchain.retrievers.contextual_compression import ContextualCompressionRetriever\n",
    "from langchain_google_community.vertex_rank import VertexAIRank"
   ]
  },
  {
   "cell_type": "code",
   "execution_count": 69,
   "id": "c1f168fb",
   "metadata": {},
   "outputs": [],
   "source": [
    "reranker = VertexAIRank(\n",
    "    project_id=PROJECT_ID,\n",
    "    location_id=\"global\",\n",
    "    ranking_config=\"default_ranking_config\",\n",
    "    title_field=\"source\",\n",
    "    top_n=5,\n",
    ")"
   ]
  },
  {
   "cell_type": "code",
   "execution_count": 70,
   "id": "12385e7f",
   "metadata": {},
   "outputs": [],
   "source": [
    "retriever_with_reranker = ContextualCompressionRetriever(\n",
    "    base_compressor=reranker, base_retriever=retriever\n",
    ")"
   ]
  },
  {
   "cell_type": "code",
   "execution_count": 71,
   "id": "652cae26",
   "metadata": {},
   "outputs": [],
   "source": [
    "filters = [Namespace(name=\"doc_name\", allow_tokens=[\"IEC-62304\"])]\n"
   ]
  },
  {
   "cell_type": "code",
   "execution_count": 72,
   "id": "4b257983",
   "metadata": {},
   "outputs": [
    {
     "ename": "TypeError",
     "evalue": "expected string or bytes-like object, got 'list'",
     "output_type": "error",
     "traceback": [
      "\u001b[31m---------------------------------------------------------------------------\u001b[39m",
      "\u001b[31mTypeError\u001b[39m                                 Traceback (most recent call last)",
      "\u001b[36mCell\u001b[39m\u001b[36m \u001b[39m\u001b[32mIn[72]\u001b[39m\u001b[32m, line 2\u001b[39m\n\u001b[32m      1\u001b[39m query = [\u001b[33m\"\u001b[39m\u001b[33mAccording to IEC 62304, how should software modules be classified based on risk to patients?\u001b[39m\u001b[33m\"\u001b[39m, \u001b[33m\"\u001b[39m\u001b[33mAccording to IEC 62304, how should software modules be classified based on risk to patients?\u001b[39m\u001b[33m\"\u001b[39m]\n\u001b[32m----> \u001b[39m\u001b[32m2\u001b[39m retrieved_docs = \u001b[43mretriever\u001b[49m\u001b[43m.\u001b[49m\u001b[43minvoke\u001b[49m\u001b[43m(\u001b[49m\u001b[43mquery\u001b[49m\u001b[43m,\u001b[49m\u001b[38;5;28;43mfilter\u001b[39;49m\u001b[43m \u001b[49m\u001b[43m=\u001b[49m\u001b[43m \u001b[49m\u001b[43mfilters\u001b[49m\u001b[43m)\u001b[49m\n\u001b[32m      3\u001b[39m reranked_docs = retriever_with_reranker.invoke(query,\u001b[38;5;28mfilter\u001b[39m = filters )\n",
      "\u001b[36mFile \u001b[39m\u001b[32md:\\GenAI-Hackathon\\.venv\\Lib\\site-packages\\langchain_core\\retrievers.py:263\u001b[39m, in \u001b[36mBaseRetriever.invoke\u001b[39m\u001b[34m(self, input, config, **kwargs)\u001b[39m\n\u001b[32m    261\u001b[39m kwargs_ = kwargs \u001b[38;5;28;01mif\u001b[39;00m \u001b[38;5;28mself\u001b[39m._expects_other_args \u001b[38;5;28;01melse\u001b[39;00m {}\n\u001b[32m    262\u001b[39m \u001b[38;5;28;01mif\u001b[39;00m \u001b[38;5;28mself\u001b[39m._new_arg_supported:\n\u001b[32m--> \u001b[39m\u001b[32m263\u001b[39m     result = \u001b[38;5;28;43mself\u001b[39;49m\u001b[43m.\u001b[49m\u001b[43m_get_relevant_documents\u001b[49m\u001b[43m(\u001b[49m\n\u001b[32m    264\u001b[39m \u001b[43m        \u001b[49m\u001b[38;5;28;43minput\u001b[39;49m\u001b[43m,\u001b[49m\u001b[43m \u001b[49m\u001b[43mrun_manager\u001b[49m\u001b[43m=\u001b[49m\u001b[43mrun_manager\u001b[49m\u001b[43m,\u001b[49m\u001b[43m \u001b[49m\u001b[43m*\u001b[49m\u001b[43m*\u001b[49m\u001b[43mkwargs_\u001b[49m\n\u001b[32m    265\u001b[39m \u001b[43m    \u001b[49m\u001b[43m)\u001b[49m\n\u001b[32m    266\u001b[39m \u001b[38;5;28;01melse\u001b[39;00m:\n\u001b[32m    267\u001b[39m     result = \u001b[38;5;28mself\u001b[39m._get_relevant_documents(\u001b[38;5;28minput\u001b[39m, **kwargs_)\n",
      "\u001b[36mFile \u001b[39m\u001b[32md:\\GenAI-Hackathon\\.venv\\Lib\\site-packages\\langchain_core\\vectorstores\\base.py:1067\u001b[39m, in \u001b[36mVectorStoreRetriever._get_relevant_documents\u001b[39m\u001b[34m(self, query, run_manager, **kwargs)\u001b[39m\n\u001b[32m   1065\u001b[39m kwargs_ = \u001b[38;5;28mself\u001b[39m.search_kwargs | kwargs\n\u001b[32m   1066\u001b[39m \u001b[38;5;28;01mif\u001b[39;00m \u001b[38;5;28mself\u001b[39m.search_type == \u001b[33m\"\u001b[39m\u001b[33msimilarity\u001b[39m\u001b[33m\"\u001b[39m:\n\u001b[32m-> \u001b[39m\u001b[32m1067\u001b[39m     docs = \u001b[38;5;28;43mself\u001b[39;49m\u001b[43m.\u001b[49m\u001b[43mvectorstore\u001b[49m\u001b[43m.\u001b[49m\u001b[43msimilarity_search\u001b[49m\u001b[43m(\u001b[49m\u001b[43mquery\u001b[49m\u001b[43m,\u001b[49m\u001b[43m \u001b[49m\u001b[43m*\u001b[49m\u001b[43m*\u001b[49m\u001b[43mkwargs_\u001b[49m\u001b[43m)\u001b[49m\n\u001b[32m   1068\u001b[39m \u001b[38;5;28;01melif\u001b[39;00m \u001b[38;5;28mself\u001b[39m.search_type == \u001b[33m\"\u001b[39m\u001b[33msimilarity_score_threshold\u001b[39m\u001b[33m\"\u001b[39m:\n\u001b[32m   1069\u001b[39m     docs_and_similarities = (\n\u001b[32m   1070\u001b[39m         \u001b[38;5;28mself\u001b[39m.vectorstore.similarity_search_with_relevance_scores(\n\u001b[32m   1071\u001b[39m             query, **kwargs_\n\u001b[32m   1072\u001b[39m         )\n\u001b[32m   1073\u001b[39m     )\n",
      "\u001b[36mFile \u001b[39m\u001b[32md:\\GenAI-Hackathon\\.venv\\Lib\\site-packages\\langchain_google_vertexai\\vectorstores\\vectorstores.py:253\u001b[39m, in \u001b[36m_BaseVertexAIVectorStore.similarity_search\u001b[39m\u001b[34m(self, query, k, filter, numeric_filter, **kwargs)\u001b[39m\n\u001b[32m    223\u001b[39m \u001b[38;5;28;01mdef\u001b[39;00m\u001b[38;5;250m \u001b[39m\u001b[34msimilarity_search\u001b[39m(\n\u001b[32m    224\u001b[39m     \u001b[38;5;28mself\u001b[39m,\n\u001b[32m    225\u001b[39m     query: \u001b[38;5;28mstr\u001b[39m,\n\u001b[32m   (...)\u001b[39m\u001b[32m    229\u001b[39m     **kwargs: Any,\n\u001b[32m    230\u001b[39m ) -> List[Document]:\n\u001b[32m    231\u001b[39m \u001b[38;5;250m    \u001b[39m\u001b[33;03m\"\"\"Return docs most similar to query.\u001b[39;00m\n\u001b[32m    232\u001b[39m \n\u001b[32m    233\u001b[39m \u001b[33;03m    Args:\u001b[39;00m\n\u001b[32m   (...)\u001b[39m\u001b[32m    249\u001b[39m \u001b[33;03m        A list of k matching documents.\u001b[39;00m\n\u001b[32m    250\u001b[39m \u001b[33;03m    \"\"\"\u001b[39;00m\n\u001b[32m    251\u001b[39m     \u001b[38;5;28;01mreturn\u001b[39;00m [\n\u001b[32m    252\u001b[39m         document\n\u001b[32m--> \u001b[39m\u001b[32m253\u001b[39m         \u001b[38;5;28;01mfor\u001b[39;00m document, _ \u001b[38;5;129;01min\u001b[39;00m \u001b[38;5;28;43mself\u001b[39;49m\u001b[43m.\u001b[49m\u001b[43msimilarity_search_with_score\u001b[49m\u001b[43m(\u001b[49m\n\u001b[32m    254\u001b[39m \u001b[43m            \u001b[49m\u001b[43mquery\u001b[49m\u001b[43m,\u001b[49m\u001b[43m \u001b[49m\u001b[43mk\u001b[49m\u001b[43m,\u001b[49m\u001b[43m \u001b[49m\u001b[38;5;28;43mfilter\u001b[39;49m\u001b[43m,\u001b[49m\u001b[43m \u001b[49m\u001b[43mnumeric_filter\u001b[49m\n\u001b[32m    255\u001b[39m \u001b[43m        \u001b[49m\u001b[43m)\u001b[49m\n\u001b[32m    256\u001b[39m     ]\n",
      "\u001b[36mFile \u001b[39m\u001b[32md:\\GenAI-Hackathon\\.venv\\Lib\\site-packages\\langchain_google_vertexai\\vectorstores\\vectorstores.py:103\u001b[39m, in \u001b[36m_BaseVertexAIVectorStore.similarity_search_with_score\u001b[39m\u001b[34m(self, query, k, filter, numeric_filter)\u001b[39m\n\u001b[32m     72\u001b[39m \u001b[38;5;28;01mdef\u001b[39;00m\u001b[38;5;250m \u001b[39m\u001b[34msimilarity_search_with_score\u001b[39m(  \u001b[38;5;66;03m# type: ignore[override]\u001b[39;00m\n\u001b[32m     73\u001b[39m     \u001b[38;5;28mself\u001b[39m,\n\u001b[32m     74\u001b[39m     query: \u001b[38;5;28mstr\u001b[39m,\n\u001b[32m   (...)\u001b[39m\u001b[32m     77\u001b[39m     numeric_filter: Optional[List[NumericNamespace]] = \u001b[38;5;28;01mNone\u001b[39;00m,\n\u001b[32m     78\u001b[39m ) -> List[Tuple[Document, Union[\u001b[38;5;28mfloat\u001b[39m, Dict[\u001b[38;5;28mstr\u001b[39m, \u001b[38;5;28mfloat\u001b[39m]]]]:\n\u001b[32m     79\u001b[39m \u001b[38;5;250m    \u001b[39m\u001b[33;03m\"\"\"Return docs most similar to query and their cosine distance from the query.\u001b[39;00m\n\u001b[32m     80\u001b[39m \n\u001b[32m     81\u001b[39m \u001b[33;03m    Args:\u001b[39;00m\n\u001b[32m   (...)\u001b[39m\u001b[32m    100\u001b[39m \u001b[33;03m        Higher score represents more similarity.\u001b[39;00m\n\u001b[32m    101\u001b[39m \u001b[33;03m    \"\"\"\u001b[39;00m\n\u001b[32m--> \u001b[39m\u001b[32m103\u001b[39m     embedding = \u001b[38;5;28;43mself\u001b[39;49m\u001b[43m.\u001b[49m\u001b[43m_embeddings\u001b[49m\u001b[43m.\u001b[49m\u001b[43membed_query\u001b[49m\u001b[43m(\u001b[49m\u001b[43mquery\u001b[49m\u001b[43m)\u001b[49m\n\u001b[32m    105\u001b[39m     \u001b[38;5;28;01mreturn\u001b[39;00m \u001b[38;5;28mself\u001b[39m.similarity_search_by_vector_with_score(\n\u001b[32m    106\u001b[39m         embedding=embedding, k=k, \u001b[38;5;28mfilter\u001b[39m=\u001b[38;5;28mfilter\u001b[39m, numeric_filter=numeric_filter\n\u001b[32m    107\u001b[39m     )\n",
      "\u001b[36mFile \u001b[39m\u001b[32md:\\GenAI-Hackathon\\.venv\\Lib\\site-packages\\langchain_google_vertexai\\embeddings.py:505\u001b[39m, in \u001b[36mVertexAIEmbeddings.embed_query\u001b[39m\u001b[34m(self, text, embeddings_task_type)\u001b[39m\n\u001b[32m    491\u001b[39m \u001b[38;5;28;01mdef\u001b[39;00m\u001b[38;5;250m \u001b[39m\u001b[34membed_query\u001b[39m(\n\u001b[32m    492\u001b[39m     \u001b[38;5;28mself\u001b[39m,\n\u001b[32m    493\u001b[39m     text: \u001b[38;5;28mstr\u001b[39m,\n\u001b[32m    494\u001b[39m     *,\n\u001b[32m    495\u001b[39m     embeddings_task_type: EmbeddingTaskTypes = \u001b[33m\"\u001b[39m\u001b[33mRETRIEVAL_QUERY\u001b[39m\u001b[33m\"\u001b[39m,\n\u001b[32m    496\u001b[39m ) -> List[\u001b[38;5;28mfloat\u001b[39m]:\n\u001b[32m    497\u001b[39m \u001b[38;5;250m    \u001b[39m\u001b[33;03m\"\"\"Embed a text.\u001b[39;00m\n\u001b[32m    498\u001b[39m \n\u001b[32m    499\u001b[39m \u001b[33;03m    Args:\u001b[39;00m\n\u001b[32m   (...)\u001b[39m\u001b[32m    503\u001b[39m \u001b[33;03m        Embedding for the text.\u001b[39;00m\n\u001b[32m    504\u001b[39m \u001b[33;03m    \"\"\"\u001b[39;00m\n\u001b[32m--> \u001b[39m\u001b[32m505\u001b[39m     \u001b[38;5;28;01mreturn\u001b[39;00m \u001b[38;5;28;43mself\u001b[39;49m\u001b[43m.\u001b[49m\u001b[43membed\u001b[49m\u001b[43m(\u001b[49m\u001b[43m[\u001b[49m\u001b[43mtext\u001b[49m\u001b[43m]\u001b[49m\u001b[43m,\u001b[49m\u001b[43m \u001b[49m\u001b[32;43m1\u001b[39;49m\u001b[43m,\u001b[49m\u001b[43m \u001b[49m\u001b[43membeddings_task_type\u001b[49m\u001b[43m)\u001b[49m[\u001b[32m0\u001b[39m]\n",
      "\u001b[36mFile \u001b[39m\u001b[32md:\\GenAI-Hackathon\\.venv\\Lib\\site-packages\\langchain_google_vertexai\\embeddings.py:446\u001b[39m, in \u001b[36mVertexAIEmbeddings.embed\u001b[39m\u001b[34m(self, texts, batch_size, embeddings_task_type, dimensions)\u001b[39m\n\u001b[32m    443\u001b[39m first_batch_result: List[List[\u001b[38;5;28mfloat\u001b[39m]] = []\n\u001b[32m    444\u001b[39m \u001b[38;5;28;01mif\u001b[39;00m batch_size > \u001b[32m0\u001b[39m:\n\u001b[32m    445\u001b[39m     \u001b[38;5;66;03m# Fixed batch size.\u001b[39;00m\n\u001b[32m--> \u001b[39m\u001b[32m446\u001b[39m     batches = \u001b[43mVertexAIEmbeddings\u001b[49m\u001b[43m.\u001b[49m\u001b[43m_prepare_batches\u001b[49m\u001b[43m(\u001b[49m\u001b[43mtexts\u001b[49m\u001b[43m,\u001b[49m\u001b[43m \u001b[49m\u001b[43mbatch_size\u001b[49m\u001b[43m)\u001b[49m\n\u001b[32m    447\u001b[39m \u001b[38;5;28;01melse\u001b[39;00m:\n\u001b[32m    448\u001b[39m     \u001b[38;5;66;03m# Dynamic batch size, starting from 250 at the first call.\u001b[39;00m\n\u001b[32m    449\u001b[39m     first_batch_result, batches = \u001b[38;5;28mself\u001b[39m._prepare_and_validate_batches(\n\u001b[32m    450\u001b[39m         texts, embeddings_task_type\n\u001b[32m    451\u001b[39m     )\n",
      "\u001b[36mFile \u001b[39m\u001b[32md:\\GenAI-Hackathon\\.venv\\Lib\\site-packages\\langchain_google_vertexai\\embeddings.py:248\u001b[39m, in \u001b[36mVertexAIEmbeddings._prepare_batches\u001b[39m\u001b[34m(texts, batch_size)\u001b[39m\n\u001b[32m    241\u001b[39m current_text = texts[text_index]\n\u001b[32m    242\u001b[39m \u001b[38;5;66;03m# Number of tokens per a text is conservatively estimated\u001b[39;00m\n\u001b[32m    243\u001b[39m \u001b[38;5;66;03m# as 2 times number of words, punctuation and whitespace characters.\u001b[39;00m\n\u001b[32m    244\u001b[39m \u001b[38;5;66;03m# Using `count_tokens` API will make batching too expensive.\u001b[39;00m\n\u001b[32m    245\u001b[39m \u001b[38;5;66;03m# Utilizing a tokenizer, would add a dependency that would not\u001b[39;00m\n\u001b[32m    246\u001b[39m \u001b[38;5;66;03m# necessarily be reused by the application using this class.\u001b[39;00m\n\u001b[32m    247\u001b[39m current_text_token_cnt = (\n\u001b[32m--> \u001b[39m\u001b[32m248\u001b[39m     \u001b[38;5;28mlen\u001b[39m(\u001b[43mVertexAIEmbeddings\u001b[49m\u001b[43m.\u001b[49m\u001b[43m_split_by_punctuation\u001b[49m\u001b[43m(\u001b[49m\u001b[43mcurrent_text\u001b[49m\u001b[43m)\u001b[49m) * \u001b[32m2\u001b[39m\n\u001b[32m    249\u001b[39m )\n\u001b[32m    250\u001b[39m end_of_batch = \u001b[38;5;28;01mFalse\u001b[39;00m\n\u001b[32m    251\u001b[39m \u001b[38;5;28;01mif\u001b[39;00m current_text_token_cnt > _MAX_TOKENS_PER_BATCH:\n\u001b[32m    252\u001b[39m     \u001b[38;5;66;03m# Current text is too big even for a single batch.\u001b[39;00m\n\u001b[32m    253\u001b[39m     \u001b[38;5;66;03m# Such request will fail, but we still make a batch\u001b[39;00m\n\u001b[32m    254\u001b[39m     \u001b[38;5;66;03m# so that the app can get the error from the API.\u001b[39;00m\n",
      "\u001b[36mFile \u001b[39m\u001b[32md:\\GenAI-Hackathon\\.venv\\Lib\\site-packages\\langchain_google_vertexai\\embeddings.py:226\u001b[39m, in \u001b[36mVertexAIEmbeddings._split_by_punctuation\u001b[39m\u001b[34m(text)\u001b[39m\n\u001b[32m    224\u001b[39m pattern = \u001b[33mf\u001b[39m\u001b[33m\"\u001b[39m\u001b[33m([\u001b[39m\u001b[38;5;132;01m{\u001b[39;00msplit_by\u001b[38;5;132;01m}\u001b[39;00m\u001b[33m])\u001b[39m\u001b[33m\"\u001b[39m\n\u001b[32m    225\u001b[39m \u001b[38;5;66;03m# Using re.split to split the text based on the pattern\u001b[39;00m\n\u001b[32m--> \u001b[39m\u001b[32m226\u001b[39m \u001b[38;5;28;01mreturn\u001b[39;00m [segment \u001b[38;5;28;01mfor\u001b[39;00m segment \u001b[38;5;129;01min\u001b[39;00m \u001b[43mre\u001b[49m\u001b[43m.\u001b[49m\u001b[43msplit\u001b[49m\u001b[43m(\u001b[49m\u001b[43mpattern\u001b[49m\u001b[43m,\u001b[49m\u001b[43m \u001b[49m\u001b[43mtext\u001b[49m\u001b[43m)\u001b[49m \u001b[38;5;28;01mif\u001b[39;00m segment]\n",
      "\u001b[36mFile \u001b[39m\u001b[32m~\\AppData\\Local\\Programs\\Python\\Python312\\Lib\\re\\__init__.py:207\u001b[39m, in \u001b[36msplit\u001b[39m\u001b[34m(pattern, string, maxsplit, flags)\u001b[39m\n\u001b[32m    199\u001b[39m \u001b[38;5;28;01mdef\u001b[39;00m\u001b[38;5;250m \u001b[39m\u001b[34msplit\u001b[39m(pattern, string, maxsplit=\u001b[32m0\u001b[39m, flags=\u001b[32m0\u001b[39m):\n\u001b[32m    200\u001b[39m \u001b[38;5;250m    \u001b[39m\u001b[33;03m\"\"\"Split the source string by the occurrences of the pattern,\u001b[39;00m\n\u001b[32m    201\u001b[39m \u001b[33;03m    returning a list containing the resulting substrings.  If\u001b[39;00m\n\u001b[32m    202\u001b[39m \u001b[33;03m    capturing parentheses are used in pattern, then the text of all\u001b[39;00m\n\u001b[32m   (...)\u001b[39m\u001b[32m    205\u001b[39m \u001b[33;03m    and the remainder of the string is returned as the final element\u001b[39;00m\n\u001b[32m    206\u001b[39m \u001b[33;03m    of the list.\"\"\"\u001b[39;00m\n\u001b[32m--> \u001b[39m\u001b[32m207\u001b[39m     \u001b[38;5;28;01mreturn\u001b[39;00m \u001b[43m_compile\u001b[49m\u001b[43m(\u001b[49m\u001b[43mpattern\u001b[49m\u001b[43m,\u001b[49m\u001b[43m \u001b[49m\u001b[43mflags\u001b[49m\u001b[43m)\u001b[49m\u001b[43m.\u001b[49m\u001b[43msplit\u001b[49m\u001b[43m(\u001b[49m\u001b[43mstring\u001b[49m\u001b[43m,\u001b[49m\u001b[43m \u001b[49m\u001b[43mmaxsplit\u001b[49m\u001b[43m)\u001b[49m\n",
      "\u001b[31mTypeError\u001b[39m: expected string or bytes-like object, got 'list'"
     ]
    }
   ],
   "source": [
    "query = [\"According to IEC 62304, how should software modules be classified based on risk to patients?\", \"According to IEC 62304, how should software modules be classified based on risk to patients?\"]\n",
    "retrieved_docs = retriever.invoke(query,filter = filters)\n",
    "reranked_docs = retriever_with_reranker.invoke(query,filter = filters )"
   ]
  },
  {
   "cell_type": "code",
   "execution_count": 66,
   "id": "b50554ab",
   "metadata": {},
   "outputs": [
    {
     "data": {
      "text/plain": [
       "[Document(id='ef7a7edf-cc69-40f4-86b6-4cb6aaf80134', metadata={'doc_name': 'IEC-62304', 'page_number': 5}, page_content='to meet European Directives . Software safety classification changes needed for this amendment include clarification of requirements and updating of the software safety classification to include a risk -based approach. Work is continuing in parallel to develop the second edition of IEC 62304. International Electrotechnical Commission Provided by IHS under license with IEC Licensee=Chongqing Institute of quality and Standardization 5990390 Not for Resale, 2015/8/20 09:23:13 No reproduction or networking permitted without license from IHS'),\n",
       " Document(id='dceff67b-a4fc-482a-9db6-cec7f4c47c5b', metadata={'doc_name': 'IEC-62304', 'page_number': 13}, page_content='4.3 * Software safety classification a) The MANUFACTURER shall assign to each SOFTWARE SYSTEM a software safety class (A, B, or C) according to the RISK of HARM to the patient, operator, or other people resulting from a HAZARDOUS SITUATION to which the SOFTWARE SYSTEM can contribute in a worst -case - scenario as indicated in Figure 3. Figure 3 Assigning software safety classification The SOFTWARE SYSTEM is software safety c lass A if : the SOFTWARE SYSTEM cannot contribute to a HAZARDOUS SITUATION ; or the SOFTWARE SYSTEM can contribute to a HAZARDOUS SITUATION which does not result in unacceptable RISK after consideration of RISK CONTROL measures external to the SOFTWARE SYSTEM . The SOFTWARE SYSTEM is software safety c lass B if : the SOFTWARE SYSTEM can contribute to a HAZARDOUS SITUATION which results in unacceptable RISK after consideration of RISK CONTROL measures external to the SOFTWARE SYSTEM and the resulting possible HARM is non-SERIOUS INJURY . The SOFTWARE SYSTEM is'),\n",
       " Document(id='865c143c-23d9-44fe-a1ff-dea005272798', metadata={'doc_name': 'IEC-62304', 'page_number': 13}, page_content='. The SOFTWARE SYSTEM is software safety c lass C if : the SOFTWARE SYSTEM can contribute to a HAZARDOUS SITUATION which results in unacceptable RISK after consideration of RISK CONTRO L measures external to the SOFTWARE SYSTEM and the resulting possible HARM is death or SERIOUS INJURY . For a SOFTWARE SYSTEM initially classified as software safety c lass B or C, the MANUFACTURER may implement additional RISK CONTROL measures external to the SOFTWARE SYSTEM (including revising the system architecture containing the SOFTWARE SYSTEM ) and subsequently assign a new software safety classification to the SOFTWARE SYSTEM . NOTE 1 External RISK CONTROL measures can be hardware, an independent SOFTWARE SYSTEM , health care procedures , or other means to minimize that software can contribute to a HAZARDOUS SITUATION . International Electrotechnical Commission Provided by IHS under license with IEC Licensee=Chongqing Institute of quality and Standardization 5990390 Not for Resale, 2015/8/20'),\n",
       " Document(id='1ff78b21-5436-41e1-a78c-d4e06c20587c', metadata={'doc_name': 'IEC-62304', 'page_number': 3}, page_content='INTRODUCTION Software is often an integral part of MEDICAL DEVICE technology. Establishing the SAFETY and effectiveness of a MEDICAL DEVICE containing software requires knowledge of what the sof tware is intended to do and demonstration that the use of the software fulfils those intentions without causing any unacceptable RISKS . This standard provides a framework of life cycle PROCESSES with ACTIVITIES and TASKS necessary for the safe design and maintenance of MEDICAL DEVICE SOFTW ARE. This standard provides requirements for each life c ycle PROCESS . Each life cycle PROCESS consists of a set of ACTIVITIES , with most ACTIVITIES consisting of a set of TASKS . As a basic foundation it is assumed that MEDICAL DEVICE SOFTW ARE is developed and maintained within a quality management system (see 4.1) and a RISK MANAGEMENT system (see 4.2). The RISK MANAGEMENT PROC ESS is alre ady very well addressed by the International Standard ISO 14971. Therefore IEC 62304 makes use of this advantage'),\n",
       " Document(id='03c6f14f-cde7-4f5b-8e3f-a867b4202701', metadata={'doc_name': 'IEC-62304', 'page_number': 41}, page_content='SOFTWARE SYSTEM / SOFTWARE ITEM (CLASS C) SOFTWARE ITEM X (Class A)SOFTWARE ITEM Y (Class C) SOFTWARE ITEM W (Class B)SOFTWARE ITEM Z (Class C) Figure B.1 Example of partitioning of SOFTWARE ITEMS For this example, the MANUFACTURER knows, due to the type of MEDICAL DEVICE SOFTWARE being developed, that the preliminary software safety classification for the SOFTWARE SYSTEM is software safety class C. During software ARCHITECTURE design the MANUFACTURER has decided to partition the SYSTEM , as shown, with 3 SOFTWARE ITEMS X, W and Z. The MANUFACTURER is able to segregate all SOFTWARE SYSTEM contributions to HAZARDOUS SIT UATIONS which could result in death or SERIOUS INJURY to SOFTWARE ITEM Z and all remaining SOFTWARE SYSTEM contributions to HAZARDOUS SITUATIONS which could result in a nonSERIOUS INJURY to SOFTWARE ITEM W. SOFTWARE ITE m W is classified as software safety class B and SOFTWARE ITEM Z is at software safety class C. SOFTWARE ITEM Y therefore must be classified as Class C,'),\n",
       " Document(id='679537e5-a330-4f8d-823a-bb29ff1bb309', metadata={'doc_name': 'IEC-62304', 'page_number': 2}, page_content='International Standard IEC 62304 has been prepared by a joint working group of subcommittee 62A: Common aspects of electrical equipment used in medical practice, of IEC technical committee 62: Electrical equipment in medical practice and ISO Technical Committee 210, Quality m anagement and corresponding general aspects for MEDICAL DEVICES . Table C.5 was prepared by ISO/IEC JTC 1/SC 7, Software and system engineering. It is published as a dual logo standard. This publication has been drafted in accordance with the ISO/IEC Directives, Part 2. In this standard the following print types are used: requirements and definitions: in roman type; informative material appearing outside of tables, such as notes, examples and references: in smaller type. Normative text of tables is also in a smaller type; terms used throughout this standard that have been defined in Clause 3 and also given in the index: in small capitals. An asterisk (*) as the first character of a title or at the beginning of a'),\n",
       " Document(id='0d63937b-8679-4361-b06b-27d4213c8e3b', metadata={'doc_name': 'IEC-62304', 'page_number': 40}, page_content='It is expected that MANUFACTURERS will find it useful to classify software before this point, for example to focus attention on areas to be investigated, but such classification should be regarded as preliminary and should not be used to justify the omission of PROCESSES . The software safety classification scheme is not intended to align with the RISK classifications of ISO 14971. Whereas the ISO 14971 scheme classifies RISK according to their severity and likelihood, the software safety classification scheme classifies SOFTWARE SYSTEMS and SOFTWARE ITEMS according to the PROCESSES to be applied in their development and maintenance. As the design evolves, new RISKS might become evident. Therefore, RISK MANAGEMENT should be applied as an integral part of the development PROCESS . This permits the development of an ARCHITECTURAL design that identifies a complete set of SOFTWARE ITEMS , including those that are required to function correctly to assure safe operation and those that'),\n",
       " Document(id='fa029aaa-9693-42c4-98a0-337b6c1cb0fa', metadata={'doc_name': 'IEC-62304', 'page_number': 54}, page_content='verification 7.3.6 Design and development validation 7.1 Analysis of software contributing to hazardous situations 7.2 R ISK CONTROL measures 7.3 V ERIFICATION of RISK CONTROL measures 7.4 R ISK MANAGEMENT of software changes 8.1 Configuration identification 7.5.3 Identification and TRACEABILITY 8.2 Change control 7.5.3 Identification and TRACEABILITY 8.3 Configuration status accounting 9 Software problem resolution PROCESS C.3 Relationship to ISO 14971 Table C.2 shows the areas where IEC 62304 amplifies requirements for the RISK MANAGEMENT PROCESS required by ISO 14971. International Electrotechnical Commission Provided by IHS under license with IEC Licensee=Chongqing Institute of quality and Standardization 5990390 Not for Resale, 2015/8/20 09:23:13 No reproduction or networking permitted without license from IHS'),\n",
       " Document(id='4bde5dce-a8cb-4aee-8211-6bfb4c9c3ca6', metadata={'doc_name': 'IEC-62304', 'page_number': 14}, page_content='b) Not used. c) The MANUFACTURER shall document the software safety class assigned to each SOFTWARE SYSTEM in the RISK MANAGEMENT FIL E. d) When a SOFTWARE SYSTEM is decomposed into SOFTWARE ITEMS , and when a SOFTWARE ITEM is decomposed into further SOFTWARE ITEMS , such SOFTWARE ITEMS shall inherit the software safety classification of the original SOFTWARE ITEM (or SOFTWARE SYSTEM ) unless the MANUFACTURER documents a rationale for classification into a different software safety class (software safety classes assigned according to 4.3 a) replacing SOFTWARE SYSTEM with SOFTWARE ITEM). Such a rationale shall explain how the new SOFTWARE ITEMS are segregated so that they may be classified separately. e) The MANUFACTURER shall document the software safety class of each SOFTWARE IT EM if that class is different from the class of the SOFTWARE ITEM from which it was created by decomposition. f) For compliance with this standard, when applying this standard to a group of SOFTWARE ITEMS ,'),\n",
       " Document(id='f0cc2e5d-dec1-4339-bec9-388962bb1e9e', metadata={'doc_name': 'IEC-62304', 'page_number': 33}, page_content='many of these PROCESSES and ACTIVITIES as requirements for software in class A should not imply that these PROCESSES and ACTIVITIES would not be of value or are not recommended. Their omission is intended to recognize that software that cannot cause a HAZARD can be assured of SAFETY and effectiveness primarily through overall validation ACTIVITY during the design of a MEDICAL DEVICE (which is outside the scope of this standard) and through some simple software life c ycle controls. A.2 Summary of requirements by class Table A. 1 summarizes which software safety classes are assigned to each requirement. This table is informative and only provided for convenience. The normative section identifies the software safety classes for each requirement. International Electrotechnical Commission Provided by IHS under license with IEC Licensee=Chongqing Institute of quality and Standardization 5990390 Not for Resale, 2015/8/20 09:23:13 No reproduction or networking permitted without license from')]"
      ]
     },
     "execution_count": 66,
     "metadata": {},
     "output_type": "execute_result"
    }
   ],
   "source": [
    "retrieved_docs"
   ]
  },
  {
   "cell_type": "code",
   "execution_count": 60,
   "id": "83df568c",
   "metadata": {},
   "outputs": [
    {
     "data": {
      "text/plain": [
       "[Document(metadata={'id': '1', 'relevance_score': 0.400299996137619, 'source': ''}, page_content='4.3 * Software safety classification a) The MANUFACTURER shall assign to each SOFTWARE SYSTEM a software safety class (A, B, or C) according to the RISK of HARM to the patient, operator, or other people resulting from a HAZARDOUS SITUATION to which the SOFTWARE SYSTEM can contribute in a worst -case - scenario as indicated in Figure 3. Figure 3 Assigning software safety classification The SOFTWARE SYSTEM is software safety c lass A if : the SOFTWARE SYSTEM cannot contribute to a HAZARDOUS SITUATION ; or the SOFTWARE SYSTEM can contribute to a HAZARDOUS SITUATION which does not result in unacceptable RISK after consideration of RISK CONTROL measures external to the SOFTWARE SYSTEM . The SOFTWARE SYSTEM is software safety c lass B if : the SOFTWARE SYSTEM can contribute to a HAZARDOUS SITUATION which results in unacceptable RISK after consideration of RISK CONTROL measures external to the SOFTWARE SYSTEM and the resulting possible HARM is non-SERIOUS INJURY . The SOFTWARE SYSTEM is'),\n",
       " Document(metadata={'id': '3', 'relevance_score': 0.37940001487731934, 'source': ''}, page_content='. The SOFTWARE SYSTEM is software safety c lass C if : the SOFTWARE SYSTEM can contribute to a HAZARDOUS SITUATION which results in unacceptable RISK after consideration of RISK CONTRO L measures external to the SOFTWARE SYSTEM and the resulting possible HARM is death or SERIOUS INJURY . For a SOFTWARE SYSTEM initially classified as software safety c lass B or C, the MANUFACTURER may implement additional RISK CONTROL measures external to the SOFTWARE SYSTEM (including revising the system architecture containing the SOFTWARE SYSTEM ) and subsequently assign a new software safety classification to the SOFTWARE SYSTEM . NOTE 1 External RISK CONTROL measures can be hardware, an independent SOFTWARE SYSTEM , health care procedures , or other means to minimize that software can contribute to a HAZARDOUS SITUATION . International Electrotechnical Commission Provided by IHS under license with IEC Licensee=Chongqing Institute of quality and Standardization 5990390 Not for Resale, 2015/8/20'),\n",
       " Document(metadata={'id': '2', 'relevance_score': 0.30550000071525574, 'source': ''}, page_content='device software. It may not be universally possible or beneficial to create completely rigid and distinct categories of risk for any one type of function, disease, intervention, population, or user. For any given medical device software , there may be both interdependencies and unequal weight amongst characterization groupings that ultimately inform the underst anding of device risk and, therefore, may impact a subsequent categorization. Further, when addressing the specific contribution to device risk posed by software, considerations like how supplied information will be ingested by a given userbase, as just on e example, may reasonably not have uniform or universal answers across jurisdictions. 5 Ref: IEC 62304, AAMI TIR57, AAMI TIR34971'),\n",
       " Document(metadata={'id': '4', 'relevance_score': 0.21739999949932098, 'source': ''}, page_content='INTRODUCTION Software is often an integral part of MEDICAL DEVICE technology. Establishing the SAFETY and effectiveness of a MEDICAL DEVICE containing software requires knowledge of what the sof tware is intended to do and demonstration that the use of the software fulfils those intentions without causing any unacceptable RISKS . This standard provides a framework of life cycle PROCESSES with ACTIVITIES and TASKS necessary for the safe design and maintenance of MEDICAL DEVICE SOFTW ARE. This standard provides requirements for each life c ycle PROCESS . Each life cycle PROCESS consists of a set of ACTIVITIES , with most ACTIVITIES consisting of a set of TASKS . As a basic foundation it is assumed that MEDICAL DEVICE SOFTW ARE is developed and maintained within a quality management system (see 4.1) and a RISK MANAGEMENT system (see 4.2). The RISK MANAGEMENT PROC ESS is alre ady very well addressed by the International Standard ISO 14971. Therefore IEC 62304 makes use of this advantage'),\n",
       " Document(metadata={'id': '0', 'relevance_score': 0.17679999768733978, 'source': ''}, page_content='to meet European Directives . Software safety classification changes needed for this amendment include clarification of requirements and updating of the software safety classification to include a risk -based approach. Work is continuing in parallel to develop the second edition of IEC 62304. International Electrotechnical Commission Provided by IHS under license with IEC Licensee=Chongqing Institute of quality and Standardization 5990390 Not for Resale, 2015/8/20 09:23:13 No reproduction or networking permitted without license from IHS')]"
      ]
     },
     "execution_count": 60,
     "metadata": {},
     "output_type": "execute_result"
    }
   ],
   "source": [
    "reranked_docs"
   ]
  },
  {
   "cell_type": "code",
   "execution_count": 3,
   "id": "2a521891",
   "metadata": {},
   "outputs": [],
   "source": [
    "from app.services.llm_services.llm_implementation.gemini_models import Gemini25FlashLiteLLM, Gemini25FlashLLM\n",
    "# from app.services.llm_services.graph_pipeline import GraphPipe, ComplianceGraphPipe"
   ]
  },
  {
   "cell_type": "code",
   "execution_count": 4,
   "id": "338a623e",
   "metadata": {},
   "outputs": [],
   "source": [
    "llm = Gemini25FlashLLM()"
   ]
  },
  {
   "cell_type": "code",
   "execution_count": null,
   "id": "86c7663f",
   "metadata": {},
   "outputs": [],
   "source": [
    "# graph = ComplianceGraphPipe(llm=llm)\n",
    "# com_graph = graph.compile_graph()\n",
    "# from IPython.display import Image, display\n",
    "\n",
    "# try:\n",
    "#     display(Image(com_graph.get_graph().draw_mermaid_png()))\n",
    "# except Exception:\n",
    "#     # This requires some extra dependencies and is optional\n",
    "#     pass"
   ]
  },
  {
   "cell_type": "code",
   "execution_count": 6,
   "id": "afbedd7a",
   "metadata": {},
   "outputs": [],
   "source": [
    "with open(r\"C:\\Users\\91882\\Downloads\\prd1.txt\", 'r') as f:\n",
    "    user_input = f.read()"
   ]
  },
  {
   "cell_type": "code",
   "execution_count": 7,
   "id": "5559fd7b",
   "metadata": {},
   "outputs": [
    {
     "name": "stdout",
     "output_type": "stream",
     "text": [
      " INFO : 2025-09-18 09:26:31,383 graph_pipeline.py:214 plan_comliance --> LLM Compliance Planning Completed\n",
      " INFO : 2025-09-18 09:26:31,387 graph_pipeline.py:222 compliance_answer --> Sending LLM Compliance Enrichment Request\n",
      " INFO : 2025-09-18 09:26:52,948 graph_pipeline.py:237 compliance_answer --> LLM Compliance Enrichment Completed\n",
      " INFO : 2025-09-18 09:26:57,715 graph_pipeline.py:222 compliance_answer --> Sending LLM Compliance Enrichment Request\n",
      " INFO : 2025-09-18 09:26:59,069 graph_pipeline.py:237 compliance_answer --> LLM Compliance Enrichment Completed\n",
      " INFO : 2025-09-18 09:27:02,790 graph_pipeline.py:222 compliance_answer --> Sending LLM Compliance Enrichment Request\n",
      " INFO : 2025-09-18 09:27:04,012 graph_pipeline.py:237 compliance_answer --> LLM Compliance Enrichment Completed\n",
      " INFO : 2025-09-18 09:27:08,587 graph_pipeline.py:222 compliance_answer --> Sending LLM Compliance Enrichment Request\n",
      " INFO : 2025-09-18 09:27:09,880 graph_pipeline.py:237 compliance_answer --> LLM Compliance Enrichment Completed\n",
      " INFO : 2025-09-18 09:27:13,154 graph_pipeline.py:222 compliance_answer --> Sending LLM Compliance Enrichment Request\n",
      " INFO : 2025-09-18 09:27:14,660 graph_pipeline.py:237 compliance_answer --> LLM Compliance Enrichment Completed\n",
      " INFO : 2025-09-18 09:27:20,260 graph_pipeline.py:222 compliance_answer --> Sending LLM Compliance Enrichment Request\n",
      " INFO : 2025-09-18 09:27:22,969 graph_pipeline.py:237 compliance_answer --> LLM Compliance Enrichment Completed\n",
      " INFO : 2025-09-18 09:27:22,973 rag_tools.py:65 retrieve_by_standards --> RAG Tool Invoked with query: software development planning IEC 62304 and standard: IEC-62304\n",
      " INFO : 2025-09-18 09:27:30,766 rag_tools.py:76 retrieve_by_standards --> RAG Tool Retrieved 5 documents\n",
      " INFO : 2025-09-18 09:27:30,767 rag_tools.py:65 retrieve_by_standards --> RAG Tool Invoked with query: software safety classification IEC 62304 and standard: IEC-62304\n",
      " INFO : 2025-09-18 09:27:36,792 rag_tools.py:76 retrieve_by_standards --> RAG Tool Retrieved 5 documents\n",
      " INFO : 2025-09-18 09:27:36,794 rag_tools.py:65 retrieve_by_standards --> RAG Tool Invoked with query: software requirements analysis and design IEC 62304 and standard: IEC-62304\n",
      " INFO : 2025-09-18 09:27:41,691 rag_tools.py:76 retrieve_by_standards --> RAG Tool Retrieved 5 documents\n",
      " INFO : 2025-09-18 09:27:41,693 rag_tools.py:65 retrieve_by_standards --> RAG Tool Invoked with query: software verification and testing at different levels IEC 62304 and standard: IEC-62304\n",
      " INFO : 2025-09-18 09:27:48,228 rag_tools.py:76 retrieve_by_standards --> RAG Tool Retrieved 5 documents\n",
      " INFO : 2025-09-18 09:27:48,230 rag_tools.py:65 retrieve_by_standards --> RAG Tool Invoked with query: software configuration management IEC 62304 and standard: IEC-62304\n",
      " INFO : 2025-09-18 09:27:55,673 rag_tools.py:76 retrieve_by_standards --> RAG Tool Retrieved 5 documents\n",
      " INFO : 2025-09-18 09:27:55,674 rag_tools.py:65 retrieve_by_standards --> RAG Tool Invoked with query: software problem resolution and maintenance IEC 62304 and standard: IEC-62304\n",
      " INFO : 2025-09-18 09:28:00,782 rag_tools.py:76 retrieve_by_standards --> RAG Tool Retrieved 5 documents\n",
      " INFO : 2025-09-18 09:28:00,783 rag_tools.py:65 retrieve_by_standards --> RAG Tool Invoked with query: risk management activities ISO 14971 principles IEC 62304 and standard: IEC-62304\n",
      " INFO : 2025-09-18 09:28:05,959 rag_tools.py:76 retrieve_by_standards --> RAG Tool Retrieved 5 documents\n",
      " INFO : 2025-09-18 09:28:05,962 graph_pipeline.py:222 compliance_answer --> Sending LLM Compliance Enrichment Request\n",
      " INFO : 2025-09-18 09:28:29,527 graph_pipeline.py:237 compliance_answer --> LLM Compliance Enrichment Completed\n"
     ]
    }
   ],
   "source": [
    "final_state = com_graph.invoke({\"messages\": [{\"role\": \"user\", \"content\": user_input}]})"
   ]
  },
  {
   "cell_type": "code",
   "execution_count": 11,
   "id": "eb876bf4",
   "metadata": {},
   "outputs": [
    {
     "name": "stdout",
     "output_type": "stream",
     "text": [
      "Enriched Compliance Requirements:\n",
      "\n",
      "**1. HIPAA Compliance**\n",
      "\n",
      "*   **Standard Name:** HIPAA (45 CFR Part 164 - Security Rule, 45 CFR Part 164 - Privacy Rule, 45 CFR Part 162 - Electronic Transactions Rule, 45 CFR Part 164 - Breach Notification Rule)\n",
      "*   **Clause/ID:** 45 CFR Part 164 (specifically Subparts C, D, and E), 45 CFR Part 162\n",
      "*   **Requirement Title:** Protection of Protected Health Information (PHI) and Electronic Protected Health Information (ePHI), Electronic Transaction Standards, Audit Controls, Administrative, Physical, and Technical Safeguards, and Breach Notification Procedures.\n",
      "*   **Requirement Text:** The HIPAA Security Rule (45 CFR Part 164, Subpart C) establishes national security standards to protect certain health information in electronic form, including financial data storage. The Privacy Rule (45 CFR Part 164, Subpart E) governs the uses and disclosures of protected health information. The Electronic Transactions Rule (45 CFR Part 162) mandates adherence to electronic transaction standards for claims submission (e.g., X12 EDI for 837, 835). Covered entities must also maintain audit trails for access and modifications to ePHI, implement administrative, physical, and technical safeguards, and follow breach notification procedures as outlined in 45 CFR Part 164, Subpart D.\n",
      "*   **Relevance Note:** This applies directly to the RCM system due to its handling of sensitive patient financial and health information (PHI/ePHI), its role in electronic claims submission, and the necessity of safeguarding data, maintaining auditability, and managing potential breaches within a healthcare context.\n",
      "\n",
      "**2. PCI-DSS Compliance**\n",
      "\n",
      "*   **Standard Name:** PCI-DSS (Payment Card Industry Data Security Standard)\n",
      "*   **Clause/ID:** Not explicitly defined in retrieved content, but refers to the overall PCI-DSS standard document.\n",
      "*   **Requirement Title:** Secure Handling of Payment Card Data\n",
      "*   **Requirement Text:** PCI-DSS mandates comprehensive security for payment card data. Key requirements include end-to-end encryption for payment account data in transit and at rest, secure network architecture, including firewall configurations, and protection of stored cardholder data. It also requires the implementation of strong access control measures, such as Role-Based Access Control (RBAC), regular monitoring and testing of networks, and the establishment and maintenance of an information security policy.\n",
      "*   **Relevance Note:** This is directly relevant as the RCM system supports multiple payment methods, including card payments, and therefore processes and stores sensitive cardholder data, necessitating adherence to industry standards for payment security.\n",
      "\n",
      "**3. Medical Coding Standards Adherence**\n",
      "\n",
      "*   **Standard Name:** ICD-10 (International Classification of Diseases, 10th Revision), CPT (Current Procedural Terminology), HCPCS (Healthcare Common Procedure Coding System)\n",
      "*   **Clause/ID:** Not explicitly defined in retrieved content, refers to the official code sets and their respective guidelines.\n",
      "*   **Requirement Title:** Accurate Utilization and Maintenance of Medical Coding Standards\n",
      "*   **Requirement Text:** The RCM system must accurately support and utilize ICD-10-CM/PCS for diagnoses and procedures, CPT for medical, surgical, and diagnostic procedures, and HCPCS Level II for medical products, supplies, and services. These coding systems are vital for healthcare documentation, data management, and accurate claim generation. Maintaining up-to-date code sets and guidelines from official sources like CDC (ICD-10-CM), CMS (ICD-10-PCS, HCPCS Level II), and AMA (CPT) is crucial for compliant billing and claims processing.\n",
      "*   **Relevance Note:** This is directly applicable as the RCM system's core functionality includes auto-generating claims based on services rendered and coding, which explicitly requires accurate and up-to-date implementation of these medical coding standards.\n",
      "\n",
      "**4. Audit & Accountability**\n",
      "\n",
      "*   **Standard Name:** General Financial & Billing Regulations (U.S. Context) (e.g., CMS, HHS OIG, False Claims Act, Anti-Kickback Statute), NIST SP 800-92, ISO/IEC 27002 principles.\n",
      "*   **Clause/ID:** Not explicitly defined as a single clause, but derived from principles of various regulations and best practices. (e.g., principles from NIST SP 800-92 for log management).\n",
      "*   **Requirement Title:** Comprehensive Audit Trails and Fraud Prevention\n",
      "*   **Requirement Text:** The system must maintain a detailed audit trail for every financial transaction, enabling the generation of comprehensive audit reports for regulatory compliance and internal review. This includes logging security events in sufficient detail and for an appropriate period. Furthermore, the system should incorporate features for the detection and alerting of suspicious billing activity, aligning with fraud prevention initiatives outlined by bodies like CMS and HHS OIG (e.g., related to False Claims Act and Anti-Kickback Statute).\n",
      "*   **Relevance Note:** Critical for financial integrity, regulatory compliance (especially with healthcare fraud and abuse laws), and internal control for the RCM system, which handles financial transactions and billing.\n",
      "\n",
      "**5. Data Integrity & Accuracy**\n",
      "\n",
      "*   **Standard Name:** General Financial & Billing Regulations (U.S. Context) (e.g., CMS), and general quality assurance principles.\n",
      "*   **Clause/ID:** Not explicitly defined as a single clause.\n",
      "*   **Requirement Title:** Accurate Financial Calculations, Verification, and Reporting\n",
      "*   **Requirement Text:** The RCM system must ensure accurate auto-calculation of co-payments, deductibles, and outstanding balances. It must reliably verify insurance eligibility, generate accurate claims based on rendered services and correct coding, and track claim status and revenue precisely. Accurate financial reporting is essential for both internal and external stakeholders, aligning with general billing accuracy requirements from regulatory bodies like CMS.\n",
      "*   **Relevance Note:** Fundamental to the RCM system's primary function of financial management in healthcare, directly impacting billing accuracy, timely reimbursements, and overall financial health.\n",
      "\n",
      "**6. Security & Access Control**\n",
      "\n",
      "*   **Standard Name:** HIPAA (45 CFR Part 164 - Security Rule), PCI-DSS, NIST SP 800-53, ISO/IEC 27001/27002 principles.\n",
      "*   **Clause/ID:** 45 CFR Part 164 Subpart C (HIPAA Security Rule), principles from NIST SP 800-53.\n",
      "*   **Requirement Title:** Robust Data Encryption and Role-Based Access Control\n",
      "*   **Requirement Text:** Sensitive data, including patient and financial information, must be protected with end-to-end encryption, both in transit and at rest, as mandated by standards like HIPAA and PCI-DSS. The system must implement strong Role-Based Access Control (RBAC) for all system functionalities and data access, ensuring that users only have access to the information and functions necessary for their roles. This aligns with security control guidelines found in NIST Special Publication 800-53 and ISO/IEC 27001/27002.\n",
      "*   **Relevance Note:** Essential for protecting sensitive healthcare and financial data within the RCM system, ensuring compliance with HIPAA, PCI-DSS, and general information security best practices.\n",
      "\n",
      "**7. Reliability & Performance**\n",
      "\n",
      "*   **Standard Name:** IEC 62304 (as a best practice for software lifecycle processes), general software engineering principles.\n",
      "*   **Clause/ID:** Not directly a regulatory clause but a performance requirement supported by robust software development practices.\n",
      "*   **Requirement Title:** Error-Free Processing and High System Availability\n",
      "*   **Requirement Text:** The RCM system must be capable of processing a high volume of claims (e.g., 500 claims/hour) without errors. This level of reliability directly impacts the accuracy and timeliness of compliance-related processes, such as claim generation and submission. Furthermore, the system must demonstrate high availability (e.g., 99.9% uptime) to ensure continuous and compliant operations, preventing disruptions in billing and revenue cycles. Adhering to structured software development processes, as outlined in standards like IEC 62304, can contribute to achieving these reliability and performance targets.\n",
      "*   **Relevance Note:** While not a direct regulatory requirement for an RCM system, robust reliability and performance are critical non-functional requirements that indirectly support and enable consistent compliance with all other regulations by ensuring accurate, timely, and uninterrupted operations. Applying principles from IEC 62304 for software development planning, design, and testing can foster this reliability.\n",
      "\n",
      "**8. IEC 62304 (Conditional - for Software Life Cycle Best Practices)**\n",
      "\n",
      "*   **Standard Name:** IEC 62304 (Medical device software – Software life cycle processes)\n",
      "*   **Clause/ID:** 5.1 (Software development planning), 4.3 (Software safety classification), 5.3 (Software architectural design), 5.4 (Software detailed design), 5.5 (Software unit implementation and verification), 5.6 (Software integration and integration testing), 5.7 (Software system testing), 5.8 (Software release), 8 (Software configuration management PROCESS), 9 (Software problem resolution PROCESS), 7 (Software risk management PROCESS)\n",
      "*   **Requirement Title:** Structured Software Development and Risk Management Lifecycle\n",
      "*   **Requirement Text:** If adopted as a best practice, the RCM system's software development should follow a structured lifecycle, including comprehensive software development planning (5.1), and considering a software safety classification (4.3) even if not strictly a medical device, to guide development rigor. This involves detailed software requirements analysis and design (5.3, 5.4), thorough software verification and testing at different levels (5.5, 5.6, 5.7), robust software configuration management (Clause 8) for identifying and controlling changes, and a defined software problem resolution process (Clause 9) for addressing and tracking issues. Furthermore, integrating risk management activities, aligning with ISO 14971 principles (Clause 7), within the software lifecycle is recommended to identify and mitigate software-related risks.\n",
      "*   **Relevance Note:** Although the RCM system is not a medical device, applying the principles of IEC 62304 as a \"least unsuitable\" standard provides a structured approach to software development, risk management, and maintenance. This ensures a higher level of quality, reliability, and safety for any critical software handling sensitive healthcare data and financial transactions, even if it's an indirect application rather than a direct regulatory mandate.\n"
     ]
    }
   ],
   "source": [
    "print(final_state[\"messages\"][-1].content)"
   ]
  },
  {
   "cell_type": "code",
   "execution_count": 1,
   "id": "73c0c72d",
   "metadata": {},
   "outputs": [
    {
     "name": "stderr",
     "output_type": "stream",
     "text": [
      "d:\\GenAI-Hackathon\\.venv\\Lib\\site-packages\\vertexai\\_model_garden\\_model_garden_models.py:278: UserWarning: This feature is deprecated as of June 24, 2025 and will be removed on June 24, 2026. For details, see https://cloud.google.com/vertex-ai/generative-ai/docs/deprecations/genai-vertexai-sdk.\n",
      "  warning_logs.show_deprecation_warning()\n"
     ]
    }
   ],
   "source": [
    "from app.services.llm_services.tools.rag_tools import retrieve_by_standards"
   ]
  },
  {
   "cell_type": "code",
   "execution_count": 2,
   "id": "a2b4bee0",
   "metadata": {},
   "outputs": [
    {
     "name": "stdout",
     "output_type": "stream",
     "text": [
      " INFO : 2025-09-18 09:16:45,857 rag_tools.py:65 retrieve_by_standards --> RAG Tool Invoked with query: IEC 62304 Software Development Process Clause 5, Software Configuration Management Process Clause 6, Software Maintenance Process Clause 7 and standard: IEC-62304\n",
      " INFO : 2025-09-18 09:16:54,130 rag_tools.py:76 retrieve_by_standards --> RAG Tool Retrieved 5 documents\n"
     ]
    },
    {
     "data": {
      "text/plain": [
       "\"[{'query': 'IEC 62304 Software Development Process Clause 5, Software Configuration Management Process Clause 6, Software Maintenance Process Clause 7', 'standard': 'IEC', 'contents': 'and VERIFICATION5.6 Software integration and integration testing6.2 Problem and modification analysis6.1 Establish software maintenance plan Figure 2 Overview of software maintenance PROCESSES and ACTIVITIES This standard identifies two additional PROCESSES considered essential for developing safe MEDICAL DEVICE SOFTW ARE. They are the softwar e configuration management PROCESS (Clause 8) and the software problem resolution PROCESS (Clause 9). Amendment 1 updates the standard to add requirements to deal with LEGACY SOFTWARE , where the software design is prior to the existence of the current version, to assist manufacturers who must show compliance to the standard to meet European Directives . Software safety IEC 722/06 IEC 72 3/06 International Electrotechnical Commission Provided by IHS under license with IEC Licensee=Chongqing Institute of quality and Standardization 5990390 Not for Resale, 2015/8/20 09:23:13 No reproduction or networking permitted without license from IHS'}, {'query': 'IEC 62304 Software Development Process Clause 5, Software Configuration Management Process Clause 6, Software Maintenance Process Clause 7', 'standard': 'IEC', 'contents': 'integration and VERIFICATION resultsSubsystem VERIFICATION resultsPEMS VERIFICATION resultsPEMS validation results Software unit implementation Key: Boxes represent typical development lifecycle activitiesSolid Arrows indicate typical deliverables transfered into/out of activitiesDotted arrows indicate deliverables just to the Risk Management FileOutputs from problem resolution process Inputs to problem resolution processPortion of PEMS V-model includedin IEC 62304 Figure C.2 Software as part of the V -model C.4.3 Development PROCESS Compliance with the software development PROCESS of this standard (Clause 5) requires that a software development plan be specified and then followed; it does not require that any particular life cycle model is used, but it does require that the plan include certain ACTIVITIES and have certain attributes. These requirements relate to the PEMS requirements in IEC 606011 for development life cycle, requirement specification, ARCHITECTURE , design and'}, {'query': 'IEC 62304 Software Development Process Clause 5, Software Configuration Management Process Clause 6, Software Maintenance Process Clause 7', 'standard': 'IEC', 'contents': 'INTRODUCTION Software is often an integral part of MEDICAL DEVICE technology. Establishing the SAFETY and effectiveness of a MEDICAL DEVICE containing software requires knowledge of what the sof tware is intended to do and demonstration that the use of the software fulfils those intentions without causing any unacceptable RISKS . This standard provides a framework of life cycle PROCESSES with ACTIVITIES and TASKS necessary for the safe design and maintenance of MEDICAL DEVICE SOFTW ARE. This standard provides requirements for each life c ycle PROCESS . Each life cycle PROCESS consists of a set of ACTIVITIES , with most ACTIVITIES consisting of a set of TASKS . As a basic foundation it is assumed that MEDICAL DEVICE SOFTW ARE is developed and maintained within a quality management system (see 4.1) and a RISK MANAGEMENT system (see 4.2). The RISK MANAGEMENT PROC ESS is alre ady very well addressed by the International Standard ISO 14971. Therefore IEC 62304 makes use of this advantage'}, {'query': 'IEC 62304 Software Development Process Clause 5, Software Configuration Management Process Clause 6, Software Maintenance Process Clause 7', 'standard': 'IEC', 'contents': 'verification 7.3.6 Design and development validation 7.1 Analysis of software contributing to hazardous situations 7.2 R ISK CONTROL measures 7.3 V ERIFICATION of RISK CONTROL measures 7.4 R ISK MANAGEMENT of software changes 8.1 Configuration identification 7.5.3 Identification and TRACEABILITY 8.2 Change control 7.5.3 Identification and TRACEABILITY 8.3 Configuration status accounting 9 Software problem resolution PROCESS C.3 Relationship to ISO 14971 Table C.2 shows the areas where IEC 62304 amplifies requirements for the RISK MANAGEMENT PROCESS required by ISO 14971. International Electrotechnical Commission Provided by IHS under license with IEC Licensee=Chongqing Institute of quality and Standardization 5990390 Not for Resale, 2015/8/20 09:23:13 No reproduction or networking permitted without license from IHS'}, {'query': 'IEC 62304 Software Development Process Clause 5, Software Configuration Management Process Clause 6, Software Maintenance Process Clause 7', 'standard': 'IEC', 'contents': 'resolution PROCESS for handling problems detected in the LEGACY SOFTWARE and DELIVERABLES in accordance with Clause 9. c) Changes to the LEGACY SOFTWARE shall be performed in accordance with Clause 6. 4.4.5 Rationale for use of LEGACY SOFTWARE The MANUFACTURER shall document the VERSION of the LEGACY SOFTWARE together with a rationale for the continued use of the LEGACY SOFTWARE based on the outputs of 4.4. NOTE Fulfilling 4.4 enables further use of LEGACY SOFTWARE in accordance with IEC 62304. 5 Software development PROCESS 5.1 * Software development planning 5.1.1 Software development plan The MANUFACTURER shall establish a software development plan (or plans) for conducting the ACTIVITIES of the software development PROCESS appropriate to the scope, magnitude, and software safety classifications of the SOFTWARE SYSTEM to be developed. The s OFTWARE DEVELOPMENT LIFE CYCLE MODEL shall either be fully defined or be referenced in the plan (or plans). The plan shall address the'}]\""
      ]
     },
     "execution_count": 2,
     "metadata": {},
     "output_type": "execute_result"
    }
   ],
   "source": [
    "retrieve_by_standards(\"IEC 62304 Software Development Process Clause 5, Software Configuration Management Process Clause 6, Software Maintenance Process Clause 7\", \"IEC\")"
   ]
  },
  {
   "cell_type": "code",
   "execution_count": 1,
   "id": "226932ff",
   "metadata": {},
   "outputs": [
    {
     "name": "stderr",
     "output_type": "stream",
     "text": [
      "d:\\GenAI-Hackathon\\.venv\\Lib\\site-packages\\vertexai\\_model_garden\\_model_garden_models.py:278: UserWarning: This feature is deprecated as of June 24, 2025 and will be removed on June 24, 2026. For details, see https://cloud.google.com/vertex-ai/generative-ai/docs/deprecations/genai-vertexai-sdk.\n",
      "  warning_logs.show_deprecation_warning()\n"
     ]
    }
   ],
   "source": [
    "from app.services.llm_services.graph_pipeline import GraphPipe\n",
    "from app.services.llm_services.llm_implementation.gemini_models import Gemini25FlashLiteLLM, Gemini25FlashLLM\n",
    "llm = Gemini25FlashLLM()"
   ]
  },
  {
   "cell_type": "code",
   "execution_count": 2,
   "id": "92d9d949",
   "metadata": {},
   "outputs": [],
   "source": [
    "graph = GraphPipe(llm = llm)\n",
    "comp_graph = graph.compile_graph()"
   ]
  },
  {
   "cell_type": "code",
   "execution_count": 3,
   "id": "a3152d28",
   "metadata": {},
   "outputs": [],
   "source": [
    "from IPython.display import Image, display"
   ]
  },
  {
   "cell_type": "code",
   "execution_count": 4,
   "id": "d3346bdc",
   "metadata": {},
   "outputs": [
    {
     "data": {
      "image/png": "[encoded data removed]",
      "text/plain": [
       "<IPython.core.display.Image object>"
      ]
     },
     "metadata": {},
     "output_type": "display_data"
    }
   ],
   "source": [
    "display(Image(comp_graph.get_graph().draw_mermaid_png()))"
   ]
  },
  {
   "cell_type": "code",
   "execution_count": null,
   "id": "d9789f95",
   "metadata": {},
   "outputs": [],
   "source": []
  },
  {
   "cell_type": "code",
   "execution_count": null,
   "id": "ea676d05",
   "metadata": {},
   "outputs": [],
   "source": []
  }
 ],
 "metadata": {
  "kernelspec": {
   "display_name": ".venv",
   "language": "python",
   "name": "python3"
  },
  "language_info": {
   "codemirror_mode": {
    "name": "ipython",
    "version": 3
   },
   "file_extension": ".py",
   "mimetype": "text/x-python",
   "name": "python",
   "nbconvert_exporter": "python",
   "pygments_lexer": "ipython3",
   "version": "3.12.4"
  }
 },
 "nbformat": 4,
 "nbformat_minor": 5
}
